{
 "metadata": {
  "name": "",
  "signature": "sha256:23c6eadf8bbe336f213361fdb251bf1f7486351284a57ed74ccd1ff218be6757"
 },
 "nbformat": 3,
 "nbformat_minor": 0,
 "worksheets": [
  {
   "cells": [
    {
     "cell_type": "markdown",
     "metadata": {},
     "source": [
      "#Code to download a set of bugs from Launchpad for a given project\n",
      "\n",
      "depends on lp_fetch_object(obj) contined in lp_dloadload_object"
     ]
    },
    {
     "cell_type": "heading",
     "level": 2,
     "metadata": {},
     "source": [
      "Includes"
     ]
    },
    {
     "cell_type": "code",
     "collapsed": false,
     "input": [
      "from launchpadlib.launchpad import Launchpad\n",
      "import pprint as pp\n",
      "import httplib2\n",
      "#httplib2.debuglevel = 1\n",
      "#import cPickle as pickle\n",
      "import pickle\n",
      "import os"
     ],
     "language": "python",
     "metadata": {},
     "outputs": [],
     "prompt_number": 1
    },
    {
     "cell_type": "heading",
     "level": 2,
     "metadata": {},
     "source": [
      "Globals"
     ]
    },
    {
     "cell_type": "code",
     "collapsed": false,
     "input": [
      "cachedir = \"/Users/doug/ipython/launchpad/cache/\"\n",
      "lp = Launchpad.login_anonymously('just testing', 'production', cachedir)"
     ],
     "language": "python",
     "metadata": {},
     "outputs": [],
     "prompt_number": 2
    },
    {
     "cell_type": "code",
     "collapsed": false,
     "input": [
      "lp_excludes = pickle.load(open( \"lp_excludes.p\", \"rb\" ) )"
     ],
     "language": "python",
     "metadata": {},
     "outputs": [],
     "prompt_number": 3
    },
    {
     "cell_type": "code",
     "collapsed": false,
     "input": [
      "ALL_BUGS = {}"
     ],
     "language": "python",
     "metadata": {},
     "outputs": [],
     "prompt_number": 4
    },
    {
     "cell_type": "heading",
     "level": 2,
     "metadata": {},
     "source": [
      "Code"
     ]
    },
    {
     "cell_type": "code",
     "collapsed": false,
     "input": [
      "def lp_fetch_object(obj, \n",
      "                    exclude=[], \n",
      "                    include=['lp_attributes','lp_entries','lp_collections'],\n",
      "                    debug=False):\n",
      "    global lp_excludes\n",
      "    if not exclude:\n",
      "        resource_type_link = obj.resource_type_link\n",
      "        if resource_type_link in lp_excludes:\n",
      "            #print 'found'\n",
      "            exclude = lp_excludes[resource_type_link]\n",
      "        elif debug:\n",
      "            print 'Exclusion list not found for:', resource_type_link\n",
      "    result = {}\n",
      "    result['resource_type'] = obj.resource_type_link.split('/')[-1]\n",
      "    \n",
      "    if 'lp_attributes' in include:\n",
      "        for name in obj.lp_attributes:\n",
      "            if name not in exclude:\n",
      "                #print 'Fetching', name\n",
      "                try:\n",
      "                    if name.startswith(\"date_\"):\n",
      "                        result[name] = str(getattr(obj, name))\n",
      "                    else:\n",
      "                        result[name] = getattr(obj, name)\n",
      "                except Exception, e:\n",
      "                    pass\n",
      "            elif debug:\n",
      "                print 'Skipping', name\n",
      "                pass\n",
      "                \n",
      "    if 'lp_entries' in include:\n",
      "        for name in obj.lp_entries:\n",
      "            if name not in exclude:\n",
      "                try:\n",
      "                    if name.startswith(\"date_\"):\n",
      "                        result[name] = str(getattr(obj, name))\n",
      "                    else:\n",
      "                        result[name] = getattr(obj, name)\n",
      "                except Exception, e:\n",
      "                    pass\n",
      "            elif debug:\n",
      "                print 'Skipping', name\n",
      "                pass\n",
      "                \n",
      "    if 'lp_collections' in include:\n",
      "        for name in obj.lp_collections:\n",
      "            if name not in exclude:\n",
      "                try:\n",
      "                    result[name] = [x for x in getattr(obj, name)]\n",
      "                except Exception, e:\n",
      "                    pass\n",
      "            elif debug:\n",
      "                print 'Skipping', name\n",
      "                pass\n",
      "        \n",
      "    return result"
     ],
     "language": "python",
     "metadata": {},
     "outputs": [],
     "prompt_number": 5
    },
    {
     "cell_type": "code",
     "collapsed": false,
     "input": [
      "#adds bug entry to ALL_BUGS unless already present\n",
      "def fetch_bug(bugno):\n",
      "    global ALL_BUGS\n",
      "    if bugno in ALL_BUGS:\n",
      "        return\n",
      "    bug = lp_fetch_object(lp.bugs[bugno])\n",
      "    #now fetch associated messages\n",
      "    bug['messages'] = [lp_fetch_object(msg) for msg in bug['messages']]\n",
      "    \n",
      "    ALL_BUGS[bugno] = bug"
     ],
     "language": "python",
     "metadata": {},
     "outputs": [],
     "prompt_number": 6
    },
    {
     "cell_type": "raw",
     "metadata": {},
     "source": [
      "#test code for above\n",
      "fetch_bug('653344')\n",
      "pp.pprint(ALL_BUGS)"
     ]
    },
    {
     "cell_type": "code",
     "collapsed": false,
     "input": [
      "def fetch_unique_bugno(project_name):\n",
      "    unique_bugs = {}\n",
      "    project = lp.distributions[project_name]\n",
      "    bug_tasks = project.searchTasks(status = ['Confirmed', 'In Progress','Fix Committed', 'Fix Released'])\n",
      "    for b in bug_tasks:\n",
      "        bugno = str(b).split('/')[-1]\n",
      "        unique_bugs[bugno] = 1\n",
      "    return unique_bugs"
     ],
     "language": "python",
     "metadata": {},
     "outputs": [],
     "prompt_number": 7
    },
    {
     "cell_type": "code",
     "collapsed": false,
     "input": [
      "def fetch_all_bugs(project_name, limit=-1, prior={}):\n",
      "    global ALL_BUGS\n",
      "    ALL_BUGS = {}\n",
      "    \n",
      "    unique_bugs = fetch_unique_bugno(project_name)\n",
      "    print 'total bugs:', len(unique_bugs)\n",
      "    new_bugs = [k for k in unique_bugs.keys() if k not in prior]\n",
      "    print 'bugs to be downloaded:', len(new_bugs)\n",
      "\n",
      "    for bugno in new_bugs:\n",
      "        print '.',\n",
      "        fetch_bug(bugno)\n",
      "        \n",
      "        limit -= 1\n",
      "        if limit == 0:\n",
      "            return"
     ],
     "language": "python",
     "metadata": {},
     "outputs": [],
     "prompt_number": 16
    },
    {
     "cell_type": "raw",
     "metadata": {},
     "source": [
      "#debug\n",
      "fetch_all_bugs('nova', limit=10)\n",
      "pp.pprint(ALL_BUGS)"
     ]
    },
    {
     "cell_type": "code",
     "collapsed": false,
     "input": [
      "def pickle_clean(foo):\n",
      "    if type(foo) == list:\n",
      "        return [pickle_clean(i) for i in foo]\n",
      "    elif type(foo) == dict:\n",
      "        result = {}\n",
      "        for k, v in foo.items():\n",
      "            result[k] = pickle_clean(v)\n",
      "        return result\n",
      "    elif type(foo) == set:\n",
      "        return set([pickle_clean(i) for i in foo])\n",
      "    elif type(foo) == unicode:\n",
      "        return foo\n",
      "    else:\n",
      "        return str(foo)"
     ],
     "language": "python",
     "metadata": {},
     "outputs": [],
     "prompt_number": 9
    },
    {
     "cell_type": "code",
     "collapsed": false,
     "input": [
      "# note:  This routine assumes all data stored in-memory.  May be more efficient mechanisms\n",
      "\n",
      "def download_and_pickle_bugs(project, update=True, limit=-1):\n",
      "    global ALL_BUGS\n",
      "    \n",
      "    pname =\"lp_\" + project + \"_bugs.p\"\n",
      "    prior = {}\n",
      "    #see if prior version exists\n",
      "    if update:\n",
      "        try:\n",
      "            prior = pickle.load(open( pname, \"rb\" ) )\n",
      "            os.rename(pname, pname+'.old')\n",
      "            print 'Total prior bugs:', len(prior)\n",
      "        except Exception, e:\n",
      "            prior = {}\n",
      "\n",
      "    #fetch incremental bugs\n",
      "    fetch_all_bugs(project, limit=limit, prior=prior)\n",
      "    \n",
      "    #clean-up for pickling\n",
      "    for k in ALL_BUGS.keys():\n",
      "        del ALL_BUGS[k]['bug_tasks']\n",
      "        del ALL_BUGS[k]['owner']\n",
      "        \n",
      "    ALL_BUGS = pickle_clean(ALL_BUGS)\n",
      "    \n",
      "    print 'New bugs downloaded:', len(ALL_BUGS)\n",
      "    \n",
      "    print 'Prior bugs downloaded:', len(prior)\n",
      "\n",
      "    #merge prior results\n",
      "    for k, v in prior.items():\n",
      "        ALL_BUGS[k] = v\n",
      "    print 'Final bugs:', len(ALL_BUGS)\n",
      "    \n",
      "    #save\n",
      "    pickle.dump(ALL_BUGS, open(pname, \"wb\" ) )"
     ],
     "language": "python",
     "metadata": {},
     "outputs": [],
     "prompt_number": 10
    },
    {
     "cell_type": "heading",
     "level": 1,
     "metadata": {},
     "source": [
      "Top Level"
     ]
    },
    {
     "cell_type": "code",
     "collapsed": false,
     "input": [
      "download_and_pickle_bugs('nova')"
     ],
     "language": "python",
     "metadata": {},
     "outputs": [
      {
       "output_type": "stream",
       "stream": "stdout",
       "text": [
        "Total prior bugs: 5736\n",
        "total bugs:"
       ]
      },
      {
       "output_type": "stream",
       "stream": "stdout",
       "text": [
        " 5936\n",
        "bugs to be downloaded: 201\n",
        ".\n",
        "."
       ]
      },
      {
       "output_type": "stream",
       "stream": "stdout",
       "text": [
        "\n",
        "."
       ]
      },
      {
       "output_type": "stream",
       "stream": "stdout",
       "text": [
        "\n",
        "."
       ]
      },
      {
       "output_type": "stream",
       "stream": "stdout",
       "text": [
        "\n",
        "."
       ]
      },
      {
       "output_type": "stream",
       "stream": "stdout",
       "text": [
        "\n",
        "."
       ]
      },
      {
       "output_type": "stream",
       "stream": "stdout",
       "text": [
        "\n",
        "."
       ]
      },
      {
       "output_type": "stream",
       "stream": "stdout",
       "text": [
        "\n",
        "."
       ]
      },
      {
       "output_type": "stream",
       "stream": "stdout",
       "text": [
        "\n",
        "."
       ]
      },
      {
       "output_type": "stream",
       "stream": "stdout",
       "text": [
        "\n",
        "."
       ]
      },
      {
       "output_type": "stream",
       "stream": "stdout",
       "text": [
        "\n",
        "."
       ]
      },
      {
       "output_type": "stream",
       "stream": "stdout",
       "text": [
        "\n",
        "."
       ]
      },
      {
       "output_type": "stream",
       "stream": "stdout",
       "text": [
        "\n",
        "."
       ]
      },
      {
       "output_type": "stream",
       "stream": "stdout",
       "text": [
        "\n",
        "."
       ]
      },
      {
       "output_type": "stream",
       "stream": "stdout",
       "text": [
        "\n",
        "."
       ]
      },
      {
       "output_type": "stream",
       "stream": "stdout",
       "text": [
        "\n",
        "."
       ]
      },
      {
       "output_type": "stream",
       "stream": "stdout",
       "text": [
        "\n",
        "."
       ]
      },
      {
       "output_type": "stream",
       "stream": "stdout",
       "text": [
        "\n",
        "."
       ]
      },
      {
       "output_type": "stream",
       "stream": "stdout",
       "text": [
        "\n",
        "."
       ]
      },
      {
       "output_type": "stream",
       "stream": "stdout",
       "text": [
        "\n",
        "."
       ]
      },
      {
       "output_type": "stream",
       "stream": "stdout",
       "text": [
        "\n",
        "."
       ]
      },
      {
       "output_type": "stream",
       "stream": "stdout",
       "text": [
        "\n",
        "."
       ]
      },
      {
       "output_type": "stream",
       "stream": "stdout",
       "text": [
        "\n",
        "."
       ]
      },
      {
       "output_type": "stream",
       "stream": "stdout",
       "text": [
        "\n",
        "."
       ]
      },
      {
       "output_type": "stream",
       "stream": "stdout",
       "text": [
        "\n",
        "."
       ]
      },
      {
       "output_type": "stream",
       "stream": "stdout",
       "text": [
        "\n",
        "."
       ]
      },
      {
       "output_type": "stream",
       "stream": "stdout",
       "text": [
        "\n",
        "."
       ]
      },
      {
       "output_type": "stream",
       "stream": "stdout",
       "text": [
        "\n",
        "."
       ]
      },
      {
       "output_type": "stream",
       "stream": "stdout",
       "text": [
        "\n",
        "."
       ]
      },
      {
       "output_type": "stream",
       "stream": "stdout",
       "text": [
        "\n",
        "."
       ]
      },
      {
       "output_type": "stream",
       "stream": "stdout",
       "text": [
        "\n",
        "."
       ]
      },
      {
       "output_type": "stream",
       "stream": "stdout",
       "text": [
        "\n",
        "."
       ]
      },
      {
       "output_type": "stream",
       "stream": "stdout",
       "text": [
        "\n",
        "."
       ]
      },
      {
       "output_type": "stream",
       "stream": "stdout",
       "text": [
        "\n",
        "."
       ]
      },
      {
       "output_type": "stream",
       "stream": "stdout",
       "text": [
        "\n",
        "."
       ]
      },
      {
       "output_type": "stream",
       "stream": "stdout",
       "text": [
        "\n",
        "."
       ]
      },
      {
       "output_type": "stream",
       "stream": "stdout",
       "text": [
        "\n",
        "."
       ]
      },
      {
       "output_type": "stream",
       "stream": "stdout",
       "text": [
        "\n",
        "."
       ]
      },
      {
       "output_type": "stream",
       "stream": "stdout",
       "text": [
        "\n",
        "."
       ]
      },
      {
       "output_type": "stream",
       "stream": "stdout",
       "text": [
        "\n",
        "."
       ]
      },
      {
       "output_type": "stream",
       "stream": "stdout",
       "text": [
        "\n",
        "."
       ]
      },
      {
       "output_type": "stream",
       "stream": "stdout",
       "text": [
        "\n",
        "."
       ]
      },
      {
       "output_type": "stream",
       "stream": "stdout",
       "text": [
        "\n",
        "."
       ]
      },
      {
       "output_type": "stream",
       "stream": "stdout",
       "text": [
        "\n",
        "."
       ]
      },
      {
       "output_type": "stream",
       "stream": "stdout",
       "text": [
        "\n",
        "."
       ]
      },
      {
       "output_type": "stream",
       "stream": "stdout",
       "text": [
        "\n",
        "."
       ]
      },
      {
       "output_type": "stream",
       "stream": "stdout",
       "text": [
        "\n",
        "."
       ]
      },
      {
       "output_type": "stream",
       "stream": "stdout",
       "text": [
        "\n",
        "."
       ]
      },
      {
       "output_type": "stream",
       "stream": "stdout",
       "text": [
        "\n",
        "."
       ]
      },
      {
       "output_type": "stream",
       "stream": "stdout",
       "text": [
        "\n",
        "."
       ]
      },
      {
       "output_type": "stream",
       "stream": "stdout",
       "text": [
        "\n",
        "."
       ]
      },
      {
       "output_type": "stream",
       "stream": "stdout",
       "text": [
        "\n",
        "."
       ]
      },
      {
       "output_type": "stream",
       "stream": "stdout",
       "text": [
        "\n",
        "."
       ]
      },
      {
       "output_type": "stream",
       "stream": "stdout",
       "text": [
        "\n",
        "."
       ]
      },
      {
       "output_type": "stream",
       "stream": "stdout",
       "text": [
        "\n",
        "."
       ]
      },
      {
       "output_type": "stream",
       "stream": "stdout",
       "text": [
        "\n",
        "."
       ]
      },
      {
       "output_type": "stream",
       "stream": "stdout",
       "text": [
        "\n",
        "."
       ]
      },
      {
       "output_type": "stream",
       "stream": "stdout",
       "text": [
        "\n",
        "."
       ]
      },
      {
       "output_type": "stream",
       "stream": "stdout",
       "text": [
        "\n",
        "."
       ]
      },
      {
       "output_type": "stream",
       "stream": "stdout",
       "text": [
        "\n",
        "."
       ]
      },
      {
       "output_type": "stream",
       "stream": "stdout",
       "text": [
        "\n",
        "."
       ]
      },
      {
       "output_type": "stream",
       "stream": "stdout",
       "text": [
        "\n",
        "."
       ]
      },
      {
       "output_type": "stream",
       "stream": "stdout",
       "text": [
        "\n",
        "."
       ]
      },
      {
       "output_type": "stream",
       "stream": "stdout",
       "text": [
        "\n",
        "."
       ]
      },
      {
       "output_type": "stream",
       "stream": "stdout",
       "text": [
        "\n",
        "."
       ]
      },
      {
       "output_type": "stream",
       "stream": "stdout",
       "text": [
        "\n",
        "."
       ]
      },
      {
       "output_type": "stream",
       "stream": "stdout",
       "text": [
        "\n",
        "."
       ]
      },
      {
       "output_type": "stream",
       "stream": "stdout",
       "text": [
        "\n",
        "."
       ]
      },
      {
       "output_type": "stream",
       "stream": "stdout",
       "text": [
        "\n",
        "."
       ]
      },
      {
       "output_type": "stream",
       "stream": "stdout",
       "text": [
        "\n",
        "."
       ]
      },
      {
       "output_type": "stream",
       "stream": "stdout",
       "text": [
        "\n",
        "."
       ]
      },
      {
       "output_type": "stream",
       "stream": "stdout",
       "text": [
        "\n",
        "."
       ]
      },
      {
       "output_type": "stream",
       "stream": "stdout",
       "text": [
        "\n",
        "."
       ]
      },
      {
       "output_type": "stream",
       "stream": "stdout",
       "text": [
        "\n",
        "."
       ]
      },
      {
       "output_type": "stream",
       "stream": "stdout",
       "text": [
        "\n",
        "."
       ]
      },
      {
       "output_type": "stream",
       "stream": "stdout",
       "text": [
        "\n",
        "."
       ]
      },
      {
       "output_type": "stream",
       "stream": "stdout",
       "text": [
        "\n",
        "."
       ]
      },
      {
       "output_type": "stream",
       "stream": "stdout",
       "text": [
        "\n",
        "."
       ]
      },
      {
       "output_type": "stream",
       "stream": "stdout",
       "text": [
        "\n",
        "."
       ]
      },
      {
       "output_type": "stream",
       "stream": "stdout",
       "text": [
        "\n",
        "."
       ]
      },
      {
       "output_type": "stream",
       "stream": "stdout",
       "text": [
        "\n",
        "."
       ]
      },
      {
       "output_type": "stream",
       "stream": "stdout",
       "text": [
        "\n",
        "."
       ]
      },
      {
       "output_type": "stream",
       "stream": "stdout",
       "text": [
        "\n",
        "."
       ]
      },
      {
       "output_type": "stream",
       "stream": "stdout",
       "text": [
        "\n",
        "."
       ]
      },
      {
       "output_type": "stream",
       "stream": "stdout",
       "text": [
        "\n",
        "."
       ]
      },
      {
       "output_type": "stream",
       "stream": "stdout",
       "text": [
        "\n",
        "."
       ]
      },
      {
       "output_type": "stream",
       "stream": "stdout",
       "text": [
        "\n",
        "."
       ]
      },
      {
       "output_type": "stream",
       "stream": "stdout",
       "text": [
        "\n",
        "."
       ]
      },
      {
       "output_type": "stream",
       "stream": "stdout",
       "text": [
        "\n",
        "."
       ]
      },
      {
       "output_type": "stream",
       "stream": "stdout",
       "text": [
        "\n",
        "."
       ]
      },
      {
       "output_type": "stream",
       "stream": "stdout",
       "text": [
        "\n",
        "."
       ]
      },
      {
       "output_type": "stream",
       "stream": "stdout",
       "text": [
        "\n",
        "."
       ]
      },
      {
       "output_type": "stream",
       "stream": "stdout",
       "text": [
        "\n",
        "."
       ]
      },
      {
       "output_type": "stream",
       "stream": "stdout",
       "text": [
        "\n",
        "."
       ]
      },
      {
       "output_type": "stream",
       "stream": "stdout",
       "text": [
        "\n",
        "."
       ]
      },
      {
       "output_type": "stream",
       "stream": "stdout",
       "text": [
        "\n",
        "."
       ]
      },
      {
       "output_type": "stream",
       "stream": "stdout",
       "text": [
        "\n",
        "."
       ]
      },
      {
       "output_type": "stream",
       "stream": "stdout",
       "text": [
        "\n",
        "."
       ]
      },
      {
       "output_type": "stream",
       "stream": "stdout",
       "text": [
        "\n",
        "."
       ]
      },
      {
       "output_type": "stream",
       "stream": "stdout",
       "text": [
        "\n",
        "."
       ]
      },
      {
       "output_type": "stream",
       "stream": "stdout",
       "text": [
        "\n",
        "."
       ]
      },
      {
       "output_type": "stream",
       "stream": "stdout",
       "text": [
        "\n",
        "."
       ]
      },
      {
       "output_type": "stream",
       "stream": "stdout",
       "text": [
        "\n",
        "."
       ]
      },
      {
       "output_type": "stream",
       "stream": "stdout",
       "text": [
        "\n",
        "."
       ]
      },
      {
       "output_type": "stream",
       "stream": "stdout",
       "text": [
        "\n",
        "."
       ]
      },
      {
       "output_type": "stream",
       "stream": "stdout",
       "text": [
        "\n",
        "."
       ]
      },
      {
       "output_type": "stream",
       "stream": "stdout",
       "text": [
        "\n",
        "."
       ]
      },
      {
       "output_type": "stream",
       "stream": "stdout",
       "text": [
        "\n",
        "."
       ]
      },
      {
       "output_type": "stream",
       "stream": "stdout",
       "text": [
        "\n",
        "."
       ]
      },
      {
       "output_type": "stream",
       "stream": "stdout",
       "text": [
        "\n",
        "."
       ]
      },
      {
       "output_type": "stream",
       "stream": "stdout",
       "text": [
        "\n",
        "."
       ]
      },
      {
       "output_type": "stream",
       "stream": "stdout",
       "text": [
        "\n",
        "."
       ]
      },
      {
       "output_type": "stream",
       "stream": "stdout",
       "text": [
        "\n",
        "."
       ]
      },
      {
       "output_type": "stream",
       "stream": "stdout",
       "text": [
        "\n",
        "."
       ]
      },
      {
       "output_type": "stream",
       "stream": "stdout",
       "text": [
        "\n",
        "."
       ]
      },
      {
       "output_type": "stream",
       "stream": "stdout",
       "text": [
        "\n",
        "."
       ]
      },
      {
       "output_type": "stream",
       "stream": "stdout",
       "text": [
        "\n",
        "."
       ]
      },
      {
       "output_type": "stream",
       "stream": "stdout",
       "text": [
        "\n",
        "."
       ]
      },
      {
       "output_type": "stream",
       "stream": "stdout",
       "text": [
        "\n",
        "."
       ]
      },
      {
       "output_type": "stream",
       "stream": "stdout",
       "text": [
        "\n",
        "."
       ]
      },
      {
       "output_type": "stream",
       "stream": "stdout",
       "text": [
        "\n",
        "."
       ]
      },
      {
       "output_type": "stream",
       "stream": "stdout",
       "text": [
        "\n",
        "."
       ]
      },
      {
       "output_type": "stream",
       "stream": "stdout",
       "text": [
        "\n",
        "."
       ]
      },
      {
       "output_type": "stream",
       "stream": "stdout",
       "text": [
        "\n",
        "."
       ]
      },
      {
       "output_type": "stream",
       "stream": "stdout",
       "text": [
        "\n",
        "."
       ]
      },
      {
       "output_type": "stream",
       "stream": "stdout",
       "text": [
        "\n",
        "."
       ]
      },
      {
       "output_type": "stream",
       "stream": "stdout",
       "text": [
        "\n",
        "."
       ]
      },
      {
       "output_type": "stream",
       "stream": "stdout",
       "text": [
        "\n",
        "."
       ]
      },
      {
       "output_type": "stream",
       "stream": "stdout",
       "text": [
        "\n",
        "."
       ]
      },
      {
       "output_type": "stream",
       "stream": "stdout",
       "text": [
        "\n",
        "."
       ]
      },
      {
       "output_type": "stream",
       "stream": "stdout",
       "text": [
        "\n",
        "."
       ]
      },
      {
       "output_type": "stream",
       "stream": "stdout",
       "text": [
        "\n",
        "."
       ]
      },
      {
       "output_type": "stream",
       "stream": "stdout",
       "text": [
        "\n",
        "."
       ]
      },
      {
       "output_type": "stream",
       "stream": "stdout",
       "text": [
        "\n",
        "."
       ]
      },
      {
       "output_type": "stream",
       "stream": "stdout",
       "text": [
        "\n",
        "."
       ]
      },
      {
       "output_type": "stream",
       "stream": "stdout",
       "text": [
        "\n",
        "."
       ]
      },
      {
       "output_type": "stream",
       "stream": "stdout",
       "text": [
        "\n",
        "."
       ]
      },
      {
       "output_type": "stream",
       "stream": "stdout",
       "text": [
        "\n",
        "."
       ]
      },
      {
       "output_type": "stream",
       "stream": "stdout",
       "text": [
        "\n",
        "."
       ]
      },
      {
       "output_type": "stream",
       "stream": "stdout",
       "text": [
        "\n",
        "."
       ]
      },
      {
       "output_type": "stream",
       "stream": "stdout",
       "text": [
        "\n",
        "."
       ]
      },
      {
       "output_type": "stream",
       "stream": "stdout",
       "text": [
        "\n",
        "."
       ]
      },
      {
       "output_type": "stream",
       "stream": "stdout",
       "text": [
        "\n",
        "."
       ]
      },
      {
       "output_type": "stream",
       "stream": "stdout",
       "text": [
        "\n",
        "."
       ]
      },
      {
       "output_type": "stream",
       "stream": "stdout",
       "text": [
        "\n",
        "."
       ]
      },
      {
       "output_type": "stream",
       "stream": "stdout",
       "text": [
        "\n",
        "."
       ]
      },
      {
       "output_type": "stream",
       "stream": "stdout",
       "text": [
        "\n",
        "."
       ]
      },
      {
       "output_type": "stream",
       "stream": "stdout",
       "text": [
        "\n",
        "."
       ]
      },
      {
       "output_type": "stream",
       "stream": "stdout",
       "text": [
        "\n",
        "."
       ]
      },
      {
       "output_type": "stream",
       "stream": "stdout",
       "text": [
        "\n",
        "."
       ]
      },
      {
       "output_type": "stream",
       "stream": "stdout",
       "text": [
        "\n",
        "."
       ]
      },
      {
       "output_type": "stream",
       "stream": "stdout",
       "text": [
        "\n",
        "."
       ]
      },
      {
       "output_type": "stream",
       "stream": "stdout",
       "text": [
        "\n",
        "."
       ]
      },
      {
       "output_type": "stream",
       "stream": "stdout",
       "text": [
        "\n",
        "."
       ]
      },
      {
       "output_type": "stream",
       "stream": "stdout",
       "text": [
        "\n",
        "."
       ]
      },
      {
       "output_type": "stream",
       "stream": "stdout",
       "text": [
        "\n",
        "."
       ]
      },
      {
       "output_type": "stream",
       "stream": "stdout",
       "text": [
        "\n",
        "."
       ]
      },
      {
       "output_type": "stream",
       "stream": "stdout",
       "text": [
        "\n",
        "."
       ]
      },
      {
       "output_type": "stream",
       "stream": "stdout",
       "text": [
        "\n",
        "."
       ]
      },
      {
       "output_type": "stream",
       "stream": "stdout",
       "text": [
        "\n",
        "."
       ]
      },
      {
       "output_type": "stream",
       "stream": "stdout",
       "text": [
        "\n",
        "."
       ]
      },
      {
       "output_type": "stream",
       "stream": "stdout",
       "text": [
        "\n",
        "."
       ]
      },
      {
       "output_type": "stream",
       "stream": "stdout",
       "text": [
        "\n",
        "."
       ]
      },
      {
       "output_type": "stream",
       "stream": "stdout",
       "text": [
        "\n",
        "."
       ]
      },
      {
       "output_type": "stream",
       "stream": "stdout",
       "text": [
        "\n",
        "."
       ]
      },
      {
       "output_type": "stream",
       "stream": "stdout",
       "text": [
        "\n",
        "."
       ]
      },
      {
       "output_type": "stream",
       "stream": "stdout",
       "text": [
        "\n",
        "."
       ]
      },
      {
       "output_type": "stream",
       "stream": "stdout",
       "text": [
        "\n",
        "."
       ]
      },
      {
       "output_type": "stream",
       "stream": "stdout",
       "text": [
        "\n",
        "."
       ]
      },
      {
       "output_type": "stream",
       "stream": "stdout",
       "text": [
        "\n",
        "."
       ]
      },
      {
       "output_type": "stream",
       "stream": "stdout",
       "text": [
        "\n",
        "."
       ]
      },
      {
       "output_type": "stream",
       "stream": "stdout",
       "text": [
        "\n",
        "."
       ]
      },
      {
       "output_type": "stream",
       "stream": "stdout",
       "text": [
        "\n",
        "."
       ]
      },
      {
       "output_type": "stream",
       "stream": "stdout",
       "text": [
        "\n",
        "."
       ]
      },
      {
       "output_type": "stream",
       "stream": "stdout",
       "text": [
        "\n",
        "."
       ]
      },
      {
       "output_type": "stream",
       "stream": "stdout",
       "text": [
        "\n",
        "."
       ]
      },
      {
       "output_type": "stream",
       "stream": "stdout",
       "text": [
        "\n",
        "."
       ]
      },
      {
       "output_type": "stream",
       "stream": "stdout",
       "text": [
        "\n",
        "."
       ]
      },
      {
       "output_type": "stream",
       "stream": "stdout",
       "text": [
        "\n",
        "."
       ]
      },
      {
       "output_type": "stream",
       "stream": "stdout",
       "text": [
        "\n",
        "."
       ]
      },
      {
       "output_type": "stream",
       "stream": "stdout",
       "text": [
        "\n",
        "."
       ]
      },
      {
       "output_type": "stream",
       "stream": "stdout",
       "text": [
        "\n",
        "."
       ]
      },
      {
       "output_type": "stream",
       "stream": "stdout",
       "text": [
        "\n",
        "."
       ]
      },
      {
       "output_type": "stream",
       "stream": "stdout",
       "text": [
        "\n",
        "."
       ]
      },
      {
       "output_type": "stream",
       "stream": "stdout",
       "text": [
        "\n",
        "."
       ]
      },
      {
       "output_type": "stream",
       "stream": "stdout",
       "text": [
        "\n",
        "."
       ]
      },
      {
       "output_type": "stream",
       "stream": "stdout",
       "text": [
        "\n",
        "."
       ]
      },
      {
       "output_type": "stream",
       "stream": "stdout",
       "text": [
        "\n",
        "."
       ]
      },
      {
       "output_type": "stream",
       "stream": "stdout",
       "text": [
        "\n",
        "."
       ]
      },
      {
       "output_type": "stream",
       "stream": "stdout",
       "text": [
        "\n",
        "."
       ]
      },
      {
       "output_type": "stream",
       "stream": "stdout",
       "text": [
        "\n",
        "."
       ]
      },
      {
       "output_type": "stream",
       "stream": "stdout",
       "text": [
        "\n",
        "."
       ]
      },
      {
       "output_type": "stream",
       "stream": "stdout",
       "text": [
        "\n",
        "."
       ]
      },
      {
       "output_type": "stream",
       "stream": "stdout",
       "text": [
        "\n",
        "."
       ]
      },
      {
       "output_type": "stream",
       "stream": "stdout",
       "text": [
        "\n",
        "."
       ]
      },
      {
       "output_type": "stream",
       "stream": "stdout",
       "text": [
        "\n",
        "."
       ]
      },
      {
       "output_type": "stream",
       "stream": "stdout",
       "text": [
        "\n",
        "."
       ]
      },
      {
       "output_type": "stream",
       "stream": "stdout",
       "text": [
        "\n",
        "."
       ]
      },
      {
       "output_type": "stream",
       "stream": "stdout",
       "text": [
        "\n",
        "."
       ]
      },
      {
       "output_type": "stream",
       "stream": "stdout",
       "text": [
        "\n",
        "."
       ]
      },
      {
       "output_type": "stream",
       "stream": "stdout",
       "text": [
        "\n",
        "."
       ]
      },
      {
       "output_type": "stream",
       "stream": "stdout",
       "text": [
        "\n",
        "New bugs downloaded:"
       ]
      },
      {
       "output_type": "stream",
       "stream": "stdout",
       "text": [
        " 201\n",
        "Prior bugs downloaded: 5736\n",
        "Final bugs:"
       ]
      },
      {
       "output_type": "stream",
       "stream": "stdout",
       "text": [
        " 5937\n"
       ]
      }
     ],
     "prompt_number": 11
    },
    {
     "cell_type": "code",
     "collapsed": false,
     "input": [
      "print len(ALL_BUGS)"
     ],
     "language": "python",
     "metadata": {},
     "outputs": [
      {
       "output_type": "stream",
       "stream": "stdout",
       "text": [
        "5937\n"
       ]
      }
     ],
     "prompt_number": 12
    },
    {
     "cell_type": "code",
     "collapsed": false,
     "input": [
      "downloaded_bugs = pickle.load(open( \"lp_nova_bugs.p\", \"rb\" ) )"
     ],
     "language": "python",
     "metadata": {},
     "outputs": [],
     "prompt_number": 13
    },
    {
     "cell_type": "code",
     "collapsed": false,
     "input": [
      "print len(downloaded_bugs)"
     ],
     "language": "python",
     "metadata": {},
     "outputs": [
      {
       "output_type": "stream",
       "stream": "stdout",
       "text": [
        "5937\n"
       ]
      }
     ],
     "prompt_number": 14
    },
    {
     "cell_type": "code",
     "collapsed": false,
     "input": [
      "pp.pprint(ALL_BUGS['1311778'])"
     ],
     "language": "python",
     "metadata": {},
     "outputs": [
      {
       "output_type": "stream",
       "stream": "stdout",
       "text": [
        "{'activity': [],\n",
        " 'attachments': [],\n",
        " 'cves': [],\n",
        " 'date_created': '2014-04-23 16:23:03.874697+00:00',\n",
        " 'description': u'There is an issue that is causing unit tests to fail with the following error:\\n\\nMessagingTimeout: No reply on topic conductor\\nMessagingTimeout: No reply on topic scheduler\\n\\n2014-04-23 13:45:52.017 | Traceback (most recent call last):\\n2014-04-23 13:45:52.017 |   File \"/home/jenkins/workspace/gate-nova-python26/.tox/py26/lib/python2.6/site-packages/oslo/messaging/rpc/dispatcher.py\", line 133, in _dispatch_and_reply\\n2014-04-23 13:45:52.017 |     incoming.message))\\n2014-04-23 13:45:52.017 |   File \"/home/jenkins/workspace/gate-nova-python26/.tox/py26/lib/python2.6/site-packages/oslo/messaging/rpc/dispatcher.py\", line 176, in _dispatch\\n2014-04-23 13:45:52.017 |     return self._do_dispatch(endpoint, method, ctxt, args)\\n2014-04-23 13:45:52.017 |   File \"/home/jenkins/workspace/gate-nova-python26/.tox/py26/lib/python2.6/site-packages/oslo/messaging/rpc/dispatcher.py\", line 122, in _do_dispatch\\n2014-04-23 13:45:52.017 |     result = getattr(endpoint, method)(ctxt, **new_args)\\n2014-04-23 13:45:52.018 |   File \"nova/conductor/manager.py\", line 798, in build_instances\\n2014-04-23 13:45:52.018 |     legacy_bdm_in_spec=legacy_bdm)\\n2014-04-23 13:51:50.628 |   File \"nlibvir:  error : internal error could not initialize domain event timer\\n2014-04-23 13:54:57.953 | ova/scheduler/rpcapi.py\", line 120, in run_instance\\n2014-04-23 13:54:57.953 |     cctxt.cast(ctxt, \\'run_instance\\', **msg_kwargs)\\n2014-04-23 13:54:57.953 |   File \"/home/jenkins/workspace/gate-nova-python26/.tox/py26/lib/python2.6/site-packages/oslo/messaging/rpc/client.py\", line 150, in call\\n2014-04-23 13:54:57.953 |     wait_for_reply=True, timeout=timeout)\\n2014-04-23 13:54:57.953 |   File \"/home/jenkins/workspace/gate-nova-python26/.tox/py26/lib/python2.6/site-packages/oslo/messaging/transport.py\", line 90, in _send\\n2014-04-23 13:54:57.953 |     timeout=timeout)\\n2014-04-23 13:54:57.954 |   File \"/home/jenkins/workspace/gate-nova-python26/.tox/py26/lib/python2.6/site-packages/oslo/messaging/_drivers/impl_fake.py\", line 166, in send\\n2014-04-23 13:54:57.954 |     return self._send(target, ctxt, message, wait_for_reply, timeout)\\n2014-04-23 13:54:57.954 |   File \"/home/jenkins/workspace/gate-nova-python26/.tox/py26/lib/python2.6/site-packages/oslo/messaging/_drivers/impl_fake.py\", line 161, in _send\\n2014-04-23 13:54:57.954 |     \\'No reply on topic %s\\' % target.topic)\\n2014-04-23 13:54:57.954 | MessagingTimeout: No reply on topic scheduler\\n\\n============================\\n\\n2014-04-23 13:45:52.008 | Traceback (most recent call last):\\n2014-04-23 13:45:52.008 |   File \"nova/api/openstack/__init__.py\", line 125, in __call__\\n2014-04-23 13:45:52.008 |     return req.get_response(self.application)\\n2014-04-23 13:45:52.009 |   File \"/home/jenkins/workspace/gate-nova-python26/.tox/py26/lib/python2.6/site-packages/webob/request.py\", line 1320, in send\\n2014-04-23 13:45:52.009 |     application, catch_exc_info=False)\\n2014-04-23 13:45:52.009 |   File \"/home/jenkins/workspace/gate-nova-python26/.tox/py26/lib/python2.6/site-packages/webob/request.py\", line 1284, in call_application\\n2014-04-23 13:45:52.009 |     app_iter = application(self.environ, start_response)\\n2014-04-23 13:45:52.009 |   File \"/home/jenkins/workspace/gate-nova-python26/.tox/py26/lib/python2.6/site-packages/webob/dec.py\", line 144, in __call__\\n2014-04-23 13:45:52.009 |     return resp(environ, start_response)\\n2014-04-23 13:45:52.009 |   File \"/home/jenkins/workspace/gate-nova-python26/.tox/py26/lib/python2.6/site-packages/webob/dec.py\", line 144, in __call__\\n2014-04-23 13:45:52.010 |     return resp(environ, start_response)\\n2014-04-23 13:45:52.010 |   File \"/home/jenkins/workspace/gate-nova-python26/.tox/py26/lib/python2.6/site-packages/webob/dec.py\", line 144, in __call__\\n2014-04-23 13:45:52.010 |     return resp(environ, start_response)\\n2014-04-23 13:45:52.010 |   File \"/home/jenkins/workspace/gate-nova-python26/.tox/py26/lib/python2.6/site-packages/webob/dec.py\", line 144, in __call__\\n2014-04-23 13:45:52.010 |     return resp(environ, start_response)\\n2014-04-23 13:45:52.010 |   File \"/home/jenkins/workspace/gate-nova-python26/.tox/py26/lib/python2.6/site-packages/routes/middleware.py\", line 131, in __call__\\n2014-04-23 13:45:52.010 |     response = self.app(environ, start_response)\\n2014-04-23 13:45:52.011 |   File \"/home/jenkins/workspace/gate-nova-python26/.tox/py26/lib/python2.6/site-packages/webob/dec.py\", line 144, in __call__\\n2014-04-23 13:45:52.011 |     return resp(environ, start_response)\\n2014-04-23 13:45:52.011 |   File \"/home/jenkins/workspace/gate-nova-python26/.tox/py26/lib/python2.6/site-packages/webob/dec.py\", line 130, in __call__\\n2014-04-23 13:45:52.011 |     resp = self.call_func(req, *args, **self.kwargs)\\n2014-04-23 13:45:52.011 |   File \"/home/jenkins/workspace/gate-nova-python26/.tox/py26/lib/python2.6/site-packages/webob/dec.py\", line 195, in call_func\\n2014-04-23 13:45:52.011 |     return self.func(req, *args, **kwargs)\\n2014-04-23 13:45:52.012 |   File \"nova/api/openstack/wsgi.py\", line 917, in __call__\\n2014-04-23 13:45:52.012 |     content_type, body, accept)\\n2014-04-23 13:45:52.012 |   File \"nova/api/openstack/wsgi.py\", line 983, in _process_stack\\n2014-04-23 13:45:52.012 |     action_result = self.dispatch(meth, request, action_args)\\n2014-04-23 13:45:52.012 |   File \"nova/api/openstack/wsgi.py\", line 1070, in dispatch\\n2014-04-23 13:45:52.012 |     return method(req=request, **action_args)\\n2014-04-23 13:45:52.012 |   File \"nova/api/openstack/compute/servers.py\", line 956, in create\\n2014-04-23 13:45:52.012 |     legacy_bdm=legacy_bdm)\\n2014-04-23 13:45:52.013 |   File \"nova/tests/fake_network.py\", line 473, in fake_create\\n2014-04-23 13:45:52.013 |     return _create_instances_with_cached_ips(orig_create, *args, **kwargs)\\n2014-04-23 13:45:52.013 |   File \"nova/tests/fake_network.py\", line 543, in _create_instances_with_cached_ips\\n2014-04-23 13:45:52.013 |     instances, reservation_id = orig_func(*args, **kwargs)\\n2014-04-23 13:45:52.013 |   File \"nova/hooks.py\", line 103, in inner\\n2014-04-23 13:45:52.013 |     rv = f(*args, **kwargs)\\n2014-04-23 13:45:52.013 |   File \"nova/compute/api.py\", line 1341, in create\\n2014-04-23 13:45:52.014 |     legacy_bdm=legacy_bdm)\\n2014-04-23 13:45:52.014 |   File \"nova/compute/api.py\", line 1007, in _create_instance\\n2014-04-23 13:45:52.014 |     legacy_bdm=False)\\n2014-04-23 13:45:52.014 |   File \"nova/conductor/api.py\", line 371, in build_instances\\n2014-04-23 13:45:52.014 |     legacy_bdm=legacy_bdm)\\n2014-04-23 13:45:52.014 |   File \"nova/conductor/rpcapi.py\", line 455, in build_instances\\n2014-04-23 13:45:52.015 |     legacy_bdm=legacy_bdm)\\n2014-04-23 13:45:52.015 |   File \"/home/jenkins/workspace/gate-nova-python26/.tox/py26/lib/python2.6/site-packages/oslo/messaging/rpc/client.py\", line 150, in call\\n2014-04-23 13:45:52.015 |     wait_for_reply=True, timeout=timeout)\\n2014-04-23 13:45:52.015 |   File \"/home/jenkins/workspace/gate-nova-python26/.tox/py26/lib/python2.6/site-packages/oslo/messaging/transport.py\", line 90, in _send\\n2014-04-23 13:45:52.015 |     timeout=timeout)\\n2014-04-23 13:45:52.015 |   File \"/home/jenkins/workspace/gate-nova-python26/.tox/py26/lib/python2.6/site-packages/oslo/messaging/_drivers/impl_fake.py\", line 166, in send\\n2014-04-23 13:45:52.015 |     return self._send(target, ctxt, message, wait_for_reply, timeout)\\n2014-04-23 13:45:52.016 |   File \"/home/jenkins/workspace/gate-nova-python26/.tox/py26/lib/python2.6/site-packages/oslo/messaging/_drivers/impl_fake.py\", line 161, in _send\\n2014-04-23 13:45:52.016 |     \\'No reply on topic %s\\' % target.topic)\\n2014-04-23 13:45:52.016 | MessagingTimeout: No reply on topic conductor',\n",
        " 'duplicate_of': 'None',\n",
        " 'heat': '24',\n",
        " 'id': '1311778',\n",
        " 'information_type': u'Public',\n",
        " 'message_count': '28',\n",
        " 'messages': [{'bug_attachments': [],\n",
        "               'content': u'There is an issue that is causing unit tests to fail with the following error:\\n\\nMessagingTimeout: No reply on topic conductor\\nMessagingTimeout: No reply on topic scheduler\\n\\n2014-04-23 13:45:52.017 | Traceback (most recent call last):\\n2014-04-23 13:45:52.017 |   File \"/home/jenkins/workspace/gate-nova-python26/.tox/py26/lib/python2.6/site-packages/oslo/messaging/rpc/dispatcher.py\", line 133, in _dispatch_and_reply\\n2014-04-23 13:45:52.017 |     incoming.message))\\n2014-04-23 13:45:52.017 |   File \"/home/jenkins/workspace/gate-nova-python26/.tox/py26/lib/python2.6/site-packages/oslo/messaging/rpc/dispatcher.py\", line 176, in _dispatch\\n2014-04-23 13:45:52.017 |     return self._do_dispatch(endpoint, method, ctxt, args)\\n2014-04-23 13:45:52.017 |   File \"/home/jenkins/workspace/gate-nova-python26/.tox/py26/lib/python2.6/site-packages/oslo/messaging/rpc/dispatcher.py\", line 122, in _do_dispatch\\n2014-04-23 13:45:52.017 |     result = getattr(endpoint, method)(ctxt, **new_args)\\n2014-04-23 13:45:52.018 |   File \"nova/conductor/manager.py\", line 798, in build_instances\\n2014-04-23 13:45:52.018 |     legacy_bdm_in_spec=legacy_bdm)\\n2014-04-23 13:51:50.628 |   File \"nlibvir:  error : internal error could not initialize domain event timer\\n2014-04-23 13:54:57.953 | ova/scheduler/rpcapi.py\", line 120, in run_instance\\n2014-04-23 13:54:57.953 |     cctxt.cast(ctxt, \\'run_instance\\', **msg_kwargs)\\n2014-04-23 13:54:57.953 |   File \"/home/jenkins/workspace/gate-nova-python26/.tox/py26/lib/python2.6/site-packages/oslo/messaging/rpc/client.py\", line 150, in call\\n2014-04-23 13:54:57.953 |     wait_for_reply=True, timeout=timeout)\\n2014-04-23 13:54:57.953 |   File \"/home/jenkins/workspace/gate-nova-python26/.tox/py26/lib/python2.6/site-packages/oslo/messaging/transport.py\", line 90, in _send\\n2014-04-23 13:54:57.953 |     timeout=timeout)\\n2014-04-23 13:54:57.954 |   File \"/home/jenkins/workspace/gate-nova-python26/.tox/py26/lib/python2.6/site-packages/oslo/messaging/_drivers/impl_fake.py\", line 166, in send\\n2014-04-23 13:54:57.954 |     return self._send(target, ctxt, message, wait_for_reply, timeout)\\n2014-04-23 13:54:57.954 |   File \"/home/jenkins/workspace/gate-nova-python26/.tox/py26/lib/python2.6/site-packages/oslo/messaging/_drivers/impl_fake.py\", line 161, in _send\\n2014-04-23 13:54:57.954 |     \\'No reply on topic %s\\' % target.topic)\\n2014-04-23 13:54:57.954 | MessagingTimeout: No reply on topic scheduler\\n\\n============================\\n\\n2014-04-23 13:45:52.008 | Traceback (most recent call last):\\n2014-04-23 13:45:52.008 |   File \"nova/api/openstack/__init__.py\", line 125, in __call__\\n2014-04-23 13:45:52.008 |     return req.get_response(self.application)\\n2014-04-23 13:45:52.009 |   File \"/home/jenkins/workspace/gate-nova-python26/.tox/py26/lib/python2.6/site-packages/webob/request.py\", line 1320, in send\\n2014-04-23 13:45:52.009 |     application, catch_exc_info=False)\\n2014-04-23 13:45:52.009 |   File \"/home/jenkins/workspace/gate-nova-python26/.tox/py26/lib/python2.6/site-packages/webob/request.py\", line 1284, in call_application\\n2014-04-23 13:45:52.009 |     app_iter = application(self.environ, start_response)\\n2014-04-23 13:45:52.009 |   File \"/home/jenkins/workspace/gate-nova-python26/.tox/py26/lib/python2.6/site-packages/webob/dec.py\", line 144, in __call__\\n2014-04-23 13:45:52.009 |     return resp(environ, start_response)\\n2014-04-23 13:45:52.009 |   File \"/home/jenkins/workspace/gate-nova-python26/.tox/py26/lib/python2.6/site-packages/webob/dec.py\", line 144, in __call__\\n2014-04-23 13:45:52.010 |     return resp(environ, start_response)\\n2014-04-23 13:45:52.010 |   File \"/home/jenkins/workspace/gate-nova-python26/.tox/py26/lib/python2.6/site-packages/webob/dec.py\", line 144, in __call__\\n2014-04-23 13:45:52.010 |     return resp(environ, start_response)\\n2014-04-23 13:45:52.010 |   File \"/home/jenkins/workspace/gate-nova-python26/.tox/py26/lib/python2.6/site-packages/webob/dec.py\", line 144, in __call__\\n2014-04-23 13:45:52.010 |     return resp(environ, start_response)\\n2014-04-23 13:45:52.010 |   File \"/home/jenkins/workspace/gate-nova-python26/.tox/py26/lib/python2.6/site-packages/routes/middleware.py\", line 131, in __call__\\n2014-04-23 13:45:52.010 |     response = self.app(environ, start_response)\\n2014-04-23 13:45:52.011 |   File \"/home/jenkins/workspace/gate-nova-python26/.tox/py26/lib/python2.6/site-packages/webob/dec.py\", line 144, in __call__\\n2014-04-23 13:45:52.011 |     return resp(environ, start_response)\\n2014-04-23 13:45:52.011 |   File \"/home/jenkins/workspace/gate-nova-python26/.tox/py26/lib/python2.6/site-packages/webob/dec.py\", line 130, in __call__\\n2014-04-23 13:45:52.011 |     resp = self.call_func(req, *args, **self.kwargs)\\n2014-04-23 13:45:52.011 |   File \"/home/jenkins/workspace/gate-nova-python26/.tox/py26/lib/python2.6/site-packages/webob/dec.py\", line 195, in call_func\\n2014-04-23 13:45:52.011 |     return self.func(req, *args, **kwargs)\\n2014-04-23 13:45:52.012 |   File \"nova/api/openstack/wsgi.py\", line 917, in __call__\\n2014-04-23 13:45:52.012 |     content_type, body, accept)\\n2014-04-23 13:45:52.012 |   File \"nova/api/openstack/wsgi.py\", line 983, in _process_stack\\n2014-04-23 13:45:52.012 |     action_result = self.dispatch(meth, request, action_args)\\n2014-04-23 13:45:52.012 |   File \"nova/api/openstack/wsgi.py\", line 1070, in dispatch\\n2014-04-23 13:45:52.012 |     return method(req=request, **action_args)\\n2014-04-23 13:45:52.012 |   File \"nova/api/openstack/compute/servers.py\", line 956, in create\\n2014-04-23 13:45:52.012 |     legacy_bdm=legacy_bdm)\\n2014-04-23 13:45:52.013 |   File \"nova/tests/fake_network.py\", line 473, in fake_create\\n2014-04-23 13:45:52.013 |     return _create_instances_with_cached_ips(orig_create, *args, **kwargs)\\n2014-04-23 13:45:52.013 |   File \"nova/tests/fake_network.py\", line 543, in _create_instances_with_cached_ips\\n2014-04-23 13:45:52.013 |     instances, reservation_id = orig_func(*args, **kwargs)\\n2014-04-23 13:45:52.013 |   File \"nova/hooks.py\", line 103, in inner\\n2014-04-23 13:45:52.013 |     rv = f(*args, **kwargs)\\n2014-04-23 13:45:52.013 |   File \"nova/compute/api.py\", line 1341, in create\\n2014-04-23 13:45:52.014 |     legacy_bdm=legacy_bdm)\\n2014-04-23 13:45:52.014 |   File \"nova/compute/api.py\", line 1007, in _create_instance\\n2014-04-23 13:45:52.014 |     legacy_bdm=False)\\n2014-04-23 13:45:52.014 |   File \"nova/conductor/api.py\", line 371, in build_instances\\n2014-04-23 13:45:52.014 |     legacy_bdm=legacy_bdm)\\n2014-04-23 13:45:52.014 |   File \"nova/conductor/rpcapi.py\", line 455, in build_instances\\n2014-04-23 13:45:52.015 |     legacy_bdm=legacy_bdm)\\n2014-04-23 13:45:52.015 |   File \"/home/jenkins/workspace/gate-nova-python26/.tox/py26/lib/python2.6/site-packages/oslo/messaging/rpc/client.py\", line 150, in call\\n2014-04-23 13:45:52.015 |     wait_for_reply=True, timeout=timeout)\\n2014-04-23 13:45:52.015 |   File \"/home/jenkins/workspace/gate-nova-python26/.tox/py26/lib/python2.6/site-packages/oslo/messaging/transport.py\", line 90, in _send\\n2014-04-23 13:45:52.015 |     timeout=timeout)\\n2014-04-23 13:45:52.015 |   File \"/home/jenkins/workspace/gate-nova-python26/.tox/py26/lib/python2.6/site-packages/oslo/messaging/_drivers/impl_fake.py\", line 166, in send\\n2014-04-23 13:45:52.015 |     return self._send(target, ctxt, message, wait_for_reply, timeout)\\n2014-04-23 13:45:52.016 |   File \"/home/jenkins/workspace/gate-nova-python26/.tox/py26/lib/python2.6/site-packages/oslo/messaging/_drivers/impl_fake.py\", line 161, in _send\\n2014-04-23 13:45:52.016 |     \\'No reply on topic %s\\' % target.topic)\\n2014-04-23 13:45:52.016 | MessagingTimeout: No reply on topic conductor',\n",
        "               'date_created': '2014-04-23 16:23:03.874697+00:00',\n",
        "               'resource_type': u'#message',\n",
        "               'self_link': u'https://api.launchpad.net/1.0/nova/+bug/1311778/comments/0',\n",
        "               'subject': u'Unit tests fail with MessagingTimeout errors'},\n",
        "              {'bug_attachments': [],\n",
        "               'content': u'e-r query: https://review.openstack.org/#/c/89891/',\n",
        "               'date_created': '2014-04-23 16:37:28.771622+00:00',\n",
        "               'resource_type': u'#message',\n",
        "               'self_link': u'https://api.launchpad.net/1.0/nova/+bug/1311778/comments/1',\n",
        "               'subject': u'Re: Unit tests fail with MessagingTimeout errors'},\n",
        "              {'bug_attachments': [],\n",
        "               'content': u'Elastic recheck query: \\n\\nhttp://logstash.openstack.org/#eyJzZWFyY2giOiJtZXNzYWdlOlwiTWVzc2FnaW5nVGltZW91dDogTm8gcmVwbHkgb24gdG9waWNcIiBBTkQgdGFnczpjb25zb2xlIEFORCAoYnVpbGRfbmFtZTpcImdhdGUtbm92YS1weXRob24yN1wiIE9SIGJ1aWxkX25hbWU6XCJnYXRlLW5vdmEtcHl0aG9uMjZcIikiLCJmaWVsZHMiOltdLCJvZmZzZXQiOjAsInRpbWVmcmFtZSI6IjYwNDgwMCIsImdyYXBobW9kZSI6ImNvdW50IiwidGltZSI6eyJ1c2VyX2ludGVydmFsIjowfSwic3RhbXAiOjEzOTgyNzEwMTI3MzZ9\\n\\nHit this on my local env',\n",
        "               'date_created': '2014-05-20 15:23:06.453722+00:00',\n",
        "               'resource_type': u'#message',\n",
        "               'self_link': u'https://api.launchpad.net/1.0/nova/+bug/1311778/comments/2',\n",
        "               'subject': u'Re: Unit tests fail with MessagingTimeout errors'},\n",
        "              {'bug_attachments': [],\n",
        "               'content': u\"I've hit this intermittently locally and I think it just comes down to how fast the system is that's running tox, I think the messaging timeout in the unit tests is 30 seconds, so on a slow VM we can hit this - sometimes I hit it and then run it later and it's fine.\\n\\nAlso need to make sure that *.pyc files are all deleted before running tox, which would be the case when Jenkins runs this, but need to remember to do that locally.\\n\\nThis can also be an indication of a real bug in the code/tests but it's masked by that big failure, so it's kind of hard to debug.\",\n",
        "               'date_created': '2014-05-20 19:48:33.641896+00:00',\n",
        "               'resource_type': u'#message',\n",
        "               'self_link': u'https://api.launchpad.net/1.0/nova/+bug/1311778/comments/3',\n",
        "               'subject': u'Re: Unit tests fail with MessagingTimeout errors'},\n",
        "              {'bug_attachments': [],\n",
        "               'content': u'which exact tests are failing or is it just random intermittent bugs??',\n",
        "               'date_created': '2014-06-18 18:15:04.279423+00:00',\n",
        "               'resource_type': u'#message',\n",
        "               'self_link': u'https://api.launchpad.net/1.0/nova/+bug/1311778/comments/4',\n",
        "               'subject': u'Re: Unit tests fail with MessagingTimeout errors'},\n",
        "              {'bug_attachments': [],\n",
        "               'content': u'http://logs.openstack.org/05/95105/16/gate/gate-nova-python26/ef47993/console.html#_2014-06-24_12_50_13_228\\n\\nnova.tests.compute.test_compute.ComputeTestCase.test_reboot_fail_running\\n\\nhttp://logs.openstack.org/20/100120/4/gate/gate-nova-python27/4dbc13d/console.html\\n\\nnova.tests.compute.test_compute.ComputeTestCase.test_reboot_fail_running\\n\\nhttp://logs.openstack.org/55/93755/10/gate/gate-nova-python26/fa73be4/console.html.gz\\n\\nnova.tests.compute.test_compute.ComputeTestCase.test_reboot_fail_running\\n\\n\\nSo it looks like nova.tests.compute.test_compute.ComputeTestCase.test_reboot_fail_running is the test that is failing.',\n",
        "               'date_created': '2014-06-24 17:22:46.032335+00:00',\n",
        "               'resource_type': u'#message',\n",
        "               'self_link': u'https://api.launchpad.net/1.0/nova/+bug/1311778/comments/5',\n",
        "               'subject': u'Re: Unit tests fail with MessagingTimeout errors'},\n",
        "              {'bug_attachments': [],\n",
        "               'content': u'Looks like this issue has been around for some time now, but is very rare',\n",
        "               'date_created': '2014-06-24 17:40:38.200588+00:00',\n",
        "               'resource_type': u'#message',\n",
        "               'self_link': u'https://api.launchpad.net/1.0/nova/+bug/1311778/comments/6',\n",
        "               'subject': u'Re: Unit tests fail with MessagingTimeout errors'},\n",
        "              {'bug_attachments': [],\n",
        "               'content': u'test_reboot_fail_running failed here too:\\n\\nhttp://logs.openstack.org/19/97619/6/check/gate-nova-python27/ae239e1/console.html\\n\\nGoing back 2 weeks in logstash, that test started failing more often around 6/17.\\n\\nI looked at what merged around that time in the compute manager and there is nothing jumping out at me.',\n",
        "               'date_created': '2014-06-25 03:15:06.464542+00:00',\n",
        "               'resource_type': u'#message',\n",
        "               'self_link': u'https://api.launchpad.net/1.0/nova/+bug/1311778/comments/7',\n",
        "               'subject': u'Re: Unit tests fail with MessagingTimeout errors'},\n",
        "              {'bug_attachments': [],\n",
        "               'content': u'https://review.openstack.org/#/c/102653/',\n",
        "               'date_created': '2014-06-25 22:02:09.980238+00:00',\n",
        "               'resource_type': u'#message',\n",
        "               'self_link': u'https://api.launchpad.net/1.0/nova/+bug/1311778/comments/8',\n",
        "               'subject': u'Re: Unit tests fail with MessagingTimeout errors'},\n",
        "              {'bug_attachments': [],\n",
        "               'content': u'Reviewed:  https://review.openstack.org/102653\\nCommitted: https://git.openstack.org/cgit/openstack/nova/commit/?id=dead965a4398d5093426cf21d2875b55a451e671\\nSubmitter: Jenkins\\nBranch:    master\\n\\ncommit dead965a4398d5093426cf21d2875b55a451e671\\nAuthor: Christopher Lefelhocz <email address hidden>\\nDate:   Wed Jun 25 16:35:59 2014 -0500\\n\\n    Use default rpc_response_timeout in unit tests\\n    \\n    During running of tox the system can timeout on slower systems.\\n    We have seen this occur in our internal tests and have seen\\n    better results when we increased the api timeout from 15 to 60\\n    seconds.  This can be used until faster hardware is availale\\n    or a better fix is proposed.  Andrew Laski first proposed\\n    this fix.\\n    \\n    Closes-Bug: 1311778\\n    \\n    Change-Id: I33da328e7bea8fbdde3f01ee0147b4c5a3a278d2\\n',\n",
        "               'date_created': '2014-06-26 15:27:59.053717+00:00',\n",
        "               'resource_type': u'#message',\n",
        "               'self_link': u'https://api.launchpad.net/1.0/nova/+bug/1311778/comments/9',\n",
        "               'subject': u'Fix merged to nova (master)'},\n",
        "              {'bug_attachments': [],\n",
        "               'content': u'Fix proposed to branch: stable/icehouse\\nReview: https://review.openstack.org/102865',\n",
        "               'date_created': '2014-06-26 15:35:07.158013+00:00',\n",
        "               'resource_type': u'#message',\n",
        "               'self_link': u'https://api.launchpad.net/1.0/nova/+bug/1311778/comments/10',\n",
        "               'subject': u'Fix proposed to nova (stable/icehouse)'},\n",
        "              {'bug_attachments': [],\n",
        "               'content': u'Reviewed:  https://review.openstack.org/102865\\nCommitted: https://git.openstack.org/cgit/openstack/nova/commit/?id=f864329e342684efb28269ddbf98aa6bc179875e\\nSubmitter: Jenkins\\nBranch:    stable/icehouse\\n\\ncommit f864329e342684efb28269ddbf98aa6bc179875e\\nAuthor: Christopher Lefelhocz <email address hidden>\\nDate:   Wed Jun 25 16:35:59 2014 -0500\\n\\n    Use default rpc_response_timeout in unit tests\\n    \\n    During running of tox the system can timeout on slower systems.\\n    We have seen this occur in our internal tests and have seen\\n    better results when we increased the api timeout from 15 to 60\\n    seconds.  This can be used until faster hardware is availale\\n    or a better fix is proposed.  Andrew Laski first proposed\\n    this fix.\\n    \\n    Closes-Bug: 1311778\\n    \\n    Change-Id: I33da328e7bea8fbdde3f01ee0147b4c5a3a278d2\\n    (cherry picked from commit dead965a4398d5093426cf21d2875b55a451e671)\\n',\n",
        "               'date_created': '2014-07-07 13:26:32.555805+00:00',\n",
        "               'resource_type': u'#message',\n",
        "               'self_link': u'https://api.launchpad.net/1.0/nova/+bug/1311778/comments/11',\n",
        "               'subject': u'Fix merged to nova (stable/icehouse)'},\n",
        "              {'bug_attachments': [],\n",
        "               'content': u'This bug is still happening, moving back to open',\n",
        "               'date_created': '2014-07-21 19:31:37.578527+00:00',\n",
        "               'resource_type': u'#message',\n",
        "               'self_link': u'https://api.launchpad.net/1.0/nova/+bug/1311778/comments/12',\n",
        "               'subject': u'Re: Unit tests fail with MessagingTimeout errors'},\n",
        "              {'bug_attachments': [],\n",
        "               'content': u'Most recent traceback is...\\n\\n\\n2014-07-21 16:17:52.528 | ${PYTHON:-python} -m subunit.run discover -t ./ ./nova/tests  --load-list /tmp/tmp.RvKIckAzcM/tmpPcO317\\n2014-07-21 16:17:52.529 | running=OS_STDOUT_CAPTURE=${OS_STDOUT_CAPTURE:-1} \\\\\\n2014-07-21 16:17:52.529 | OS_STDERR_CAPTURE=${OS_STDERR_CAPTURE:-1} \\\\\\n2014-07-21 16:17:52.529 | OS_TEST_TIMEOUT=${OS_TEST_TIMEOUT:-160} \\\\\\n2014-07-21 16:17:52.529 | ${PYTHON:-python} -m subunit.run discover -t ./ ./nova/tests  --load-list /tmp/tmp.RvKIckAzcM/tmpUtxqlY\\n2014-07-21 16:17:52.529 | ======================================================================\\n2014-07-21 16:17:52.529 | FAIL: nova.tests.compute.test_shelve.ShelveComputeManagerTestCase.test_shelve_offload\\n2014-07-21 16:17:52.529 | tags: worker-1\\n2014-07-21 16:17:52.529 | ----------------------------------------------------------------------\\n2014-07-21 16:17:52.529 | Empty attachments:\\n2014-07-21 16:17:52.530 |   stdout\\n2014-07-21 16:17:52.530 | \\n2014-07-21 16:17:52.530 | pythonlogging:\\'\\': {{{\\n2014-07-21 16:17:52.530 | INFO [nova.virt.driver] Loading compute driver \\'nova.virt.fake.FakeDriver\\'\\n2014-07-21 16:17:52.530 | AUDIT [nova.compute.resource_tracker] Auditing locally available compute resources\\n2014-07-21 16:17:52.530 | AUDIT [nova.compute.resource_tracker] Free ram (MB): 7680\\n2014-07-21 16:17:52.530 | AUDIT [nova.compute.resource_tracker] Free disk (GB): 1028\\n2014-07-21 16:17:52.530 | AUDIT [nova.compute.resource_tracker] Free VCPUS: 1\\n2014-07-21 16:17:52.530 | AUDIT [nova.compute.resource_tracker] PCI stats: []\\n2014-07-21 16:17:52.531 | INFO [nova.compute.resource_tracker] Compute_service record created for fake-mini:fakenode1\\n2014-07-21 16:17:52.531 | AUDIT [nova.compute.manager] Deleting orphan compute node 2\\n2014-07-21 16:17:52.531 | AUDIT [nova.compute.manager] Starting instance...\\n2014-07-21 16:17:52.531 | WARNING [nova.compute.resource_tracker] Host field should not be set on the instance until resources have been claimed.\\n2014-07-21 16:17:52.531 | WARNING [nova.compute.resource_tracker] Node field should not be set on the instance until resources have been claimed.\\n2014-07-21 16:17:52.531 | AUDIT [nova.compute.claims] Attempting claim: memory 0 MB, disk 0 GB, VCPUs 0\\n2014-07-21 16:17:52.531 | AUDIT [nova.compute.claims] Total memory: 8192 MB, used: 512.00 MB\\n2014-07-21 16:17:52.531 | AUDIT [nova.compute.claims] memory limit not specified, defaulting to unlimited\\n2014-07-21 16:17:52.532 | AUDIT [nova.compute.claims] Total disk: 1028 GB, used: 0.00 GB\\n2014-07-21 16:17:52.532 | AUDIT [nova.compute.claims] disk limit not specified, defaulting to unlimited\\n2014-07-21 16:17:52.532 | AUDIT [nova.compute.claims] Total CPUs: 1 VCPUs, used: 0.00 VCPUs\\n2014-07-21 16:17:52.532 | AUDIT [nova.compute.claims] CPUs limit not specified, defaulting to unlimited\\n2014-07-21 16:17:52.532 | AUDIT [nova.compute.claims] Claim successful\\n2014-07-21 16:17:52.532 | ERROR [nova.scheduler.driver] Exception during scheduler.run_instance\\n2014-07-21 16:17:52.532 | Traceback (most recent call last):\\n2014-07-21 16:17:52.532 |   File \"nova/conductor/manager.py\", line 606, in build_instances\\n2014-07-21 16:17:52.532 |     request_spec, filter_properties)\\n2014-07-21 16:17:52.533 |   File \"nova/scheduler/rpcapi.py\", line 107, in select_destinations\\n2014-07-21 16:17:52.533 |     request_spec=request_spec, filter_properties=filter_properties)\\n2014-07-21 16:17:52.533 |   File \"/home/jenkins/workspace/gate-nova-python26/.tox/py26/lib/python2.6/site-packages/oslo/messaging/rpc/client.py\", line 150, in call\\n2014-07-21 16:17:52.533 |     wait_for_reply=True, timeout=timeout)\\n2014-07-21 16:17:52.533 |   File \"/home/jenkins/workspace/gate-nova-python26/.tox/py26/lib/python2.6/site-packages/oslo/messaging/transport.py\", line 90, in _send\\n2014-07-21 16:17:52.533 |     timeout=timeout)\\n2014-07-21 16:17:52.533 |   File \"/home/jenkins/workspace/gate-nova-python26/.tox/py26/lib/python2.6/site-packages/oslo/messaging/_drivers/impl_fake.py\", line 166, in send\\n2014-07-21 16:17:52.533 |     return self._send(target, ctxt, message, wait_for_reply, timeout)\\n2014-07-21 16:17:52.533 |   File \"/home/jenkins/workspace/gate-nova-python26/.tox/py26/lib/python2.6/site-packages/oslo/messaging/_drivers/impl_fake.py\", line 161, in _send\\n2014-07-21 16:17:52.534 |     \\'No reply on topic %s\\' % target.topic)\\n2014-07-21 16:17:52.534 | MessagingTimeout: No reply on topic scheduler\\n2014-07-21 16:17:52.534 | WARNING [nova.scheduler.driver] Setting instance to ERROR state.\\n2014-07-21 16:17:52.534 | INFO [nova.network.driver] Loading network driver \\'nova.network.linux_net\\'\\n2014-07-21 16:17:52.534 | ERROR [nova.scheduler.driver] Exception during scheduler.run_instance\\n2014-07-21 16:17:52.534 | Traceback (most recent call last):\\n2014-07-21 16:17:52.534 |   File \"nova/conductor/manager.py\", line 606, in build_instances\\n2014-07-21 16:17:52.534 |     request_spec, filter_properties)\\n2014-07-21 16:17:52.534 |   File \"nova/scheduler/rpcapi.py\", line 107, in select_destinations\\n2014-07-21 16:17:52.535 |     request_spec=request_spec, filter_properties=filter_properties)\\n2014-07-21 16:17:52.535 |   File \"/home/jenkins/workspace/gate-nova-python26/.tox/py26/lib/python2.6/site-packages/oslo/messaging/rpc/client.py\", line 150, in call\\n2014-07-21 16:17:52.535 |     wait_for_reply=True, timeout=timeout)\\n2014-07-21 16:17:52.535 |   File \"/home/jenkins/workspace/gate-nova-python26/.tox/py26/lib/python2.6/site-packages/oslo/messaging/transport.py\", line 90, in _send\\n2014-07-21 16:17:52.535 |     timeout=timeout)\\n2014-07-21 16:17:52.535 |   File \"/home/jenkins/workspace/gate-nova-python26/.tox/py26/lib/python2.6/site-packages/oslo/messaging/_drivers/impl_fake.py\", line 166, in send\\n2014-07-21 16:17:52.535 |     return self._send(target, ctxt, message, wait_for_reply, timeout)\\n2014-07-21 16:17:52.535 |   File \"/home/jenkins/workspace/gate-nova-python26/.tox/py26/lib/python2.6/site-packages/oslo/messaging/_drivers/impl_fake.py\", line 161, in _send\\n2014-07-21 16:17:52.535 |     \\'No reply on topic %s\\' % target.topic)\\n2014-07-21 16:17:52.536 | MessagingTimeout: No reply on topic scheduler\\n2014-07-21 16:17:52.536 | WARNING [nova.scheduler.driver] Setting instance to ERROR state.\\n2014-07-21 16:17:52.536 | }}}\\n2014-07-21 16:17:52.536 | \\n2014-07-21 16:17:52.536 | stderr: {{{\\n2014-07-21 16:17:52.536 | Traceback (most recent call last):\\n2014-07-21 16:17:52.536 |   File \"/home/jenkins/workspace/gate-nova-python26/.tox/py26/lib/python2.6/site-packages/eventlet/hubs/hub.py\", line 346, in fire_timers\\n2014-07-21 16:17:52.536 |     timer()\\n2014-07-21 16:17:52.536 |   File \"/home/jenkins/workspace/gate-nova-python26/.tox/py26/lib/python2.6/site-packages/eventlet/hubs/timer.py\", line 58, in __call__\\n2014-07-21 16:17:52.537 |     cb(*args, **kw)\\n2014-07-21 16:17:52.537 |   File \"nova/utils.py\", line 949, in wrapper\\n2014-07-21 16:17:52.537 |     return func(*args, **kwargs)\\n2014-07-21 16:17:52.537 |   File \"nova/conductor/manager.py\", line 610, in build_instances\\n2014-07-21 16:17:52.537 |     instance.uuid, request_spec)\\n2014-07-21 16:17:52.537 |   File \"nova/scheduler/driver.py\", line 63, in handle_schedule_error\\n2014-07-21 16:17:52.537 |     \\'task_state\\': None})\\n2014-07-21 16:17:52.537 |   File \"nova/db/api.py\", line 780, in instance_update_and_get_original\\n2014-07-21 16:17:52.537 |     columns_to_join=columns_to_join)\\n2014-07-21 16:17:52.538 |   File \"nova/db/sqlalchemy/api.py\", line 164, in wrapper\\n2014-07-21 16:17:52.538 |     return f(*args, **kwargs)\\n2014-07-21 16:17:52.538 |   File \"nova/db/sqlalchemy/api.py\", line 2235, in instance_update_and_get_original\\n2014-07-21 16:17:52.538 |     columns_to_join=columns_to_join)\\n2014-07-21 16:17:52.538 |   File \"nova/db/sqlalchemy/api.py\", line 2273, in _instance_update\\n2014-07-21 16:17:52.538 |     columns_to_join=columns_to_join)\\n2014-07-21 16:17:52.538 |   File \"nova/db/sqlalchemy/api.py\", line 1723, in _instance_get_by_uuid\\n2014-07-21 16:17:52.538 |     raise exception.InstanceNotFound(instance_id=uuid)\\n2014-07-21 16:17:52.538 | InstanceNotFound: Instance 75ec35ac-f21d-40a1-8fcd-bad659c595b7 could not be found.\\n2014-07-21 16:17:52.539 | Traceback (most recent call last):\\n2014-07-21 16:17:52.539 |   File \"/home/jenkins/workspace/gate-nova-python26/.tox/py26/lib/python2.6/site-packages/eventlet/hubs/hub.py\", line 346, in fire_timers\\n2014-07-21 16:17:52.539 |     timer()\\n2014-07-21 16:17:52.539 |   File \"/home/jenkins/workspace/gate-nova-python26/.tox/py26/lib/python2.6/site-packages/eventlet/hubs/timer.py\", line 58, in __call__\\n2014-07-21 16:17:52.539 |     cb(*args, **kw)\\n2014-07-21 16:17:52.539 |   File \"nova/utils.py\", line 949, in wrapper\\n2014-07-21 16:17:52.539 |     return func(*args, **kwargs)\\n2014-07-21 16:17:52.539 |   File \"nova/conductor/manager.py\", line 610, in build_instances\\n2014-07-21 16:17:52.539 |     instance.uuid, request_spec)\\n2014-07-21 16:17:52.540 |   File \"nova/scheduler/driver.py\", line 63, in handle_schedule_error\\n2014-07-21 16:17:52.540 |     \\'task_state\\': None})\\n2014-07-21 16:17:52.556 |   File \"/home/jenkins/workspace/gate-nova-python26/.tox/py26/lib/python2.6/site-packages/mox.py\", line 765, in __call__\\n2014-07-21 16:17:52.556 |     return mock_method(*params, **named_params)\\n2014-07-21 16:17:52.556 |   File \"/home/jenkins/workspace/gate-nova-python26/.tox/py26/lib/python2.6/site-packages/mox.py\", line 1002, in __call__\\n2014-07-21 16:17:52.556 |     expected_method = self._VerifyMethodCall()\\n2014-07-21 16:17:52.556 |   File \"/home/jenkins/workspace/gate-nova-python26/.tox/py26/lib/python2.6/site-packages/mox.py\", line 1060, in _VerifyMethodCall\\n2014-07-21 16:17:52.556 |     raise UnexpectedMethodCallError(self, expected)\\n2014-07-21 16:17:52.556 | UnexpectedMethodCallError: Unexpected method call.  unexpected:-  expected:+\\n2014-07-21 16:17:52.556 | - instance_update_and_get_original.__call__(<nova.context.RequestContext object at 0x8ffa810>, \\'2e3a18ac-8d55-4884-b84c-fdd2472c6b0d\\', {\\'vm_state\\': \\'error\\', \\'task_state\\': None}) -> None\\n2014-07-21 16:17:52.609 | + instance_update_and_get_original.__call__(<nova.context.RequestContext object at 0xbb79dd0>, \\'5b76c1af-2fa5-4707-9242-957c5e9ca029\\', {\\'vm_state\\': \\'shelved\\', \\'system_metadata\\': {u\\'instance_type_memory_mb\\': u\\'512\\', u\\'instance_type_swap\\': u\\'0\\', u\\'instance_type_vcpu_weight\\': None, u\\'instance_type_root_gb\\': u\\'1\\', u\\'instance_type_id\\': u\\'2\\', u\\'instance_type_name\\': u\\'m1.tiny\\', u\\'instance_type_ephemeral_gb\\': u\\'0\\', u\\'instance_type_rxtx_factor\\': u\\'1.0\\', \\'shelved_at\\': \\'2014-07-21T16:17:49.765399\\', \\'shelved_host\\': \\'fake-mini\\', u\\'instance_type_flavorid\\': u\\'1\\', u\\'instance_type_vcpus\\': u\\'1\\', \\'shelved_image_id\\': \\'fake_image_id\\'}, \\'task_state\\': \\'shelving_offloading\\', \\'expected_task_state\\': [\\'shelving\\', \\'shelving_image_uploading\\'], \\'power_state\\': 123}, columns_to_join=[\\'metadata\\', \\'system_metadata\\'], update_cells=False) -> ({\\'vm_state\\': \\'active\\', \\'internal_id\\': None, \\'availability_zone\\': None, \\'terminated_at\\': None, \\'ephemeral_gb\\': 0, \\'instance_type_id\\': 2, \\'user_data\\': None, \\'cleaned\\': 0, \\'vm_mode\\': None, \\'deleted_at\\': None, \\'reservation_id\\': \\'r-fakeres\\', \\'id\\': 1, \\'security_groups\\': [], \\'disable_terminate\\': False, \\'user_id\\': \\'fake\\', \\'uuid\\': \\'5b76c1af-2fa5-4707-9242-957c5e9ca029\\', \\'default_swap_device\\': None, \\'info_cache\\': {\\'instance_uuid\\': \\'5b76c1af-2fa5-4707-9242-957c5e9ca029\\', \\'deleted\\': 0, \\'created_at\\': \\'2014-07-21T16:17:49.034579\\', \\'updated_at\\': None, \\'instance\\': {\\'vm_state\\': \\'active\\', \\'internal_id\\': None, \\'availability_zone\\': None, \\'terminated_at\\': None, \\'ephemeral_gb\\': 0, \\'instance_type_id\\': 2, \\'user_data\\': None, \\'cleaned\\': 0, \\'vm_mode\\': None, \\'deleted_at\\': None, \\'reservation_id\\': \\'r-fakeres\\', \\'id\\': 1, \\'security_groups\\': [], \\'disable_terminate\\': False, \\'user_id\\': \\'fake\\', \\'uuid\\': \\'5b76c1af-2fa5-4707-9242-957c5e9ca029\\', \\'default_swap_device\\': None, \\'info_cache\\': \\'?\\', \\'hostname\\': None, \\'launched_on\\': None, \\'display_description\\': None, \\'key_data\\': None, \\'kernel_id\\': None, \\'power_state\\': None, \\'default_ephemeral_device\\': None, \\'progress\\': None, \\'project_id\\': \\'fake\\', \\'launched_at\\': \\'2014-07-21T16:17:49.020912\\', \\'config_drive\\': None, \\'node\\': \\'fakenode1\\', \\'ramdisk_id\\': None, \\'access_ip_v6\\': None, \\'access_ip_v4\\': None, \\'deleted\\': 0, \\'key_name\\': None, \\'updated_at\\': \\'2014-07-21T16:17:49.020911\\', \\'host\\': \\'fake_host\\', \\'ephemeral_key_uuid\\': None, \\'architecture\\': \\'x86_64\\', \\'display_name\\': None, \\'system_metadata\\': [\\'?\\', \\'?\\', \\'?\\', \\'?\\', \\'?\\', \\'?\\', \\'?\\', \\'?\\', \\'?\\', \\'?\\'], \\'task_state\\': None, \\'shutdown_terminate\\': False, \\'cell_name\\': None, \\'root_gb\\': 0, \\'locked\\': False, \\'name\\': \\'instance-00000001\\', \\'ami_launch_index\\': 0, \\'created_at\\': \\'2014-07-21T16:17:49.020902\\', \\'locked_by\\': None, \\'launch_index\\': None, \\'metadata\\': [], \\'memory_mb\\': 0, \\'vcpus\\': 0, \\'image_ref\\': \\'fake-image-ref\\', \\'root_device_name\\': None, \\'auto_disk_config\\': None, \\'os_type\\': \\'Linux\\', \\'scheduled_at\\': None}, \\'network_info\\': None, \\'deleted_at\\': None, \\'id\\': 1}, \\'hostname\\': None, \\'launched_on\\': None, \\'display_description\\': None, \\'key_data\\': None, \\'kernel_id\\': None, \\'power_state\\': None, \\'default_ephemeral_device\\': None, \\'progress\\': None, \\'project_id\\': \\'fake\\', \\'launched_at\\': \\'2014-07-21T16:17:49.020912\\', \\'config_drive\\': None, \\'node\\': \\'fakenode1\\', \\'ramdisk_id\\': None, \\'access_ip_v6\\': None, \\'access_ip_v4\\': None, \\'deleted\\': 0, \\'key_name\\': None, \\'updated_at\\': \\'2014-07-21T16:17:49.020911\\', \\'host\\': \\'fake_host\\', \\'ephemeral_key_uuid\\': None, \\'architecture\\': \\'x86_64\\', \\'display_name\\': None, \\'system_metadata\\': [{\\'value\\': u\\'512\\', \\'key\\': u\\'instance_type_memory_mb\\'}, {\\'value\\': u\\'0\\', \\'key\\': u\\'instance_type_swap\\'}, {\\'value\\': None, \\'key\\': u\\'instance_type_vcpu_weight\\'}, {\\'value\\': u\\'1\\', \\'key\\': u\\'instance_type_root_gb\\'}, {\\'value\\': u\\'2\\', \\'key\\': u\\'instance_type_id\\'}, {\\'value\\': u\\'m1.tiny\\', \\'key\\': u\\'instance_type_name\\'}, {\\'value\\': u\\'0\\', \\'key\\': u\\'instance_type_ephemeral_gb\\'}, {\\'value\\': u\\'1.0\\', \\'key\\': u\\'instance_type_rxtx_factor\\'}, {\\'value\\': \\'2014-07-21T16:17:49.765399\\', \\'key\\': \\'shelved_at\\'}, {\\'value\\': \\'fake-mini\\', \\'key\\': \\'shelved_host\\'}, {\\'value\\': u\\'1\\', \\'key\\': u\\'instance_type_flavorid\\'}, {\\'value\\': u\\'1\\', \\'key\\': u\\'instance_type_vcpus\\'}, {\\'value\\': \\'fake_image_id\\', \\'key\\': \\'shelved_image_id\\'}], \\'task_state\\': None, \\'shutdown_terminate\\': False, \\'cell_name\\': None, \\'root_gb\\': 0, \\'locked\\': False, \\'name\\': \\'instance-00000001\\', \\'ami_launch_index\\': 0, \\'created_at\\': \\'2014-07-21T16:17:49.020902\\', \\'locked_by\\': None, \\'launch_index\\': None, \\'metadata\\': [], \\'memory_mb\\': 0, \\'vcpus\\': 0, \\'image_ref\\': \\'fake-image-ref\\', \\'root_device_name\\': None, \\'auto_disk_config\\': None, \\'os_type\\': \\'Linux\\', \\'scheduled_at\\': None}, {\\'vm_state\\': \\'active\\', \\'internal_id\\': None, \\'availability_zone\\': None, \\'terminated_at\\': None, \\'ephemeral_gb\\': 0, \\'instance_type_id\\': 2, \\'user_data\\': None, \\'cleaned\\': 0, \\'vm_mode\\': None, \\'deleted_at\\': None, \\'reservation_id\\': \\'r-fakeres\\', \\'id\\': 1, \\'security_groups\\': [], \\'disable_terminate\\': False, \\'user_id\\': \\'fake\\', \\'uuid\\': \\'5b76c1af-2fa5-4707-9242-957c5e9ca029\\', \\'default_swap_device\\': None, \\'info_cache\\': {\\'instance_uuid\\': \\'5b76c1af-2fa5-4707-9242-957c5e9ca029\\', \\'deleted\\': 0, \\'created_at\\': \\'2014-07-21T16:17:49.034579\\', \\'updated_at\\': None, \\'instance\\': {\\'vm_state\\': \\'active\\', \\'internal_id\\': None, \\'availability_zone\\': None, \\'terminated_at\\': None, \\'ephemeral_gb\\': 0, \\'instance_type_id\\': 2, \\'user_data\\': None, \\'cleaned\\': 0, \\'vm_mode\\': None, \\'deleted_at\\': None, \\'reservation_id\\': \\'r-fakeres\\', \\'id\\': 1, \\'security_groups\\': [], \\'disable_terminate\\': False, \\'user_id\\': \\'fake\\', \\'uuid\\': \\'5b76c1af-2fa5-4707-9242-957c5e9ca029\\', \\'default_swap_device\\': None, \\'info_cache\\': \\'?\\', \\'hostname\\': None, \\'launched_on\\': None, \\'display_description\\': None, \\'key_data\\': None, \\'kernel_id\\': None, \\'power_state\\': None, \\'default_ephemeral_device\\': None, \\'progress\\': None, \\'project_id\\': \\'fake\\', \\'launched_at\\': \\'2014-07-21T16:17:49.020912\\', \\'config_drive\\': None, \\'node\\': \\'fakenode1\\', \\'ramdisk_id\\': None, \\'access_ip_v6\\': None, \\'access_ip_v4\\': None, \\'deleted\\': 0, \\'key_name\\': None, \\'updated_at\\': \\'2014-07-21T16:17:49.020911\\', \\'host\\': \\'fake_host\\', \\'ephemeral_key_uuid\\': None, \\'architecture\\': \\'x86_64\\', \\'display_name\\': None, \\'system_metadata\\': [\\'?\\', \\'?\\', \\'?\\', \\'?\\', \\'?\\', \\'?\\', \\'?\\', \\'?\\', \\'?\\', \\'?\\'], \\'task_state\\': None, \\'shutdown_terminate\\': False, \\'cell_name\\': None, \\'root_gb\\': 0, \\'locked\\': False, \\'name\\': \\'instance-00000001\\', \\'ami_launch_index\\': 0, \\'created_at\\': \\'2014-07-21T16:17:49.020902\\', \\'locked_by\\': None, \\'launch_index\\': None, \\'metadata\\': [], \\'memory_mb\\': 0, \\'vcpus\\': 0, \\'image_ref\\': \\'fake-image-ref\\', \\'root_device_name\\': None, \\'auto_disk_config\\': None, \\'os_type\\': \\'Linux\\', \\'scheduled_at\\': None}, \\'network_info\\': None, \\'deleted_at\\': None, \\'id\\': 1}, \\'hostname\\': None, \\'launched_on\\': None, \\'display_description\\': None, \\'key_data\\': None, \\'kernel_id\\': None, \\'power_state\\': None, \\'default_ephemeral_device\\': None, \\'progress\\': None, \\'project_id\\': \\'fake\\', \\'launched_at\\': \\'2014-07-21T16:17:49.020912\\', \\'config_drive\\': None, \\'node\\': \\'fakenode1\\', \\'ramdisk_id\\': None, \\'access_ip_v6\\': None, \\'access_ip_v4\\': None, \\'deleted\\': 0, \\'key_name\\': None, \\'updated_at\\': \\'2014-07-21T16:17:49.020911\\', \\'host\\': \\'fake_host\\', \\'ephemeral_key_uuid\\': None, \\'architecture\\': \\'x86_64\\', \\'display_name\\': None, \\'system_metadata\\': [{\\'value\\': u\\'512\\', \\'key\\': u\\'instance_type_memory_mb\\'}, {\\'value\\': u\\'0\\', \\'key\\': u\\'instance_type_swap\\'}, {\\'value\\': None, \\'key\\': u\\'instance_type_vcpu_weight\\'}, {\\'value\\': u\\'1\\', \\'key\\': u\\'instance_type_root_gb\\'}, {\\'value\\': u\\'2\\', \\'key\\': u\\'instance_type_id\\'}, {\\'value\\': u\\'m1.tiny\\', \\'key\\': u\\'instance_type_name\\'}, {\\'value\\': u\\'0\\', \\'key\\': u\\'instance_type_ephemeral_gb\\'}, {\\'value\\': u\\'1.0\\', \\'key\\': u\\'instance_type_rxtx_factor\\'}, {\\'value\\': \\'2014-07-21T16:17:49.765399\\', \\'key\\': \\'shelved_at\\'}, {\\'value\\': \\'fake-mini\\', \\'key\\': \\'shelved_host\\'}, {\\'value\\': u\\'1\\', \\'key\\': u\\'instance_type_flavorid\\'}, {\\'value\\': u\\'1\\', \\'key\\': u\\'instance_type_vcpus\\'}, {\\'value\\': \\'fake_image_id\\', \\'key\\': \\'shelved_image_id\\'}], \\'task_state\\': None, \\'shutdown_terminate\\': False, \\'cell_name\\': None, \\'root_gb\\': 0, \\'locked\\': False, \\'name\\': \\'instance-00000001\\', \\'ami_launch_index\\': 0, \\'created_at\\': \\'2014-07-21T16:17:49.020902\\', \\'locked_by\\': None, \\'launch_index\\': None, \\'metadata\\': [], \\'memory_mb\\': 0, \\'vcpus\\': 0, \\'image_ref\\': \\'fake-image-ref\\', \\'root_device_name\\': None, \\'auto_disk_config\\': None, \\'os_type\\': \\'Linux\\', \\'scheduled_at\\': None})\\n2014-07-21 16:17:52.609 | }}}\\n2014-07-21 16:17:52.609 | \\n2014-07-21 16:17:52.609 | traceback-1: {{{\\n2014-07-21 16:17:52.609 | Traceback (most recent call last):\\n2014-07-21 16:17:52.609 |   File \"/home/jenkins/workspace/gate-nova-python26/.tox/py26/lib/python2.6/site-packages/fixtures/fixture.py\", line 112, in cleanUp\\n2014-07-21 16:17:52.610 |     return self._cleanups(raise_errors=raise_first)\\n2014-07-21 16:17:52.610 |   File \"/home/jenkins/workspace/gate-nova-python26/.tox/py26/lib/python2.6/site-packages/fixtures/callmany.py\", line 88, in __call__\\n2014-07-21 16:17:52.610 |     reraise(error[0], error[1], error[2])\\n2014-07-21 16:17:52.610 |   File \"/home/jenkins/workspace/gate-nova-python26/.tox/py26/lib/python2.6/site-packages/fixtures/callmany.py\", line 82, in __call__\\n2014-07-21 16:17:52.610 |     cleanup(*args, **kwargs)\\n2014-07-21 16:17:52.610 |   File \"/home/jenkins/workspace/gate-nova-python26/.tox/py26/lib/python2.6/site-packages/mox.py\", line 286, in VerifyAll\\n2014-07-21 16:17:52.610 |     mock_obj._Verify()\\n2014-07-21 16:17:52.610 |   File \"/home/jenkins/workspace/gate-nova-python26/.tox/py26/lib/python2.6/site-packages/mox.py\", line 506, in _Verify\\n2014-07-21 16:17:52.610 |     raise ExpectedMethodCallsError(self._expected_calls_queue)\\n2014-07-21 16:17:52.610 | ExpectedMethodCallsError: Verify: Expected methods never called:\\n2014-07-21 16:17:52.610 |   0.  _notify_about_instance_usage.__call__(<nova.context.RequestContext object at 0xbb79dd0>, Instance(access_ip_v4=None,access_ip_v6=None,architecture=\\'x86_64\\',auto_disk_config=False,availability_zone=None,cell_name=None,cleaned=False,config_drive=None,created_at=2014-07-21T16:17:49Z,default_ephemeral_device=None,default_swap_device=None,deleted=False,deleted_at=None,disable_terminate=False,display_description=None,display_name=None,ephemeral_gb=0,ephemeral_key_uuid=None,fault=<?>,host=\\'fake-mini\\',hostname=None,id=1,image_ref=\\'fake-image-ref\\',info_cache=<?>,instance_type_id=2,kernel_id=None,key_data=None,key_name=None,launch_index=None,launched_at=2014-07-21T16:17:49Z,launched_on=\\'fake-mini\\',locked=False,locked_by=None,memory_mb=0,metadata={},node=\\'fakenode1\\',os_type=\\'Linux\\',pci_devices=<?>,power_state=123,progress=None,project_id=\\'fake\\',ramdisk_id=None,reservation_id=\\'r-fakeres\\',root_device_name=None,root_gb=0,scheduled_at=None,security_groups=<?>,shutdown_terminate=False,system_metadata={instance_type_ephemeral_gb=\\'0\\',instance_type_flavorid=\\'1\\',instance_type_id=\\'2\\',instance_type_memory_mb=\\'512\\',instance_type_name=\\'m1.tiny\\',instance_type_root_gb=\\'1\\',instance_type_rxtx_factor=\\'1.0\\',instance_type_swap=\\'0\\',instance_type_vcpu_weight=None,instance_type_vcpus=\\'1\\',shelved_at=\\'2014-07-21T16:17:49.765399\\',shelved_host=\\'fake-mini\\',shelved_image_id=\\'fake_image_id\\'},task_state=\\'shelving_offloading\\',terminated_at=None,updated_at=2014-07-21T16:17:49Z,user_data=None,user_id=\\'fake\\',uuid=5b76c1af-2fa5-4707-9242-957c5e9ca029,vcpus=0,vm_mode=None,vm_state=\\'shelved\\'), \\'shelve.end\\') -> None\\n2014-07-21 16:17:52.611 |   1.  _notify_about_instance_usage.__call__(<nova.context.RequestContext object at 0xbb79dd0>, Instance(access_ip_v4=None,access_ip_v6=None,architecture=\\'x86_64\\',auto_disk_config=False,availability_zone=None,cell_name=None,cleaned=False,config_drive=None,created_at=2014-07-21T16:17:49Z,default_ephemeral_device=None,default_swap_device=None,deleted=False,deleted_at=None,disable_terminate=False,display_description=None,display_name=None,ephemeral_gb=0,ephemeral_key_uuid=None,fault=<?>,host=\\'fake-mini\\',hostname=None,id=1,image_ref=\\'fake-image-ref\\',info_cache=<?>,instance_type_id=2,kernel_id=None,key_data=None,key_name=None,launch_index=None,launched_at=2014-07-21T16:17:49Z,launched_on=\\'fake-mini\\',locked=False,locked_by=None,memory_mb=0,metadata={},node=\\'fakenode1\\',os_type=\\'Linux\\',pci_devices=<?>,power_state=123,progress=None,project_id=\\'fake\\',ramdisk_id=None,reservation_id=\\'r-fakeres\\',root_device_name=None,root_gb=0,scheduled_at=None,security_groups=<?>,shutdown_terminate=False,system_metadata={instance_type_ephemeral_gb=\\'0\\',instance_type_flavorid=\\'1\\',instance_type_id=\\'2\\',instance_type_memory_mb=\\'512\\',instance_type_name=\\'m1.tiny\\',instance_type_root_gb=\\'1\\',instance_type_rxtx_factor=\\'1.0\\',instance_type_swap=\\'0\\',instance_type_vcpu_weight=None,instance_type_vcpus=\\'1\\',shelved_at=\\'2014-07-21T16:17:49.765399\\',shelved_host=\\'fake-mini\\',shelved_image_id=\\'fake_image_id\\'},task_state=\\'shelving_offloading\\',terminated_at=None,updated_at=2014-07-21T16:17:49Z,user_data=None,user_id=\\'fake\\',uuid=5b76c1af-2fa5-4707-9242-957c5e9ca029,vcpus=0,vm_mode=None,vm_state=\\'shelved\\'), \\'shelve_offload.start\\') -> None\\n2014-07-21 16:17:52.611 |   2.  _notify_about_instance_usage.__call__(<nova.context.RequestContext object at 0xbb79dd0>, Instance(access_ip_v4=None,access_ip_v6=None,architecture=\\'x86_64\\',auto_disk_config=False,availability_zone=None,cell_name=None,cleaned=False,config_drive=None,created_at=2014-07-21T16:17:49Z,default_ephemeral_device=None,default_swap_device=None,deleted=False,deleted_at=None,disable_terminate=False,display_description=None,display_name=None,ephemeral_gb=0,ephemeral_key_uuid=None,fault=<?>,host=\\'fake-mini\\',hostname=None,id=1,image_ref=\\'fake-image-ref\\',info_cache=<?>,instance_type_id=2,kernel_id=None,key_data=None,key_name=None,launch_index=None,launched_at=2014-07-21T16:17:49Z,launched_on=\\'fake-mini\\',locked=False,locked_by=None,memory_mb=0,metadata={},node=\\'fakenode1\\',os_type=\\'Linux\\',pci_devices=<?>,power_state=123,progress=None,project_id=\\'fake\\',ramdisk_id=None,reservation_id=\\'r-fakeres\\',root_device_name=None,root_gb=0,scheduled_at=None,security_groups=<?>,shutdown_terminate=False,system_metadata={instance_type_ephemeral_gb=\\'0\\',instance_type_flavorid=\\'1\\',instance_type_id=\\'2\\',instance_type_memory_mb=\\'512\\',instance_type_name=\\'m1.tiny\\',instance_type_root_gb=\\'1\\',instance_type_rxtx_factor=\\'1.0\\',instance_type_swap=\\'0\\',instance_type_vcpu_weight=None,instance_type_vcpus=\\'1\\',shelved_at=\\'2014-07-21T16:17:49.765399\\',shelved_host=\\'fake-mini\\',shelved_image_id=\\'fake_image_id\\'},task_state=\\'shelving_offloading\\',terminated_at=None,updated_at=2014-07-21T16:17:49Z,user_data=None,user_id=\\'fake\\',uuid=5b76c1af-2fa5-4707-9242-957c5e9ca029,vcpus=0,vm_mode=None,vm_state=\\'shelved\\'), \\'shelve_offload.end\\') -> None\\n2014-07-21 16:17:52.611 | }}}\\n2014-07-21 16:17:52.611 | \\n2014-07-21 16:17:52.611 | Traceback (most recent call last):\\n2014-07-21 16:17:52.611 |   File \"nova/tests/compute/test_shelve.py\", line 124, in test_shelve_offload\\n2014-07-21 16:17:52.611 |     self._shelve_instance(0)\\n2014-07-21 16:17:52.611 |   File \"nova/tests/compute/test_shelve.py\", line 118, in _shelve_instance\\n2014-07-21 16:17:52.611 |     image_id=image_id)\\n2014-07-21 16:17:52.611 |   File \"nova/exception.py\", line 88, in wrapped\\n2014-07-21 16:17:52.612 |     payload)\\n2014-07-21 16:17:52.612 |   File \"nova/openstack/common/excutils.py\", line 82, in __exit__\\n2014-07-21 16:17:52.612 |     six.reraise(self.type_, self.value, self.tb)\\n2014-07-21 16:17:52.612 |   File \"nova/exception.py\", line 71, in wrapped\\n2014-07-21 16:17:52.612 |     return f(self, context, *args, **kw)\\n2014-07-21 16:17:52.612 |   File \"nova/compute/manager.py\", line 291, in decorated_function\\n2014-07-21 16:17:52.612 |     pass\\n2014-07-21 16:17:52.612 |   File \"nova/openstack/common/excutils.py\", line 82, in __exit__\\n2014-07-21 16:17:52.612 |     six.reraise(self.type_, self.value, self.tb)\\n2014-07-21 16:17:52.612 |   File \"nova/compute/manager.py\", line 277, in decorated_function\\n2014-07-21 16:17:52.612 |     return function(self, context, *args, **kwargs)\\n2014-07-21 16:17:52.612 |   File \"nova/compute/manager.py\", line 341, in decorated_function\\n2014-07-21 16:17:52.613 |     return function(self, context, *args, **kwargs)\\n2014-07-21 16:17:52.613 |   File \"nova/compute/manager.py\", line 319, in decorated_function\\n2014-07-21 16:17:52.613 |     kwargs[\\'instance\\'], e, sys.exc_info())\\n2014-07-21 16:17:52.613 |   File \"nova/openstack/common/excutils.py\", line 82, in __exit__\\n2014-07-21 16:17:52.613 |     six.reraise(self.type_, self.value, self.tb)\\n2014-07-21 16:17:52.613 |   File \"nova/compute/manager.py\", line 307, in decorated_function\\n2014-07-21 16:17:52.613 |     return function(self, context, *args, **kwargs)\\n2014-07-21 16:17:52.613 |   File \"nova/compute/manager.py\", line 3924, in shelve_instance\\n2014-07-21 16:17:52.613 |     task_states.SHELVING_IMAGE_UPLOADING])\\n2014-07-21 16:17:52.613 |   File \"nova/objects/base.py\", line 196, in wrapper\\n2014-07-21 16:17:52.613 |     return fn(self, ctxt, *args, **kwargs)\\n2014-07-21 16:17:52.614 |   File \"nova/objects/instance.py\", line 469, in save\\n2014-07-21 16:17:52.614 |     columns_to_join=_expected_cols(expected_attrs))\\n2014-07-21 16:17:52.614 |   File \"/home/jenkins/workspace/gate-nova-python26/.tox/py26/lib/python2.6/site-packages/mox.py\", line 765, in __call__\\n2014-07-21 16:17:52.614 |     return mock_method(*params, **named_params)\\n2014-07-21 16:17:52.614 |   File \"/home/jenkins/workspace/gate-nova-python26/.tox/py26/lib/python2.6/site-packages/mox.py\", line 1002, in __call__\\n2014-07-21 16:17:52.614 |     expected_method = self._VerifyMethodCall()\\n2014-07-21 16:17:52.614 |   File \"/home/jenkins/workspace/gate-nova-python26/.tox/py26/lib/python2.6/site-packages/mox.py\", line 1060, in _VerifyMethodCall\\n2014-07-21 16:17:52.614 |     raise UnexpectedMethodCallError(self, expected)\\n2014-07-21 16:17:52.614 | UnexpectedMethodCallError: Unexpected method call.  unexpected:-  expected:+\\n2014-07-21 16:17:52.615 | - instance_update_and_get_original.__call__(<nova.context.RequestContext object at 0xbb79dd0>, \\'5b76c1af-2fa5-4707-9242-957c5e9ca029\\', {\\'vm_state\\': u\\'shelved\\', \\'system_metadata\\': {u\\'instance_type_memory_mb\\': u\\'512\\', u\\'instance_type_swap\\': u\\'0\\', u\\'instance_type_vcpu_weight\\': None, u\\'instance_type_root_gb\\': u\\'1\\', u\\'instance_type_name\\': u\\'m1.tiny\\', u\\'instance_type_id\\': u\\'2\\', u\\'instance_type_ephemeral_gb\\': u\\'0\\', u\\'instance_type_rxtx_factor\\': u\\'1.0\\', \\'shelved_at\\': \\'2014-07-21T16:17:49.765399\\', \\'shelved_host\\': \\'fake-mini\\', u\\'instance_type_flavorid\\': u\\'1\\', u\\'instance_type_vcpus\\': u\\'1\\', \\'shelved_image_id\\': \\'fake_image_id\\'}, \\'task_state\\': u\\'shelving_offloading\\', \\'expected_task_state\\': [\\'shelving\\', \\'shelving_image_uploading\\'], \\'power_state\\': 123}, columns_to_join=[\\'metadata\\', \\'system_metadata\\'], update_cells=False) -> None\\n2014-07-21 16:26:39.029 | + instance_update_and_get_original.__call__(<nova.context.RequestContext object at 0xbb79dd0>, \\'5b76c1af-2fa5-4707-9242-957c5e9ca029\\', {\\'node\\': None, \\'vm_state\\': \\'shelved_offloaded\\', \\'expected_task_state\\': [\\'shelving\\', \\'shelving_offloading\\'], \\'host\\': None, \\'power_state\\': 123, \\'task_state\\': None}, columns_to_join=[\\'metadata\\', \\'system_metadata\\'], update_cells=False) -> ({\\'vm_state\\': \\'active\\', \\'internal_id\\': None, \\'availability_zone\\': None, \\'terminated_at\\': None, \\'ephemeral_gb\\': 0, \\'instance_type_id\\': 2, \\'user_data\\': None, \\'cleaned\\': 0, \\'vm_mode\\': None, \\'deleted_at\\': None, \\'reservation_id\\': \\'r-fakeres\\', \\'id\\': 1, \\'security_groups\\': [], \\'disable_terminate\\': False, \\'user_id\\': \\'fake\\', \\'uuid\\': \\'5b76c1af-2fa5-4707-9242-957c5e9ca029\\', \\'default_swap_device\\': None, \\'info_cache\\': {\\'instance_uuid\\': \\'5b76c1af-2fa5-4707-9242-957c5e9ca029\\', \\'deleted\\': 0, \\'created_at\\': \\'2014-07-21T16:17:49.034579\\', \\'updated_at\\': None, \\'instance\\': {\\'vm_state\\': \\'active\\', \\'internal_id\\': None, \\'availability_zone\\': None, \\'terminated_at\\': None, \\'ephemeral_gb\\': 0, \\'instance_type_id\\': 2, \\'user_data\\': None, \\'cleaned\\': 0, \\'vm_mode\\': None, \\'deleted_at\\': None, \\'reservation_id\\': \\'r-fakeres\\', \\'id\\': 1, \\'security_groups\\': [], \\'disable_terminate\\': False, \\'user_id\\': \\'fake\\', \\'uuid\\': \\'5b76c1af-2fa5-4707-9242-957c5e9ca029\\', \\'default_swap_device\\': None, \\'info_cache\\': \\'?\\', \\'hostname\\': None, \\'launched_on\\': None, \\'display_description\\': None, \\'key_data\\': None, \\'kernel_id\\': None, \\'power_state\\': None, \\'default_ephemeral_device\\': None, \\'progress\\': None, \\'project_id\\': \\'fake\\', \\'launched_at\\': \\'2014-07-21T16:17:49.020912\\', \\'config_drive\\': None, \\'node\\': \\'fakenode1\\', \\'ramdisk_id\\': None, \\'access_ip_v6\\': None, \\'access_ip_v4\\': None, \\'deleted\\': 0, \\'key_name\\': None, \\'updated_at\\': \\'2014-07-21T16:17:49.020911\\', \\'host\\': \\'fake_host\\', \\'ephemeral_key_uuid\\': None, \\'architecture\\': \\'x86_64\\', \\'display_name\\': None, \\'system_metadata\\': [\\'?\\', \\'?\\', \\'?\\', \\'?\\', \\'?\\', \\'?\\', \\'?\\', \\'?\\', \\'?\\', \\'?\\'], \\'task_state\\': None, \\'shutdown_terminate\\': False, \\'cell_name\\': None, \\'root_gb\\': 0, \\'locked\\': False, \\'name\\': \\'instance-00000001\\', \\'ami_launch_index\\': 0, \\'created_at\\': \\'2014-07-21T16:17:49.020902\\', \\'locked_by\\': None, \\'launch_index\\': None, \\'metadata\\': [], \\'memory_mb\\': 0, \\'vcpus\\': 0, \\'image_ref\\': \\'fake-image-ref\\', \\'root_device_name\\': None, \\'auto_disk_config\\': None, \\'os_type\\': \\'Linux\\', \\'scheduled_at\\': None}, \\'network_info\\': None, \\'deleted_at\\': None, \\'id\\': 1}, \\'hostname\\': None, \\'launched_on\\': None, \\'display_description\\': None, \\'key_data\\': None, \\'kernel_id\\': None, \\'power_state\\': None, \\'default_ephemeral_device\\': None, \\'progress\\': None, \\'project_id\\': \\'fake\\', \\'launched_at\\': \\'2014-07-21T16:17:49.020912\\', \\'config_drive\\': None, \\'node\\': \\'fakenode1\\', \\'ramdisk_id\\': None, \\'access_ip_v6\\': None, \\'access_ip_v4\\': None, \\'deleted\\': 0, \\'key_name\\': None, \\'updated_at\\': \\'2014-07-21T16:17:49.020911\\', \\'host\\': \\'fake_host\\', \\'ephemeral_key_uuid\\': None, \\'architecture\\': \\'x86_64\\', \\'display_name\\': None, \\'system_metadata\\': [{\\'value\\': u\\'512\\', \\'key\\': u\\'instance_type_memory_mb\\'}, {\\'value\\': u\\'0\\', \\'key\\': u\\'instance_type_swap\\'}, {\\'value\\': None, \\'key\\': u\\'instance_type_vcpu_weight\\'}, {\\'value\\': u\\'1\\', \\'key\\': u\\'instance_type_root_gb\\'}, {\\'value\\': u\\'2\\', \\'key\\': u\\'instance_type_id\\'}, {\\'value\\': u\\'m1.tiny\\', \\'key\\': u\\'instance_type_name\\'}, {\\'value\\': u\\'0\\', \\'key\\': u\\'instance_type_ephemeral_gb\\'}, {\\'value\\': u\\'1.0\\', \\'key\\': u\\'instance_type_rxtx_factor\\'}, {\\'value\\': \\'2014-07-21T16:17:49.765399\\', \\'key\\': \\'shelved_at\\'}, {\\'value\\': \\'fake-mini\\', \\'key\\': \\'shelved_host\\'}, {\\'value\\': u\\'1\\', \\'key\\': u\\'instance_type_flavorid\\'}, {\\'value\\': u\\'1\\', \\'key\\': u\\'instance_type_vcpus\\'}, {\\'value\\': \\'fake_image_id\\', \\'key\\': \\'shelved_image_id\\'}], \\'task_state\\': None, \\'shutdown_terminate\\': False, \\'cell_name\\': None, \\'root_gb\\': 0, \\'locked\\': False, \\'name\\': \\'instance-00000001\\', \\'ami_launch_index\\': 0, \\'created_at\\': \\'2014-07-21T16:17:49.020902\\', \\'locked_by\\': None, \\'launch_index\\': None, \\'metadata\\': [], \\'memory_mb\\': 0, \\'vcpus\\': 0, \\'image_ref\\': \\'fake-image-ref\\', \\'root_device_name\\': None, \\'auto_disk_config\\': None, \\'os_type\\': \\'Linux\\', \\'scheduled_at\\': None}, {\\'vm_state\\': \\'active\\', \\'internal_id\\': None, \\'availability_zone\\': None, \\'terminated_at\\': None, \\'ephemeral_gb\\': 0, \\'instance_type_id\\': 2, \\'user_data\\': None, \\'cleaned\\': 0, \\'vm_mode\\': None, \\'deleted_at\\': None, \\'reservation_id\\': \\'r-fakeres\\', \\'id\\': 1, \\'security_groups\\': [], \\'disable_terminate\\': False, \\'user_id\\': \\'fake\\', \\'uuid\\': \\'5b76c1af-2fa5-4707-9242-957c5e9ca029\\', \\'default_swap_device\\': None, \\'info_cache\\': {\\'instance_uuid\\': \\'5b76c1af-2fa5-4707-9242-957c5e9ca029\\', \\'deleted\\': 0, \\'created_at\\': \\'2014-07-21T16:17:49.034579\\', \\'updated_at\\': None, \\'instance\\': {\\'vm_state\\': \\'active\\', \\'internal_id\\': None, \\'availability_zone\\': None, \\'terminated_at\\': None, \\'ephemeral_gb\\': 0, \\'instance_type_id\\': 2, \\'user_data\\': None, \\'cleaned\\': 0, \\'vm_mode\\': None, \\'deleted_at\\': None, \\'reservation_id\\': \\'r-fakeres\\', \\'id\\': 1, \\'security_groups\\': [], \\'disable_terminate\\': False, \\'user_id\\': \\'fake\\', \\'uuid\\': \\'5b76c1af-2fa5-4707-9242-957c5e9ca029\\', \\'default_swap_device\\': None, \\'info_cache\\': \\'?\\', \\'hostname\\': None, \\'launched_on\\': None, \\'display_description\\': None, \\'key_data\\': None, \\'kernel_id\\': None, \\'power_state\\': None, \\'default_ephemeral_device\\': None, \\'progress\\': None, \\'project_id\\': \\'fake\\', \\'launched_at\\': \\'2014-07-21T16:17:49.020912\\', \\'config_drive\\': None, \\'node\\': \\'fakenode1\\', \\'ramdisk_id\\': None, \\'access_ip_v6\\': None, \\'access_ip_v4\\': None, \\'deleted\\': 0, \\'key_name\\': None, \\'updated_at\\': \\'2014-07-21T16:17:49.020911\\', \\'host\\': \\'fake_host\\', \\'ephemeral_key_uuid\\': None, \\'architecture\\': \\'x86_64\\', \\'display_name\\': None, \\'system_metadata\\': [\\'?\\', \\'?\\', \\'?\\', \\'?\\', \\'?\\', \\'?\\', \\'?\\', \\'?\\', \\'?\\', \\'?\\'], \\'task_state\\': None, \\'shutdown_terminate\\': False, \\'cell_name\\': None, \\'root_gb\\': 0, \\'locked\\': False, \\'name\\': \\'instance-00000001\\', \\'ami_launch_index\\': 0, \\'created_at\\': \\'2014-07-21T16:17:49.020902\\', \\'locked_by\\': None, \\'launch_index\\': None, \\'metadata\\': [], \\'memory_mb\\': 0, \\'vcpus\\': 0, \\'image_ref\\': \\'fake-image-ref\\', \\'root_device_name\\': None, \\'auto_disk_config\\': None, \\'os_type\\': \\'Linux\\', \\'scheduled_at\\': None}, \\'network_info\\': None, \\'deleted_at\\': None, \\'id\\': 1}, \\'hostname\\': None, \\'launched_on\\': None, \\'display_description\\': None, \\'key_data\\': None, \\'kernel_id\\': None, \\'power_state\\': None, \\'default_ephemeral_device\\': None, \\'progress\\': None, \\'project_id\\': \\'fake\\', \\'launched_at\\': \\'2014-07-21T16:17:49.020912\\', \\'config_drive\\': None, \\'node\\': \\'fakenode1\\', \\'ramdisk_id\\': None, \\'access_ip_v6\\': None, \\'access_ip_v4\\': None, \\'deleted\\': 0, \\'key_name\\': None, \\'updated_at\\': \\'2014-07-21T16:17:49.020911\\', \\'host\\': \\'fake_host\\', \\'ephemeral_key_uuid\\': None, \\'architecture\\': \\'x86_64\\', \\'display_name\\': None, \\'system_metadata\\': [{\\'value\\': u\\'512\\', \\'key\\': u\\'instance_type_memory_mb\\'}, {\\'value\\': u\\'0\\', \\'key\\': u\\'instance_type_swap\\'}, {\\'value\\': None, \\'key\\': u\\'instance_type_vcpu_weight\\'}, {\\'value\\': u\\'1\\', \\'key\\': u\\'instance_type_root_gb\\'}, {\\'value\\': u\\'2\\', \\'key\\': u\\'instance_type_id\\'}, {\\'value\\': u\\'m1.tiny\\', \\'key\\': u\\'instance_type_name\\'}, {\\'value\\': u\\'0\\', \\'key\\': u\\'instance_type_ephemeral_gb\\'}, {\\'value\\': u\\'1.0\\', \\'key\\': u\\'instance_type_rxtx_factor\\'}, {\\'value\\': \\'2014-07-21T16:17:49.765399\\', \\'key\\': \\'shelved_at\\'}, {\\'value\\': \\'fake-mini\\', \\'key\\': \\'shelved_host\\'}, {\\'value\\': u\\'1\\', \\'key\\': u\\'instance_type_flavorid\\'}, {\\'value\\': u\\'1\\', \\'key\\': u\\'instance_type_vcpus\\'}, {\\'value\\': \\'fake_image_id\\', \\'key\\': \\'shelved_image_id\\'}], \\'task_state\\': None, \\'shutdown_terminate\\': False, \\'cell_name\\': None, \\'root_gb\\': 0, \\'locked\\': False, \\'name\\': \\'instance-00000001\\', \\'ami_launch_index\\': 0, \\'created_at\\': \\'2014-07-21T16:17:49.020902\\', \\'locked_by\\': None, \\'launch_index\\': None, \\'metadata\\': [], \\'memory_mb\\': 0, \\'vcpus\\': 0, \\'image_ref\\': \\'fake-image-ref\\', \\'root_device_name\\': None, \\'auto_disk_config\\': None, \\'os_type\\': \\'Linux\\', \\'scheduled_at\\': None})\\n2014-07-21 16:26:39.030 | ======================================================================\\n2014-07-21 16:26:39.030 | FAIL: process-returncode\\n2014-07-21 16:26:39.030 | tags: worker-1\\n2014-07-21 16:26:39.030 | ----------------------------------------------------------------------\\n\\n',\n",
        "               'date_created': '2014-07-22 00:59:51.850836+00:00',\n",
        "               'resource_type': u'#message',\n",
        "               'self_link': u'https://api.launchpad.net/1.0/nova/+bug/1311778/comments/13',\n",
        "               'subject': u'Re: Unit tests fail with MessagingTimeout errors'},\n",
        "              {'bug_attachments': [],\n",
        "               'content': u\"This bug is going to be a bit like whack-a-mole.  As we moved to conductor and separate process that we are simulating in unit tests, we'll see failures when the test apparatus slows down or hangs.  In this particular case, we don't even need to run instance to simulate the shelving tests.  We'll remove these calls since they don't affect the test cases.\",\n",
        "               'date_created': '2014-07-22 01:01:42.949597+00:00',\n",
        "               'resource_type': u'#message',\n",
        "               'self_link': u'https://api.launchpad.net/1.0/nova/+bug/1311778/comments/14',\n",
        "               'subject': u'Re: Unit tests fail with MessagingTimeout errors'},\n",
        "              {'bug_attachments': [],\n",
        "               'content': u'Fix proposed to branch: master\\nReview: https://review.openstack.org/108546',\n",
        "               'date_created': '2014-07-22 01:10:53.823829+00:00',\n",
        "               'resource_type': u'#message',\n",
        "               'self_link': u'https://api.launchpad.net/1.0/nova/+bug/1311778/comments/15',\n",
        "               'subject': u'Fix proposed to nova (master)'},\n",
        "              {'bug_attachments': [],\n",
        "               'content': u'the exception is coming from oslo.messaging: http://git.openstack.org/cgit/openstack/oslo.messaging/tree/oslo/messaging/_drivers/impl_fake.py#n184',\n",
        "               'date_created': '2014-07-22 19:30:38.155458+00:00',\n",
        "               'resource_type': u'#message',\n",
        "               'self_link': u'https://api.launchpad.net/1.0/nova/+bug/1311778/comments/16',\n",
        "               'subject': u'Re: Unit tests fail with MessagingTimeout errors'},\n",
        "              {'bug_attachments': [],\n",
        "               'content': u'looks like this may be a few different bugs, and the MessagingTimeout is a bit of a red herring.',\n",
        "               'date_created': '2014-07-22 20:22:12.503734+00:00',\n",
        "               'resource_type': u'#message',\n",
        "               'self_link': u'https://api.launchpad.net/1.0/nova/+bug/1311778/comments/17',\n",
        "               'subject': u'Re: Unit tests fail with MessagingTimeout errors'},\n",
        "              {'bug_attachments': [],\n",
        "               'content': u'http://logs.openstack.org/65/59365/47/gate/gate-nova-python26/61651a5/console.html#_2014-07-22_07_25_40_979\\n\\nvs\\n\\nhttp://logs.openstack.org/04/106704/2/gate/gate-nova-python26/7d61729/console.html#_2014-07-22_06_59_03_196',\n",
        "               'date_created': '2014-07-22 20:22:34.752889+00:00',\n",
        "               'resource_type': u'#message',\n",
        "               'self_link': u'https://api.launchpad.net/1.0/nova/+bug/1311778/comments/18',\n",
        "               'subject': u'Re: Unit tests fail with MessagingTimeout errors'},\n",
        "              {'bug_attachments': [],\n",
        "               'content': u'Related fix proposed to branch: master\\nReview: https://review.openstack.org/108833',\n",
        "               'date_created': '2014-07-22 20:34:35.988245+00:00',\n",
        "               'resource_type': u'#message',\n",
        "               'self_link': u'https://api.launchpad.net/1.0/nova/+bug/1311778/comments/19',\n",
        "               'subject': u'Related fix proposed to nova (master)'},\n",
        "              {'bug_attachments': [],\n",
        "               'content': u'Reviewed:  https://review.openstack.org/108546\\nCommitted: https://git.openstack.org/cgit/openstack/nova/commit/?id=1fb727876fff2f796de6442730527556c16a347e\\nSubmitter: Jenkins\\nBranch:    master\\n\\ncommit 1fb727876fff2f796de6442730527556c16a347e\\nAuthor: Christopher Lefelhocz <email address hidden>\\nDate:   Mon Jul 21 20:06:39 2014 -0500\\n\\n    Remove unneeded calls in test_shelve to start instances\\n    \\n    During running of tox the system can timeout on slower systems.  This\\n    is due to rpc calls to other threads failing in testing.  This\\n    particular case involved shelving calls to start instances.  However,\\n    when we started using objects, these calls became unnecessary for these\\n    unit tests.  Thus we are removing the calls which should remove\\n    the traceback for slow systems.\\n    \\n    Change-Id: I52f1e86815cc2cac8dc31865f00eef2d4ffeea59\\n    Partial-Bug: 1311778\\n',\n",
        "               'date_created': '2014-07-22 20:38:50.619796+00:00',\n",
        "               'resource_type': u'#message',\n",
        "               'self_link': u'https://api.launchpad.net/1.0/nova/+bug/1311778/comments/20',\n",
        "               'subject': u'Fix merged to nova (master)'},\n",
        "              {'bug_attachments': [],\n",
        "               'content': u'Change abandoned by Joe Gordon (<email address hidden>) on branch: master\\nReview: https://review.openstack.org/108833\\nReason: replaced by https://review.openstack.org/#/c/108837/',\n",
        "               'date_created': '2014-07-22 22:23:38.643390+00:00',\n",
        "               'resource_type': u'#message',\n",
        "               'self_link': u'https://api.launchpad.net/1.0/nova/+bug/1311778/comments/21',\n",
        "               'subject': u'Change abandoned on nova (master)'},\n",
        "              {'bug_attachments': [],\n",
        "               'content': u\"Reviewed:  https://review.openstack.org/108837\\nCommitted: https://git.openstack.org/cgit/openstack/nova/commit/?id=f3f07f4401ff8be25598493c088e4e100b387fe4\\nSubmitter: Jenkins\\nBranch:    master\\n\\ncommit f3f07f4401ff8be25598493c088e4e100b387fe4\\nAuthor: Joe Gordon <email address hidden>\\nDate:   Tue Jul 22 13:40:33 2014 -0700\\n\\n    Turn periodic tasks off in all unit tests\\n    \\n    We shouldn't rely on periodic tasks to randomly run in unit tests,\\n    instead if we need them to run we should explicitly call them out.\\n    \\n    Change-Id: I35850c47288e50d3146771dc7a9a54d62e36c3cf\\n    Related-Bug: 1311778\\n\",\n",
        "               'date_created': '2014-07-24 19:06:40.607867+00:00',\n",
        "               'resource_type': u'#message',\n",
        "               'self_link': u'https://api.launchpad.net/1.0/nova/+bug/1311778/comments/22',\n",
        "               'subject': u'Related fix merged to nova (master)'},\n",
        "              {'bug_attachments': [],\n",
        "               'content': u'Related fix proposed to branch: stable/icehouse\\nReview: https://review.openstack.org/109411',\n",
        "               'date_created': '2014-07-24 20:45:51.792444+00:00',\n",
        "               'resource_type': u'#message',\n",
        "               'self_link': u'https://api.launchpad.net/1.0/nova/+bug/1311778/comments/23',\n",
        "               'subject': u'Related fix proposed to nova (stable/icehouse)'},\n",
        "              {'bug_attachments': [],\n",
        "               'content': u\"Marking this as closed because the messaging timeout error is masking new, more specific, unit test failures, e.g.:\\n\\nhttp://logs.openstack.org/79/108879/1/gate/gate-nova-python26/283e967/console.html#_2014-07-24_08_14_12_643\\n\\nI've already put in a few fixes for the messaging timeout issue, so let's close this bug and open new ones for specific test failures.\",\n",
        "               'date_created': '2014-07-25 13:55:18.263684+00:00',\n",
        "               'resource_type': u'#message',\n",
        "               'self_link': u'https://api.launchpad.net/1.0/nova/+bug/1311778/comments/24',\n",
        "               'subject': u'Re: Unit tests fail with MessagingTimeout errors'},\n",
        "              {'bug_attachments': [],\n",
        "               'content': u\"I've opened a new bug for some new issues seen in unit test runs, bug 1348661.\",\n",
        "               'date_created': '2014-07-25 14:25:20.874455+00:00',\n",
        "               'resource_type': u'#message',\n",
        "               'self_link': u'https://api.launchpad.net/1.0/nova/+bug/1311778/comments/25',\n",
        "               'subject': u'Re: Unit tests fail with MessagingTimeout errors'},\n",
        "              {'bug_attachments': [],\n",
        "               'content': u\"saw another run of the scheduler.run_instance. I believe it is a concurrent test run bug, where there is some test that is stubbing out scheduler_rpcapi in a way that is breaking the stubs set in the base compute test:\\n\\n242        self.stubs.Set(self.compute, 'scheduler_rpcapi', fake_rpcapi) \",\n",
        "               'date_created': '2014-07-25 23:01:35.408294+00:00',\n",
        "               'resource_type': u'#message',\n",
        "               'self_link': u'https://api.launchpad.net/1.0/nova/+bug/1311778/comments/26',\n",
        "               'subject': u'Re: Unit tests fail with MessagingTimeout errors'},\n",
        "              {'bug_attachments': [],\n",
        "               'content': u\"Reviewed:  https://review.openstack.org/109411\\nCommitted: https://git.openstack.org/cgit/openstack/nova/commit/?id=397de7bb7c45cf1367fccaf0847f3cee0f5f8660\\nSubmitter: Jenkins\\nBranch:    stable/icehouse\\n\\ncommit 397de7bb7c45cf1367fccaf0847f3cee0f5f8660\\nAuthor: Joe Gordon <email address hidden>\\nDate:   Tue Jul 22 13:40:33 2014 -0700\\n\\n    Turn periodic tasks off in all unit tests\\n    \\n    We shouldn't rely on periodic tasks to randomly run in unit tests,\\n    instead if we need them to run we should explicitly call them out.\\n    \\n    Change-Id: I35850c47288e50d3146771dc7a9a54d62e36c3cf\\n    Related-Bug: 1311778\\n    (cherry picked from commit f3f07f4401ff8be25598493c088e4e100b387fe4)\\n\",\n",
        "               'date_created': '2014-08-01 16:46:36.573622+00:00',\n",
        "               'resource_type': u'#message',\n",
        "               'self_link': u'https://api.launchpad.net/1.0/nova/+bug/1311778/comments/27',\n",
        "               'subject': u'Related fix merged to nova (stable/icehouse)'}],\n",
        " 'name': 'None',\n",
        " 'resource_type': u'#bug',\n",
        " 'security_related': 'False',\n",
        " 'self_link': u'https://api.launchpad.net/1.0/bugs/1311778',\n",
        " 'tags': [u'icehouse-backport-potential',\n",
        "          u'in-stable-icehouse',\n",
        "          u'libvirt',\n",
        "          u'testing'],\n",
        " 'title': u'Unit tests fail with MessagingTimeout errors'}\n"
       ]
      }
     ],
     "prompt_number": 15
    },
    {
     "cell_type": "heading",
     "level": 1,
     "metadata": {},
     "source": [
      "Boneyard"
     ]
    },
    {
     "cell_type": "raw",
     "metadata": {},
     "source": [
      "types = {}\n",
      "def scan(foo):\n",
      "    global types\n",
      "    types[str(type(foo))] = 1\n",
      "    if type(foo) == list:\n",
      "        for i in foo:\n",
      "            scan(i)\n",
      "    elif type(foo) == dict:\n",
      "        for k, v in foo.items():\n",
      "            scan(v)\n",
      "    elif type(foo) == set:\n",
      "        for i in foo:\n",
      "            scan(i)"
     ]
    },
    {
     "cell_type": "raw",
     "metadata": {},
     "source": [
      "types = {}\n",
      "scan(ALL_BUGS)\n",
      "\n",
      "pp.pprint(types)"
     ]
    }
   ],
   "metadata": {}
  }
 ]
}