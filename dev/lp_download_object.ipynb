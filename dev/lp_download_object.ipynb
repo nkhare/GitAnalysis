{
 "metadata": {
  "name": "",
  "signature": "sha256:f42fc889d616451d3b8a7f5685f1ce3f05cafb94a6667724466b44bcc559ceed"
 },
 "nbformat": 3,
 "nbformat_minor": 0,
 "worksheets": [
  {
   "cells": [
    {
     "cell_type": "markdown",
     "metadata": {},
     "source": [
      "#Code for routine to download Launchpad objects\n",
      "\n",
      "lp_fetch_object(obj)\n",
      "\n",
      "see: companion notebook lp_compute_excluded which generates configuration data indicating which object attributes should be ignored during download"
     ]
    },
    {
     "cell_type": "code",
     "collapsed": false,
     "input": [
      "from launchpadlib.launchpad import Launchpad\n",
      "import pprint as pp\n",
      "import httplib2\n",
      "#httplib2.debuglevel = 1\n",
      "import pickle"
     ],
     "language": "python",
     "metadata": {},
     "outputs": [],
     "prompt_number": 1
    },
    {
     "cell_type": "code",
     "collapsed": false,
     "input": [
      "cachedir = \"/Users/doug/ipython/launchpad/cache/\"\n",
      "lp = Launchpad.login_anonymously('just testing', 'production', cachedir)"
     ],
     "language": "python",
     "metadata": {},
     "outputs": [],
     "prompt_number": 2
    },
    {
     "cell_type": "code",
     "collapsed": false,
     "input": [
      "lp_excludes = pickle.load(open( \"lp_excludes.p\", \"rb\" ) )"
     ],
     "language": "python",
     "metadata": {},
     "outputs": [],
     "prompt_number": 3
    },
    {
     "cell_type": "code",
     "collapsed": false,
     "input": [
      "def lp_fetch_object(obj, \n",
      "                    exclude=[], \n",
      "                    include=['lp_attributes','lp_entries','lp_collections'],\n",
      "                    debug=True):\n",
      "    global lp_excludes\n",
      "    if not exclude:\n",
      "        resource_type_link = obj.resource_type_link\n",
      "        if resource_type_link in lp_excludes:\n",
      "            #print 'found'\n",
      "            exclude = lp_excludes[resource_type_link]\n",
      "        elif debug:\n",
      "            print 'Exclusion list not found for:', resource_type_link\n",
      "    result = {}\n",
      "    result['resource_type'] = obj.resource_type_link.split('/')[-1]\n",
      "    \n",
      "    if 'lp_attributes' in include:\n",
      "        for name in obj.lp_attributes:\n",
      "            if name not in exclude:\n",
      "                #print 'Fetching', name\n",
      "                try:\n",
      "                    if name.startswith(\"date_\"):\n",
      "                        result[name] = str(getattr(obj, name))\n",
      "                    else:\n",
      "                        result[name] = getattr(obj, name)\n",
      "                except Exception, e:\n",
      "                    pass\n",
      "            elif debug:\n",
      "                print 'Skipping', name\n",
      "                pass\n",
      "                \n",
      "    if 'lp_entries' in include:\n",
      "        for name in obj.lp_entries:\n",
      "            if name not in exclude:\n",
      "                try:\n",
      "                    if name.startswith(\"date_\"):\n",
      "                        result[name] = str(getattr(obj, name))\n",
      "                    else:\n",
      "                        result[name] = getattr(obj, name)\n",
      "                except Exception, e:\n",
      "                    pass\n",
      "            elif debug:\n",
      "                print 'Skipping', name\n",
      "                pass\n",
      "                \n",
      "    if 'lp_collections' in include:\n",
      "        for name in obj.lp_collections:\n",
      "            if name not in exclude:\n",
      "                try:\n",
      "                    result[name] = [x for x in getattr(obj, name)]\n",
      "                except Exception, e:\n",
      "                    pass\n",
      "            elif debug:\n",
      "                print 'Skipping', name\n",
      "                pass\n",
      "        \n",
      "    return result"
     ],
     "language": "python",
     "metadata": {},
     "outputs": [],
     "prompt_number": 4
    },
    {
     "cell_type": "heading",
     "level": 1,
     "metadata": {},
     "source": [
      "Project Group"
     ]
    },
    {
     "cell_type": "code",
     "collapsed": false,
     "input": [
      "project = lp.distributions['openstack']\n",
      "pp.pprint(lp_fetch_object(project,include=['lp_attributes']))"
     ],
     "language": "python",
     "metadata": {},
     "outputs": [
      {
       "output_type": "stream",
       "stream": "stdout",
       "text": [
        "Skipping web_link\n",
        "Skipping resource_type_link\n",
        "Skipping http_etag\n",
        "Skipping bug_reported_acknowledgement\n",
        "Skipping bug_reporting_guidelines\n",
        "Skipping freshmeat_project\n",
        "Skipping homepage_content\n",
        "Skipping homepage_url\n",
        "Skipping official_bug_tags\n",
        "Skipping reviewed\n",
        "Skipping sourceforge_project\n",
        "Skipping wiki_url\n",
        "{'active': True,\n",
        " 'date_created': '2010-07-06 18:45:39.003249+00:00',\n",
        " 'description': u'Website - http://openstack.org\\nWiki - http://wiki.openstack.org\\nBlogs - http://planet.openstack.org/\\nMailing list - <email address hidden> - see https://lists.openstack.org/cgi-bin/mailman/listinfo/openstack to join.\\nCode Review - https://review.openstack.org/\\nIRC - #openstack on freenode.net\\nDocumentation - http://docs.openstack.org',\n",
        " 'display_name': u'OpenStack',\n",
        " 'name': u'openstack',\n",
        " 'resource_type': u'#project_group',\n",
        " 'self_link': u'https://api.launchpad.net/1.0/openstack',\n",
        " 'summary': u'The OpenStack Open Source Cloud Mission: to produce the ubiquitous Open Source Cloud Computing platform that will meet the needs of public and private clouds regardless of size, by being simple to implement and massively scalable.',\n",
        " 'title': u'OpenStack'}\n"
       ]
      }
     ],
     "prompt_number": 5
    },
    {
     "cell_type": "heading",
     "level": 2,
     "metadata": {},
     "source": [
      "Project Page Resource"
     ]
    },
    {
     "cell_type": "code",
     "collapsed": false,
     "input": [
      "projects = project.projects\n",
      "pp.pprint(lp_fetch_object(projects))"
     ],
     "language": "python",
     "metadata": {},
     "outputs": [
      {
       "output_type": "stream",
       "stream": "stdout",
       "text": [
        "Skipping resource_type_link\n",
        "Skipping total_size\n",
        "Skipping start\n",
        "Skipping entries\n",
        "Skipping entry_\n",
        "Skipping next\n",
        "Skipping prev\n",
        "{'resource_type': u'#project-page-resource'}\n"
       ]
      }
     ],
     "prompt_number": 6
    },
    {
     "cell_type": "heading",
     "level": 1,
     "metadata": {},
     "source": [
      "Bugs - top-level"
     ]
    },
    {
     "cell_type": "code",
     "collapsed": false,
     "input": [
      "bugs = lp.bugs\n",
      "pp.pprint(lp_fetch_object(bugs))"
     ],
     "language": "python",
     "metadata": {},
     "outputs": [
      {
       "output_type": "stream",
       "stream": "stdout",
       "text": [
        "Skipping resource_type_link\n",
        "Skipping next\n",
        "Skipping prev\n",
        "{'entries': [], 'resource_type': u'#bugs', 'start': 0, 'total_size': 0}\n"
       ]
      }
     ],
     "prompt_number": 7
    },
    {
     "cell_type": "heading",
     "level": 2,
     "metadata": {},
     "source": [
      "Bug (individual) - includes reference to bug task"
     ]
    },
    {
     "cell_type": "code",
     "collapsed": false,
     "input": [
      "bug = lp.bugs['653344']\n",
      "pp.pprint(lp_fetch_object(bug))"
     ],
     "language": "python",
     "metadata": {},
     "outputs": [
      {
       "output_type": "stream",
       "stream": "stdout",
       "text": [
        "Skipping web_link\n",
        "Skipping resource_type_link\n",
        "Skipping http_etag\n",
        "Skipping can_expire\n",
        "Skipping date_last_message\n",
        "Skipping date_last_updated\n",
        "Skipping date_made_private\n",
        "Skipping latest_patch_uploaded\n",
        "Skipping number_of_duplicates\n",
        "Skipping other_users_affected_count_with_dupes\n",
        "Skipping private\n",
        "Skipping users_affected_count\n",
        "Skipping users_affected_count_with_dupes\n",
        "Skipping users_unaffected_count\n",
        "Skipping who_made_private\n",
        "Skipping"
       ]
      },
      {
       "output_type": "stream",
       "stream": "stdout",
       "text": [
        " bug_watches\n",
        "Skipping"
       ]
      },
      {
       "output_type": "stream",
       "stream": "stdout",
       "text": [
        " duplicates\n",
        "Skipping linked_branches\n",
        "Skipping"
       ]
      },
      {
       "output_type": "stream",
       "stream": "stdout",
       "text": [
        " subscriptions\n",
        "Skipping users_affected\n",
        "Skipping users_affected_with_dupes\n",
        "Skipping users_unaffected\n",
        "{"
       ]
      },
      {
       "output_type": "stream",
       "stream": "stdout",
       "text": [
        "'activity': [],\n",
        " 'attachments': [],\n",
        " 'bug_tasks': [<bug_task at https://api.launchpad.net/1.0/nova/+bug/653344>],\n",
        " 'cves': [],\n",
        " 'date_created': '2010-10-01 23:50:09.202499+00:00',\n",
        " 'description': u'nova/objectstore/handler.py\\nimageResoure#render_GET\\n\\nYou can call image.is_authorized(context, True)',\n",
        " 'duplicate_of': None,\n",
        " 'heat': 6,\n",
        " 'id': 653344,\n",
        " 'information_type': u'Public',\n",
        " 'message_count': 3,\n",
        " 'messages': [<message at https://api.launchpad.net/1.0/nova/+bug/653344/comments/0>,\n",
        "              <message at https://api.launchpad.net/1.0/nova/+bug/653344/comments/1>,\n",
        "              <message at https://api.launchpad.net/1.0/nova/+bug/653344/comments/2>],\n",
        " 'name': None,\n",
        " 'owner': <person at https://api.launchpad.net/1.0/~xtoddx>,\n",
        " 'resource_type': u'#bug',\n",
        " 'security_related': False,\n",
        " 'self_link': u'https://api.launchpad.net/1.0/bugs/653344',\n",
        " 'tags': [],\n",
        " 'title': u'Image downloading should check project membership and publicity settings'}\n"
       ]
      }
     ],
     "prompt_number": 8
    },
    {
     "cell_type": "heading",
     "level": 2,
     "metadata": {},
     "source": [
      "Message - from bug.messages"
     ]
    },
    {
     "cell_type": "code",
     "collapsed": false,
     "input": [
      "bug = lp.bugs['653344']\n",
      "pp.pprint(lp_fetch_object(bug.messages[0]))"
     ],
     "language": "python",
     "metadata": {},
     "outputs": [
      {
       "output_type": "stream",
       "stream": "stdout",
       "text": [
        "Skipping web_link\n",
        "Skipping resource_type_link\n",
        "Skipping http_etag\n",
        "Skipping owner\n",
        "Skipping parent\n",
        "{"
       ]
      },
      {
       "output_type": "stream",
       "stream": "stdout",
       "text": [
        "'bug_attachments': [],\n",
        " 'content': u'nova/objectstore/handler.py\\nimageResoure#render_GET\\n\\nYou can call image.is_authorized(context, True)',\n",
        " 'date_created': '2010-10-01 23:50:09.202499+00:00',\n",
        " 'resource_type': u'#message',\n",
        " 'self_link': u'https://api.launchpad.net/1.0/nova/+bug/653344/comments/0',\n",
        " 'subject': u'Image downloading should check project membership and publicity settings'}\n"
       ]
      }
     ],
     "prompt_number": 9
    },
    {
     "cell_type": "heading",
     "level": 1,
     "metadata": {},
     "source": [
      "\n",
      "Project"
     ]
    },
    {
     "cell_type": "code",
     "collapsed": false,
     "input": [
      "project = lp.distributions['nova']\n",
      "pp.pprint(lp_fetch_object(project))"
     ],
     "language": "python",
     "metadata": {},
     "outputs": [
      {
       "output_type": "stream",
       "stream": "stdout",
       "text": [
        "Skipping web_link\n",
        "Skipping resource_type_link\n",
        "Skipping http_etag\n",
        "Skipping bug_reported_acknowledgement\n",
        "Skipping bug_reporting_guidelines\n",
        "Skipping commercial_subscription_is_due\n",
        "Skipping date_next_suggest_packaging\n",
        "Skipping download_url\n",
        "Skipping freshmeat_project\n",
        "Skipping is_permitted\n",
        "Skipping license_info\n",
        "Skipping licenses\n",
        "Skipping private\n",
        "Skipping private_bugs\n",
        "Skipping programming_language\n",
        "Skipping project_reviewed\n",
        "Skipping qualifies_for_free_hosting\n",
        "Skipping remote_product\n",
        "Skipping reviewer_whiteboard\n",
        "Skipping screenshots_url\n",
        "Skipping security_contact\n",
        "Skipping sourceforge_project\n",
        "Skipping wiki_url\n",
        "Skipping brand\n",
        "Skipping bug_supervisor\n",
        "Skipping bug_tracker\n",
        "Skipping commercial_subscription\n",
        "Skipping development_focus\n",
        "Skipping driver\n",
        "Skipping icon\n",
        "Skipping logo\n",
        "Skipping owner\n",
        "Skipping registrant\n",
        "Skipping translation_focus\n",
        "Skipping active_milestones\n",
        "Skipping all_milestones\n",
        "Skipping recipes\n",
        "Skipping"
       ]
      },
      {
       "output_type": "stream",
       "stream": "stdout",
       "text": [
        " series\n",
        "{"
       ]
      },
      {
       "output_type": "stream",
       "stream": "stdout",
       "text": [
        "'active': True,\n",
        " 'date_created': '2010-07-15 17:05:00.161721+00:00',\n",
        " 'description': u'Get the code:\\nhttps://github.com/openstack/nova\\n\\nCode reviews - https://review.openstack.org\\nContinuous Build/Integration - https://jenkins.openstack.org/\\n\\nDocumentation - http://docs.openstack.org\\nDeveloper documentation: http://nova.openstack.org\\nIRC - #openstack on freenode.net\\n',\n",
        " 'display_name': u'OpenStack Compute (nova)',\n",
        " 'homepage_url': u'http://wiki.openstack.org/',\n",
        " 'information_type': u'Public',\n",
        " 'license_approved': u'tag:launchpad.net:2008:redacted',\n",
        " 'name': u'nova',\n",
        " 'official_bug_tags': [u'api',\n",
        "                       u'baremetal',\n",
        "                       u'cells',\n",
        "                       u'compute',\n",
        "                       u'conductor',\n",
        "                       u'console',\n",
        "                       u'db',\n",
        "                       u'docker',\n",
        "                       u'documentation',\n",
        "                       u'ec2',\n",
        "                       u'folsom-backport-potential',\n",
        "                       u'grizzly-backport-potential',\n",
        "                       u'havana-backport-potential',\n",
        "                       u'hyper-v',\n",
        "                       u'i18n',\n",
        "                       u'icehouse-backport-potential',\n",
        "                       u'icehouse-rc-potential',\n",
        "                       u'libvirt',\n",
        "                       u'low-hanging-fruit',\n",
        "                       u'lxc',\n",
        "                       u'network',\n",
        "                       u'nova-manage',\n",
        "                       u'ops',\n",
        "                       u'oslo',\n",
        "                       u'postgresql',\n",
        "                       u'powervm',\n",
        "                       u'rootwrap',\n",
        "                       u'scheduler',\n",
        "                       u'security',\n",
        "                       u'stacktrace',\n",
        "                       u'testing',\n",
        "                       u'unified-objects',\n",
        "                       u'vmware',\n",
        "                       u'volumes',\n",
        "                       u'xenserver'],\n",
        " 'project_group': <project_group at https://api.launchpad.net/1.0/openstack>,\n",
        " 'releases': [<project_release at https://api.launchpad.net/1.0/nova/austin/2010.1>,\n",
        "              <project_release at https://api.launchpad.net/1.0/nova/austin/2010.1-rc2>,\n",
        "              <project_release at https://api.launchpad.net/1.0/nova/bexar/2011.1>,\n",
        "              <project_release at https://api.launchpad.net/1.0/nova/bexar/2011.1.1>,\n",
        "              <project_release at https://api.launchpad.net/1.0/nova/cactus/2011.2>,\n",
        "              <project_release at https://api.launchpad.net/1.0/nova/diablo/2011.3>,\n",
        "              <project_release at https://api.launchpad.net/1.0/nova/diablo/2011.3.1>,\n",
        "              <project_release at https://api.launchpad.net/1.0/nova/essex/2012.1>,\n",
        "              <project_release at https://api.launchpad.net/1.0/nova/essex/2012.1.1>,\n",
        "              <project_release at https://api.launchpad.net/1.0/nova/essex/2012.1.2>,\n",
        "              <project_release at https://api.launchpad.net/1.0/nova/essex/2012.1.3>,\n",
        "              <project_release at https://api.launchpad.net/1.0/nova/folsom/2012.2>,\n",
        "              <project_release at https://api.launchpad.net/1.0/nova/folsom/2012.2.1>,\n",
        "              <project_release at https://api.launchpad.net/1.0/nova/folsom/2012.2.2>,\n",
        "              <project_release at https://api.launchpad.net/1.0/nova/folsom/2012.2.3>,\n",
        "              <project_release at https://api.launchpad.net/1.0/nova/folsom/2012.2.4>,\n",
        "              <project_release at https://api.launchpad.net/1.0/nova/grizzly/2013.1>,\n",
        "              <project_release at https://api.launchpad.net/1.0/nova/grizzly/2013.1.1>,\n",
        "              <project_release at https://api.launchpad.net/1.0/nova/grizzly/2013.1.2>,\n",
        "              <project_release at https://api.launchpad.net/1.0/nova/grizzly/2013.1.3>,\n",
        "              <project_release at https://api.launchpad.net/1.0/nova/grizzly/2013.1.4>,\n",
        "              <project_release at https://api.launchpad.net/1.0/nova/grizzly/2013.1.5>,\n",
        "              <project_release at https://api.launchpad.net/1.0/nova/havana/2013.2>,\n",
        "              <project_release at https://api.launchpad.net/1.0/nova/havana/2013.2.1>,\n",
        "              <project_release at https://api.launchpad.net/1.0/nova/havana/2013.2.2>,\n",
        "              <project_release at https://api.launchpad.net/1.0/nova/havana/2013.2.3>,\n",
        "              <project_release at https://api.launchpad.net/1.0/nova/icehouse/2014.1>,\n",
        "              <project_release at https://api.launchpad.net/1.0/nova/icehouse/2014.1.1>,\n",
        "              <project_release at https://api.launchpad.net/1.0/nova/austin/austin-rc>,\n",
        "              <project_release at https://api.launchpad.net/1.0/nova/bexar/bexar-gamma>,\n",
        "              <project_release at https://api.launchpad.net/1.0/nova/bexar/bexar-rc>,\n",
        "              <project_release at https://api.launchpad.net/1.0/nova/cactus/cactus-gamma>,\n",
        "              <project_release at https://api.launchpad.net/1.0/nova/cactus/cactus-rc>,\n",
        "              <project_release at https://api.launchpad.net/1.0/nova/diablo/diablo-1>,\n",
        "              <project_release at https://api.launchpad.net/1.0/nova/diablo/diablo-2>,\n",
        "              <project_release at https://api.launchpad.net/1.0/nova/diablo/diablo-3>,\n",
        "              <project_release at https://api.launchpad.net/1.0/nova/diablo/diablo-4>,\n",
        "              <project_release at https://api.launchpad.net/1.0/nova/essex/essex-1>,\n",
        "              <project_release at https://api.launchpad.net/1.0/nova/essex/essex-2>,\n",
        "              <project_release at https://api.launchpad.net/1.0/nova/essex/essex-3>,\n",
        "              <project_release at https://api.launchpad.net/1.0/nova/essex/essex-4>,\n",
        "              <project_release at https://api.launchpad.net/1.0/nova/essex/essex-rc1>,\n",
        "              <project_release at https://api.launchpad.net/1.0/nova/essex/essex-rc2>,\n",
        "              <project_release at https://api.launchpad.net/1.0/nova/essex/essex-rc3>,\n",
        "              <project_release at https://api.launchpad.net/1.0/nova/essex/essex-rc4>"
       ]
      },
      {
       "output_type": "stream",
       "stream": "stdout",
       "text": [
        ",\n",
        "              <project_release at https://api.launchpad.net/1.0/nova/folsom/folsom-1>,\n",
        "              <project_release at https://api.launchpad.net/1.0/nova/folsom/folsom-2>,\n",
        "              <project_release at https://api.launchpad.net/1.0/nova/folsom/folsom-3>,\n",
        "              <project_release at https://api.launchpad.net/1.0/nova/folsom/folsom-rc1>,\n",
        "              <project_release at https://api.launchpad.net/1.0/nova/folsom/folsom-rc2>,\n",
        "              <project_release at https://api.launchpad.net/1.0/nova/folsom/folsom-rc3>,\n",
        "              <project_release at https://api.launchpad.net/1.0/nova/grizzly/grizzly-1>,\n",
        "              <project_release at https://api.launchpad.net/1.0/nova/grizzly/grizzly-2>,\n",
        "              <project_release at https://api.launchpad.net/1.0/nova/grizzly/grizzly-3>,\n",
        "              <project_release at https://api.launchpad.net/1.0/nova/grizzly/grizzly-rc1>,\n",
        "              <project_release at https://api.launchpad.net/1.0/nova/grizzly/grizzly-rc2>,\n",
        "              <project_release at https://api.launchpad.net/1.0/nova/havana/havana-1>,\n",
        "              <project_release at https://api.launchpad.net/1.0/nova/havana/havana-2>,\n",
        "              <project_release at https://api.launchpad.net/1.0/nova/havana/havana-3>,\n",
        "              <project_release at https://api.launchpad.net/1.0/nova/havana/havana-rc1>,\n",
        "              <project_release at https://api.launchpad.net/1.0/nova/havana/havana-rc2>,\n",
        "              <project_release at https://api.launchpad.net/1.0/nova/icehouse/icehouse-1>,\n",
        "              <project_release at https://api.launchpad.net/1.0/nova/icehouse/icehouse-2>,\n",
        "              <project_release at https://api.launchpad.net/1.0/nova/icehouse/icehouse-3>,\n",
        "              <project_release at https://api.launchpad.net/1.0/nova/icehouse/icehouse-rc1>,\n",
        "              <project_release at https://api.launchpad.net/1.0/nova/icehouse/icehouse-rc2>,\n",
        "              <project_release at https://api.launchpad.net/1.0/nova/juno/juno-1>,\n",
        "              <project_release at https://api.launchpad.net/1.0/nova/juno/juno-2>],\n",
        " 'resource_type': u'#project',\n",
        " 'self_link': u'https://api.launchpad.net/1.0/nova',\n",
        " 'summary': u'Nova is a cloud computing fabric controller (the main part of an IaaS system). It is written in Python.\\n',\n",
        " 'title': u'OpenStack Compute (Nova)'}\n"
       ]
      }
     ],
     "prompt_number": 10
    },
    {
     "cell_type": "markdown",
     "metadata": {},
     "source": [
      "##Bug Task -- Project level bug entry\n",
      "\n",
      "note:  see also bugs section anove"
     ]
    },
    {
     "cell_type": "code",
     "collapsed": false,
     "input": [
      "project = lp.projects['nova']\n",
      "bugs = project.searchTasks(status = ['New', 'Incomplete', 'Triaged', 'Opinion', 'Invalid', 'Won\\'t Fix', 'Confirmed', 'In Progress', 'Fix Committed', 'Fix Released'])"
     ],
     "language": "python",
     "metadata": {},
     "outputs": [],
     "prompt_number": 11
    },
    {
     "cell_type": "code",
     "collapsed": false,
     "input": [
      "bug = bugs[0]\n",
      "pp.pprint(lp_fetch_object(bug))"
     ],
     "language": "python",
     "metadata": {},
     "outputs": [
      {
       "output_type": "stream",
       "stream": "stdout",
       "text": [
        "Skipping web_link\n",
        "Skipping resource_type_link\n",
        "Skipping http_etag\n",
        "Skipping date_closed\n",
        "Skipping date_confirmed\n",
        "Skipping date_created\n",
        "Skipping date_fix_committed\n",
        "Skipping date_fix_released\n",
        "Skipping date_in_progress\n",
        "Skipping date_incomplete\n",
        "Skipping date_left_closed\n",
        "Skipping date_left_new\n",
        "Skipping date_triaged\n",
        "Skipping bug_watch\n",
        "Skipping milestone\n",
        "Skipping related_tasks\n",
        "{"
       ]
      },
      {
       "output_type": "stream",
       "stream": "stdout",
       "text": [
        "'assignee': <person at https://api.launchpad.net/1.0/~xtoddx>,\n",
        " 'bug': <bug at https://api.launchpad.net/1.0/bugs/653344>,\n",
        " 'bug_target_display_name': u'OpenStack Compute (nova)',\n",
        " 'bug_target_name': u'nova',\n",
        " 'date_assigned': '2010-10-01 23:53:09.502592+00:00',\n",
        " 'importance': u'Critical',\n",
        " 'is_complete': True,\n",
        " 'owner': <person at https://api.launchpad.net/1.0/~xtoddx>,\n",
        " 'resource_type': u'#bug_task',\n",
        " 'self_link': u'https://api.launchpad.net/1.0/nova/+bug/653344',\n",
        " 'status': u'Fix Released',\n",
        " 'target': <project at https://api.launchpad.net/1.0/nova>,\n",
        " 'title': u'Bug #653344 in OpenStack Compute (nova): \"Image downloading should check project membership and publicity settings\"'}\n"
       ]
      }
     ],
     "prompt_number": 12
    },
    {
     "cell_type": "code",
     "collapsed": false,
     "input": [
      "bug = lp.bugs['1311778']\n",
      "pp.pprint(lp_fetch_object(bug.messages[0]))"
     ],
     "language": "python",
     "metadata": {},
     "outputs": [
      {
       "output_type": "stream",
       "stream": "stdout",
       "text": [
        "Skipping web_link\n",
        "Skipping resource_type_link\n",
        "Skipping http_etag\n",
        "Skipping owner\n",
        "Skipping parent\n",
        "{"
       ]
      },
      {
       "output_type": "stream",
       "stream": "stdout",
       "text": [
        "'bug_attachments': [],\n",
        " 'content': u'There is an issue that is causing unit tests to fail with the following error:\\n\\nMessagingTimeout: No reply on topic conductor\\nMessagingTimeout: No reply on topic scheduler\\n\\n2014-04-23 13:45:52.017 | Traceback (most recent call last):\\n2014-04-23 13:45:52.017 |   File \"/home/jenkins/workspace/gate-nova-python26/.tox/py26/lib/python2.6/site-packages/oslo/messaging/rpc/dispatcher.py\", line 133, in _dispatch_and_reply\\n2014-04-23 13:45:52.017 |     incoming.message))\\n2014-04-23 13:45:52.017 |   File \"/home/jenkins/workspace/gate-nova-python26/.tox/py26/lib/python2.6/site-packages/oslo/messaging/rpc/dispatcher.py\", line 176, in _dispatch\\n2014-04-23 13:45:52.017 |     return self._do_dispatch(endpoint, method, ctxt, args)\\n2014-04-23 13:45:52.017 |   File \"/home/jenkins/workspace/gate-nova-python26/.tox/py26/lib/python2.6/site-packages/oslo/messaging/rpc/dispatcher.py\", line 122, in _do_dispatch\\n2014-04-23 13:45:52.017 |     result = getattr(endpoint, method)(ctxt, **new_args)\\n2014-04-23 13:45:52.018 |   File \"nova/conductor/manager.py\", line 798, in build_instances\\n2014-04-23 13:45:52.018 |     legacy_bdm_in_spec=legacy_bdm)\\n2014-04-23 13:51:50.628 |   File \"nlibvir:  error : internal error could not initialize domain event timer\\n2014-04-23 13:54:57.953 | ova/scheduler/rpcapi.py\", line 120, in run_instance\\n2014-04-23 13:54:57.953 |     cctxt.cast(ctxt, \\'run_instance\\', **msg_kwargs)\\n2014-04-23 13:54:57.953 |   File \"/home/jenkins/workspace/gate-nova-python26/.tox/py26/lib/python2.6/site-packages/oslo/messaging/rpc/client.py\", line 150, in call\\n2014-04-23 13:54:57.953 |     wait_for_reply=True, timeout=timeout)\\n2014-04-23 13:54:57.953 |   File \"/home/jenkins/workspace/gate-nova-python26/.tox/py26/lib/python2.6/site-packages/oslo/messaging/transport.py\", line 90, in _send\\n2014-04-23 13:54:57.953 |     timeout=timeout)\\n2014-04-23 13:54:57.954 |   File \"/home/jenkins/workspace/gate-nova-python26/.tox/py26/lib/python2.6/site-packages/oslo/messaging/_drivers/impl_fake.py\", line 166, in send\\n2014-04-23 13:54:57.954 |     return self._send(target, ctxt, message, wait_for_reply, timeout)\\n2014-04-23 13:54:57.954 |   File \"/home/jenkins/workspace/gate-nova-python26/.tox/py26/lib/python2.6/site-packages/oslo/messaging/_drivers/impl_fake.py\", line 161, in _send\\n2014-04-23 13:54:57.954 |     \\'No reply on topic %s\\' % target.topic)\\n2014-04-23 13:54:57.954 | MessagingTimeout: No reply on topic scheduler\\n\\n============================\\n\\n2014-04-23 13:45:52.008 | Traceback (most recent call last):\\n2014-04-23 13:45:52.008 |   File \"nova/api/openstack/__init__.py\", line 125, in __call__\\n2014-04-23 13:45:52.008 |     return req.get_response(self.application)\\n2014-04-23 13:45:52.009 |   File \"/home/jenkins/workspace/gate-nova-python26/.tox/py26/lib/python2.6/site-packages/webob/request.py\", line 1320, in send\\n2014-04-23 13:45:52.009 |     application, catch_exc_info=False)\\n2014-04-23 13:45:52.009 |   File \"/home/jenkins/workspace/gate-nova-python26/.tox/py26/lib/python2.6/site-packages/webob/request.py\", line 1284, in call_application\\n2014-04-23 13:45:52.009 |     app_iter = application(self.environ, start_response)\\n2014-04-23 13:45:52.009 |   File \"/home/jenkins/workspace/gate-nova-python26/.tox/py26/lib/python2.6/site-packages/webob/dec.py\", line 144, in __call__\\n2014-04-23 13:45:52.009 |     return resp(environ, start_response)\\n2014-04-23 13:45:52.009 |   File \"/home/jenkins/workspace/gate-nova-python26/.tox/py26/lib/python2.6/site-packages/webob/dec.py\", line 144, in __call__\\n2014-04-23 13:45:52.010 |     return resp(environ, start_response)\\n2014-04-23 13:45:52.010 |   File \"/home/jenkins/workspace/gate-nova-python26/.tox/py26/lib/python2.6/site-packages/webob/dec.py\", line 144, in __call__\\n2014-04-23 13:45:52.010 |     return resp(environ, start_response)\\n2014-04-23 13:45:52.010 |   File \"/home/jenkins/workspace/gate-nova-python26/.tox/py26/lib/python2.6/site-packages/webob/dec.py\", line 144, in __call__\\n2014-04-23 13:45:52.010 |     return resp(environ, start_response)\\n2014-04-23 13:45:52.010 |   File \"/home/jenkins/workspace/gate-nova-python26/.tox/py26/lib/python2.6/site-packages/routes/middleware.py\", line 131, in __call__\\n2014-04-23 13:45:52.010 |     response = self.app(environ, start_response)\\n2014-04-23 13:45:52.011 |   File \"/home/jenkins/workspace/gate-nova-python26/.tox/py26/lib/python2.6/site-packages/webob/dec.py\", line 144, in __call__\\n2014-04-23 13:45:52.011 |     return resp(environ, start_response)\\n2014-04-23 13:45:52.011 |   File \"/home/jenkins/workspace/gate-nova-python26/.tox/py26/lib/python2.6/site-packages/webob/dec.py\", line 130, in __call__\\n2014-04-23 13:45:52.011 |     resp = self.call_func(req, *args, **self.kwargs)\\n2014-04-23 13:45:52.011 |   File \"/home/jenkins/workspace/gate-nova-python26/.tox/py26/lib/python2.6/site-packages/webob/dec.py\", line 195, in call_func\\n2014-04-23 13:45:52.011 |     return self.func(req, *args, **kwargs)\\n2014-04-23 13:45:52.012 |   File \"nova/api/openstack/wsgi.py\", line 917, in __call__\\n2014-04-23 13:45:52.012 |     content_type, body, accept)\\n2014-04-23 13:45:52.012 |   File \"nova/api/openstack/wsgi.py\", line 983, in _process_stack\\n2014-04-23 13:45:52.012 |     action_result = self.dispatch(meth, request, action_args)\\n2014-04-23 13:45:52.012 |   File \"nova/api/openstack/wsgi.py\", line 1070, in dispatch\\n2014-04-23 13:45:52.012 |     return method(req=request, **action_args)\\n2014-04-23 13:45:52.012 |   File \"nova/api/openstack/compute/servers.py\", line 956, in create\\n2014-04-23 13:45:52.012 |     legacy_bdm=legacy_bdm)\\n2014-04-23 13:45:52.013 |   File \"nova/tests/fake_network.py\", line 473, in fake_create\\n2014-04-23 13:45:52.013 |     return _create_instances_with_cached_ips(orig_create, *args, **kwargs)\\n2014-04-23 13:45:52.013 |   File \"nova/tests/fake_network.py\", line 543, in _create_instances_with_cached_ips\\n2014-04-23 13:45:52.013 |     instances, reservation_id = orig_func(*args, **kwargs)\\n2014-04-23 13:45:52.013 |   File \"nova/hooks.py\", line 103, in inner\\n2014-04-23 13:45:52.013 |     rv = f(*args, **kwargs)\\n2014-04-23 13:45:52.013 |   File \"nova/compute/api.py\", line 1341, in create\\n2014-04-23 13:45:52.014 |     legacy_bdm=legacy_bdm)\\n2014-04-23 13:45:52.014 |   File \"nova/compute/api.py\", line 1007, in _create_instance\\n2014-04-23 13:45:52.014 |     legacy_bdm=False)\\n2014-04-23 13:45:52.014 |   File \"nova/conductor/api.py\", line 371, in build_instances\\n2014-04-23 13:45:52.014 |     legacy_bdm=legacy_bdm)\\n2014-04-23 13:45:52.014 |   File \"nova/conductor/rpcapi.py\", line 455, in build_instances\\n2014-04-23 13:45:52.015 |     legacy_bdm=legacy_bdm)\\n2014-04-23 13:45:52.015 |   File \"/home/jenkins/workspace/gate-nova-python26/.tox/py26/lib/python2.6/site-packages/oslo/messaging/rpc/client.py\", line 150, in call\\n2014-04-23 13:45:52.015 |     wait_for_reply=True, timeout=timeout)\\n2014-04-23 13:45:52.015 |   File \"/home/jenkins/workspace/gate-nova-python26/.tox/py26/lib/python2.6/site-packages/oslo/messaging/transport.py\", line 90, in _send\\n2014-04-23 13:45:52.015 |     timeout=timeout)\\n2014-04-23 13:45:52.015 |   File \"/home/jenkins/workspace/gate-nova-python26/.tox/py26/lib/python2.6/site-packages/oslo/messaging/_drivers/impl_fake.py\", line 166, in send\\n2014-04-23 13:45:52.015 |     return self._send(target, ctxt, message, wait_for_reply, timeout)\\n2014-04-23 13:45:52.016 |   File \"/home/jenkins/workspace/gate-nova-python26/.tox/py26/lib/python2.6/site-packages/oslo/messaging/_drivers/impl_fake.py\", line 161, in _send\\n2014-04-23 13:45:52.016 |     \\'No reply on topic %s\\' % target.topic)\\n2014-04-23 13:45:52.016 | MessagingTimeout: No reply on topic conductor',\n",
        " 'date_created': '2014-04-23 16:23:03.874697+00:00',\n",
        " 'resource_type': u'#message',\n",
        " 'self_link': u'https://api.launchpad.net/1.0/nova/+bug/1311778/comments/0',\n",
        " 'subject': u'Unit tests fail with MessagingTimeout errors'}\n"
       ]
      }
     ],
     "prompt_number": 6
    },
    {
     "cell_type": "code",
     "collapsed": false,
     "input": [],
     "language": "python",
     "metadata": {},
     "outputs": [],
     "prompt_number": 12
    }
   ],
   "metadata": {}
  }
 ]
}