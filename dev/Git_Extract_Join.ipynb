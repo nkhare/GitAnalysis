{
 "metadata": {
  "name": "",
  "signature": "sha256:4599168a23f6e97b0cd220d3e10aa1ceed73e5ee65b326ee755d5a37ca7b677c"
 },
 "nbformat": 3,
 "nbformat_minor": 0,
 "worksheets": [
  {
   "cells": [
    {
     "cell_type": "markdown",
     "metadata": {},
     "source": [
      "# Git Downloader\n",
      "\n",
      "Currently configured for OpenStack, tested with Nova.\n",
      "\n",
      "Last updated 8/25/2014\n",
      "\n",
      "##History:\n",
      "0. 8/10/14: fix change_id (was Change-Id) for consistency, make leading I in value uppercase\n",
      "0. 8/24/14: try to address some of the issues preventing json persistance\n",
      "0. 8/25/14: merge LP-Gerrit-Git-OpenStack-Analysis\n",
      "\n",
      "##Issues:\n",
      "0. Only a small number of commits have associated commit id\n",
      "\n",
      "##To Do:\n",
      "\n",
      "0. Add support for Diff ranges\n",
      "0. Compute git blame on parent of commit and map to diff, not directly on the commit itselt."
     ]
    },
    {
     "cell_type": "markdown",
     "metadata": {},
     "source": [
      "Installation: pip install -U gitpython==0.3.2.RC1\n",
      "\n",
      "see fix for blame: https://github.com/vitalif/GitPython/commit/104524267b616934983fff89ff112970febac68e"
     ]
    },
    {
     "cell_type": "code",
     "collapsed": false,
     "input": [
      "from git import *\n",
      "import git\n",
      "import time\n",
      "import pprint as pp\n",
      "import collections\n",
      "import cPickle as pickle\n",
      "import os\n",
      "import re"
     ],
     "language": "python",
     "metadata": {},
     "outputs": [],
     "prompt_number": 1
    },
    {
     "cell_type": "code",
     "collapsed": false,
     "input": [
      "import time\n",
      "import gzip\n",
      "import json"
     ],
     "language": "python",
     "metadata": {},
     "outputs": [],
     "prompt_number": 2
    },
    {
     "cell_type": "heading",
     "level": 1,
     "metadata": {},
     "source": [
      "Globals"
     ]
    },
    {
     "cell_type": "code",
     "collapsed": false,
     "input": [
      "global commits\n",
      "commits = collections.defaultdict(list)\n",
      "\n",
      "global files\n",
      "files = collections.defaultdict(list)\n",
      "\n",
      "global repo\n",
      "repo = False"
     ],
     "language": "python",
     "metadata": {},
     "outputs": [],
     "prompt_number": 3
    },
    {
     "cell_type": "heading",
     "level": 1,
     "metadata": {},
     "source": [
      "Generic Dumper/Loader Routines"
     ]
    },
    {
     "cell_type": "code",
     "collapsed": false,
     "input": [
      "def convert_to_builtin_type(obj):\n",
      "    try:\n",
      "        d = repr(obj)\n",
      "    except Exception, e:\n",
      "        if str(type(obj)) == \"<class 'git.util.Actor'>\":\n",
      "            d = '<git.Actor \"'+ obj.name.encode('ascii', 'ignore') +' <'+ obj.email+'>\">'\n",
      "            #d = '<git.Actor \"'+ str(obj.name.encode('ascii','ignore')) +' <'+ obj.email+'>\">'\n",
      "        else:\n",
      "            print 'unexpected type:', type(obj)\n",
      "            print unicode(obj)\n",
      "            raise Exception\n",
      "    return d"
     ],
     "language": "python",
     "metadata": {},
     "outputs": [],
     "prompt_number": 4
    },
    {
     "cell_type": "code",
     "collapsed": false,
     "input": [
      "def jdump_helper(x, f, item_per_line=True):\n",
      "    skipped = 0\n",
      "    #store the object\n",
      "    if item_per_line and type(x) == list:\n",
      "        print type(x), 'is list'\n",
      "        for v in x:\n",
      "            try:\n",
      "                f.write(json.dumps(v,default=convert_to_builtin_type))\n",
      "                f.write(\"\\n\")\n",
      "            except Exception, e:\n",
      "                skipped += 1\n",
      "                #print 'Error in json dumps', e\n",
      "                #pp.pprint(v)\n",
      "                #raise Exception\n",
      "    elif item_per_line and type(x) == dict:\n",
      "        print type(x), 'is dict'\n",
      "        for k, v in x.items():\n",
      "            try:\n",
      "                v['json_key'] = k\n",
      "                f.write(json.dumps(v,default=convert_to_builtin_type))\n",
      "                f.write(\"\\n\")\n",
      "            except Exception, e:\n",
      "                skipped += 1\n",
      "                #print 'Error in json dumps', e, 'key:', k\n",
      "                #pp.pprint(v)\n",
      "                #raise Exception\n",
      "    else:\n",
      "        json.dump(x,f, default=convert_to_builtin_type)\n",
      "        \n",
      "    if skipped > 0:\n",
      "        print 'entried skipped:', skipped "
     ],
     "language": "python",
     "metadata": {},
     "outputs": [],
     "prompt_number": 5
    },
    {
     "cell_type": "code",
     "collapsed": false,
     "input": [
      "def jload_helper(f):\n",
      "    #restore the object\n",
      "    result = []\n",
      "    dict_result = {}\n",
      "    for line in f:\n",
      "            v = json.loads(line)\n",
      "            if 'json_key' in v:\n",
      "                #individual entries are items in a dict:\n",
      "                k = v['json_key']\n",
      "                del v['json_key']\n",
      "                dict_result[k] = v\n",
      "                pass\n",
      "            else:\n",
      "                result.append(v)\n",
      "    if dict_result:\n",
      "        print 'returning dict'\n",
      "        return dict_result\n",
      "    elif len(result) > 1:\n",
      "        print 'returning list'\n",
      "        return result\n",
      "    elif len(result) == 1:\n",
      "        print 'returning singleton'\n",
      "        return result[0]\n",
      "    else:\n",
      "        return False"
     ],
     "language": "python",
     "metadata": {},
     "outputs": [],
     "prompt_number": 6
    },
    {
     "cell_type": "code",
     "collapsed": false,
     "input": [
      "def jdump(x, name, item_per_line=True):\n",
      "    if name.endswith('z'):\n",
      "        print 'gzipped'\n",
      "        with gzip.open(name,'wb') as f:\n",
      "            jdump_helper(x, f, item_per_line=item_per_line)\n",
      "    else:\n",
      "        with open(name,'wb') as f:\n",
      "            jdump_helper(x, f, item_per_line=item_per_line)\n",
      "\n",
      "def jload(name):\n",
      "    if name.endswith('z'):\n",
      "        print 'gzipped'\n",
      "        with gzip.open(name,'rb') as f:\n",
      "            return jload_helper(f)\n",
      "    else:\n",
      "        with open(name,'rb') as f:\n",
      "            return jload_helper(f)"
     ],
     "language": "python",
     "metadata": {},
     "outputs": [],
     "prompt_number": 7
    },
    {
     "cell_type": "code",
     "collapsed": false,
     "input": [
      "def pdump(x, name):\n",
      "    if name.endswith('z'):\n",
      "        with gzip.open(name,'wb') as f:\n",
      "            pickle.dump(x,f, protocol=-1)\n",
      "    else:\n",
      "        with open(name,'wb') as f:\n",
      "            pickle.dump(x,f, protocol=-1)\n",
      "\n",
      "def pload(name):\n",
      "    if name.endswith('z'):\n",
      "        with gzip.open(name,'rb') as f:\n",
      "            return pickle.load(f)\n",
      "    else:\n",
      "        with open(name,'rb') as f:\n",
      "            return pickle.load(f)"
     ],
     "language": "python",
     "metadata": {},
     "outputs": [],
     "prompt_number": 8
    },
    {
     "cell_type": "heading",
     "level": 1,
     "metadata": {},
     "source": [
      "Git Related Code"
     ]
    },
    {
     "cell_type": "code",
     "collapsed": false,
     "input": [
      "change_template = re.compile('Change-Id:\\s*(\\S+)', re.IGNORECASE)    \n",
      "\n",
      "def parse_change(txt):\n",
      "    txt = txt.lower()\n",
      "    m = change_template.search(txt)\n",
      "    if m:\n",
      "        val = m.group(1)\n",
      "        if val.startswith('i'):\n",
      "            val = 'I' + val[1:]\n",
      "        return {'change_id':str(val)}\n",
      "    else:\n",
      "        #print txt\n",
      "        return {}"
     ],
     "language": "python",
     "metadata": {},
     "outputs": [],
     "prompt_number": 9
    },
    {
     "cell_type": "code",
     "collapsed": false,
     "input": [
      "bug_template = re.compile('bug[s:\\s/-]*(?:lp|lp:|lp:#|lp:)*[\\s#]*(\\d+)', re.IGNORECASE)\n",
      "def parse_bug(txt):\n",
      "    txt = txt.lower()\n",
      "    m = bug_template.search(txt)\n",
      "    if m:\n",
      "        return {'bug':m.group(1)}\n",
      "    else:\n",
      "        return {}\n",
      "\n",
      "def parse_msg(msg):\n",
      "    result = {}\n",
      "    for line in msg.split('\\n'):\n",
      "        lline = line.lower()\n",
      "        #if 'bug' in yy or 'change' in yy:\n",
      "        if 'change' in lline:\n",
      "            result.update(parse_change(line))\n",
      "        elif 'bug' in lline:\n",
      "            result.update(parse_bug(line))\n",
      "    return result"
     ],
     "language": "python",
     "metadata": {},
     "outputs": [],
     "prompt_number": 10
    },
    {
     "cell_type": "code",
     "collapsed": false,
     "input": [
      "def process_commits(repo_name=\"/Users/doug/SW_Dev/nova\", max_count=False, details=False):\n",
      "    total_operations = 0\n",
      "    global repo\n",
      "    repo = Repo(repo_name)\n",
      "    #repo = Repo(repo_name, odbt=GitCmdObjectDB)\n",
      "    assert repo.bare == False\n",
      "    global commits\n",
      "    commits = collections.defaultdict(list)\n",
      "    global files\n",
      "    files = collections.defaultdict(list)\n",
      "    \n",
      "    for c in repo.iter_commits('master', max_count=max_count):\n",
      "        cid = c.hexsha\n",
      "        #commits[cid] = {'author':c.author, 'date': c.committed_date, 'cid':c.hexsha,\n",
      "        #                'committer':c.committer, 'msg':c.message, \n",
      "        #                'files':[], 'parents':[p.hexsha for p in c.parents]}\n",
      "        commits[cid] = {'author':convert_to_builtin_type(c.author), \n",
      "                        'date': c.committed_date, \n",
      "                        'cid':c.hexsha,\n",
      "                        'committer':convert_to_builtin_type(c.committer), \n",
      "                        'msg':c.message.encode('ascii', 'ignore'), \n",
      "                        'files':[], 'parents':[p.hexsha for p in c.parents]}\n",
      "        #print '.',\n",
      "        \n",
      "        commits[cid].update(parse_msg(c.message))\n",
      "        total_operations += 1\n",
      "        if total_operations % 100 == 0:\n",
      "                print '.',\n",
      "        if total_operations % 1000 == 0:\n",
      "                print total_operations,\n",
      "                \n",
      "        #if details:\n",
      "        #    commits[cid]['files'] = process_commit_details(cid)"
     ],
     "language": "python",
     "metadata": {},
     "outputs": [],
     "prompt_number": 11
    },
    {
     "cell_type": "code",
     "collapsed": false,
     "input": [
      "hdr_re = re.compile('@@\\s+-(?P<nstart>\\d+)(,(?P<nlen>\\d+))?\\s+\\+(?P<pstart>\\d+)(,(?P<plen>\\d+))?\\s+@@')\n",
      "def parse_diff(d, proximity_limit=4):\n",
      "    p_pos = 0\n",
      "    n_pos = 0\n",
      "    changes = []\n",
      "    line_range = []\n",
      "    for line in d.diff.split('\\n'):\n",
      "        #print line\n",
      "        if line.startswith('@@'):\n",
      "            #print line\n",
      "            m = hdr_re.search(line)\n",
      "            if m:\n",
      "                n_start = int(m.group('nstart'))\n",
      "                n_pos = n_start\n",
      "                try:\n",
      "                    n_len = int(m.group('nlen'))\n",
      "                except Exception:\n",
      "                    n_len = 0\n",
      "                p_start = int(m.group('pstart'))\n",
      "                p_pos = p_start\n",
      "                try:\n",
      "                    p_len = int(m.group('plen'))\n",
      "                except Exception:\n",
      "                    p_len = 0\n",
      "                    \n",
      "                line_range += range(n_start, n_start+n_len)\n",
      "            else:\n",
      "                print 'not found', line\n",
      "        elif line.startswith('---'):\n",
      "            delete_flag = False\n",
      "            pass\n",
      "        elif line.startswith('+++'):\n",
      "            delete_flag = False\n",
      "            pass\n",
      "        elif line.startswith(' '):\n",
      "            delete_flag = False\n",
      "            p_pos += 1\n",
      "            n_pos += 1\n",
      "        elif line.startswith('+'):\n",
      "            if delete_flag:\n",
      "                changes.append(n_pos-1)\n",
      "            else:\n",
      "                changes.append(n_pos-1)\n",
      "                changes.append(n_pos)\n",
      "            delete_flag = False\n",
      "            p_pos += 1\n",
      "        elif line.startswith('-'):\n",
      "            changes.append(n_pos)\n",
      "            delete_flag = True\n",
      "            n_pos += 1\n",
      "            \n",
      "    changes = set(sorted(set(changes)))\n",
      "    window = set(sorted(set(line_range)))\n",
      "    \n",
      "    #print 'change:', changes\n",
      "    #print 'range:', line_range\n",
      "    \n",
      "    proximity = 1\n",
      "    prior = set([])\n",
      "    result = []\n",
      "    \n",
      "    #while window.difference(set([x[0] for x in result])):\n",
      "    while window.difference(prior):\n",
      "        #print 'available:', window.difference(prior)\n",
      "        result += [{'lineno':x, 'proximity':proximity} for x in changes]\n",
      "        proximity += 1\n",
      "        prior = prior.union(changes)\n",
      "        \n",
      "        #grow changes\n",
      "        changes = set([x-1 for x in changes] + [x+1 for x in changes])\n",
      "        changes = changes.difference(prior)\n",
      "        #print 'new:', changes\n",
      "        #print\n",
      "        \n",
      "        if proximity > proximity_limit:\n",
      "            break\n",
      "        \n",
      "    return sorted([x for x in result if x['lineno'] in window])"
     ],
     "language": "python",
     "metadata": {},
     "outputs": [],
     "prompt_number": 12
    },
    {
     "cell_type": "markdown",
     "metadata": {},
     "source": [
      "for changing reference point see: http://stackoverflow.com/questions/5098256/git-blame-prior-commits"
     ]
    },
    {
     "cell_type": "code",
     "collapsed": false,
     "input": [
      "def get_blame(cid, path, \n",
      "              repo_dir = '/Users/doug/SW_Dev/nova'):\n",
      "    result = []\n",
      "    entry = {}\n",
      "    first = True      # identifies first line in each porcelin group\n",
      "    cmd = 'cd ' + repo_dir\n",
      "    #cmd += ' ; ' + 'git reset --soft ' + cid\n",
      "    #cmd += ' ; ' + 'git blame --line-porcelain ' + path\n",
      "    cmd += ' ; ' + 'git blame --line-porcelain ' + cid + ' -- ' + path\n",
      "\n",
      "    with os.popen(cmd) as f:\n",
      "        for line in f:\n",
      "            try:\n",
      "                line = str(line)\n",
      "                #line = line.encode('ascii', errors='ignore')\n",
      "            except Exception, e:\n",
      "                print e\n",
      "                print type(line), line\n",
      "                raise Exception\n",
      "                \n",
      "            #line = line.encode('utf-8', errors='ignore')\n",
      "            #print line\n",
      "            if first:\n",
      "                line = line[:-1]    #strip newline\n",
      "                v = line.split(' ')\n",
      "                entry['commit'] = v[0]\n",
      "                entry['orig_lineno'] = v[1]\n",
      "                entry['lineno'] = v[2]\n",
      "                #print 'first: ', v\n",
      "                first = False\n",
      "            elif line[0] == '\\t':\n",
      "                #print entry['lineno']\n",
      "                entry['text'] = line[1:].strip()\n",
      "                \n",
      "                result.append(entry)\n",
      "                entry = {}\n",
      "                first = True\n",
      "            else:\n",
      "                try:\n",
      "                    k, v = line.split(' ', 1)\n",
      "                    v = v[:-1]\n",
      "                    #print k, v\n",
      "                    entry[k] = v\n",
      "                except Exception, e:\n",
      "                    pass\n",
      "    if len(result) == 0:\n",
      "        #print\n",
      "        #print 'Warning -- Empty Blame for ', cid, path\n",
      "        #with os.popen(cmd) as f:\n",
      "        #    for line in f:\n",
      "        #        print line\n",
      "        return False\n",
      "    return result"
     ],
     "language": "python",
     "metadata": {},
     "outputs": [],
     "prompt_number": 13
    },
    {
     "cell_type": "code",
     "collapsed": false,
     "input": [
      "def assign_blame(d, p_cid):\n",
      "    try:\n",
      "        result = parse_diff(d)\n",
      "        #now annotate with blame information\n",
      "        blame = dict([(int(x['lineno']), x)for x in get_blame(p_cid, d.b_blob.path)])\n",
      "        result = [dict(x.items() + [['commit', blame[x['lineno']]['commit']]]) for x in result if x['lineno'] in blame]\n",
      "            \n",
      "        return [d.b_blob.path, result]\n",
      "    except Exception:\n",
      "        return [d.b_blob.path, False]"
     ],
     "language": "python",
     "metadata": {},
     "outputs": [],
     "prompt_number": 35
    },
    {
     "cell_type": "code",
     "collapsed": false,
     "input": [
      "def process_commit_details(cid):\n",
      "    global repo\n",
      "    \n",
      "    c = repo.commit(cid)\n",
      "    \n",
      "    #files_add = []\n",
      "    #files_del = []\n",
      "    #files_ren = []\n",
      "    #files_mod = []\n",
      "    blame = []\n",
      "        \n",
      "    for p in c.parents:    #iterate through each parent\n",
      "        i = c.diff(p, create_patch=True)\n",
      "        #files_add += [d.b_blob.path for d in i.iter_change_type('A') if d.b_blob]\n",
      "        #files_del += [d.a_blob.path for d in i.iter_change_type('D') if d.a_blob]\n",
      "        #files_ren += [{'from': d.a_blob.path, 'to':d.b_blob.path} \n",
      "        #              for d in i.iter_change_type('R') if d.a_blob and d.b_blob]\n",
      "        #files_mod += [d.b_blob.path for d in i.iter_change_type('M') if d.b_blob]\n",
      "        blame += [assign_blame(d,p.hexsha) for d in i.iter_change_type('M') if d.b_blob]   \n",
      "            \n",
      "    #ret =  {'a':files_add, 'd':files_del, 'r':files_ren, 'm':files_mod}\n",
      "    #pp.pprint(blame)\n",
      "    return dict(blame)"
     ],
     "language": "python",
     "metadata": {},
     "outputs": [],
     "prompt_number": 15
    },
    {
     "cell_type": "code",
     "collapsed": false,
     "input": [
      "def compute_all_blame(bug_fix_commits, start = 0, limit = 10000, suffix = '0',\n",
      "              keep = set(['lineno', 'orig_lineno', 'commit', 'text'])):\n",
      "    progress = 0\n",
      "    all_blame = []\n",
      "    for cid in bug_fix_commits[start:start+limit]:\n",
      "        all_blame.append({'cid':cid, 'blame': process_commit_details(cid)})\n",
      "        \n",
      "        progress += 1\n",
      "        if progress % 100 == 0:\n",
      "            print '.',\n",
      "        if progress % 1000 == 0:\n",
      "            print progress\n",
      "\n",
      "    pdump(all_blame, 'all_blame_'+suffix+'.pklz')\n",
      "    return all_blame"
     ],
     "language": "python",
     "metadata": {},
     "outputs": [],
     "prompt_number": 16
    },
    {
     "cell_type": "heading",
     "level": 1,
     "metadata": {},
     "source": [
      "Other Loader Code"
     ]
    },
    {
     "cell_type": "code",
     "collapsed": false,
     "input": [
      "def lp_parse_messages(messages):\n",
      "    result = {}\n",
      "    \n",
      "    for msg in messages:\n",
      "        txt = msg['content']\n",
      "        if 'Change-Id: I' in txt:\n",
      "            for line in txt.split('\\n'):\n",
      "                if 'Reviewed:  https://review.openstack.org/' in line:\n",
      "                    review = line.split('/')[-1]\n",
      "                    result['review'] = review\n",
      "                elif 'Change-Id: I' in line:\n",
      "                    change_id = line.split(':')[-1].strip()\n",
      "                    result['change_id'] = change_id\n",
      "                elif 'Committed: http://github.com/openstack/' in line:\n",
      "                    commit = line.split('/')[-1]\n",
      "                    result['cid'] =  commit\n",
      "    return result"
     ],
     "language": "python",
     "metadata": {},
     "outputs": [],
     "prompt_number": 17
    },
    {
     "cell_type": "code",
     "collapsed": false,
     "input": [
      "def load_gerrit_changes(name='changes.pkl'):\n",
      "    x = pload(name)\n",
      "    print 'Object type:', type(x)\n",
      "    print 'total gerrit changes:', len(x)\n",
      "    return x\n",
      "    \n",
      "def load_gerrit_change_details(name='change_details.pkl'):\n",
      "    x = pload(name)\n",
      "    print 'Object type:', type(x)\n",
      "    print 'total gerrit changes with detail:', len(x)\n",
      "    return x"
     ],
     "language": "python",
     "metadata": {},
     "outputs": [],
     "prompt_number": 18
    },
    {
     "cell_type": "code",
     "collapsed": false,
     "input": [
      "def load_lp_bugs(name='lp_nova_bugs.p'):\n",
      "    x = pload(name)\n",
      "    \n",
      "    # now annotate bug entry with additional content, if available\n",
      "    found = 0\n",
      "    for k, bug in x.items():\n",
      "        ret = lp_parse_messages(bug['messages'])\n",
      "        if ret != {}:\n",
      "            found += 1\n",
      "            x[k].update(ret)\n",
      "    \n",
      "    print 'Object type:', type(x)\n",
      "    print 'total LP bugs:', len(x)\n",
      "    print 'Entries annotated:', found\n",
      "\n",
      "    return x"
     ],
     "language": "python",
     "metadata": {},
     "outputs": [],
     "prompt_number": 19
    },
    {
     "cell_type": "code",
     "collapsed": false,
     "input": [
      "#returns dict indexed by cid\n",
      "\n",
      "def load_git_commits(name='commits.pkl'):\n",
      "    #global repo\n",
      "    #repo = Repo(\"/Users/doug/SW_Dev/nova\")\n",
      "    \n",
      "    result = pload(name)\n",
      "    # normalize change_id to begin with upper case I\n",
      "    #for k, v in result.items():\n",
      "    #    if 'Change-Id' in v and  v['Change-Id'].startswith('i'):\n",
      "    #        result[k]['Change-Id'] = 'I' + v['Change-Id'][1:]\n",
      "    \n",
      "    \n",
      "    print 'Object type:', type(result)\n",
      "    print 'total git_commits:', len(result)\n",
      "    print 'bug fix commits:', len([x for x in result.values() if 'bug' in x])\n",
      "    print 'commits with change_id:', len([x for x in result.values() if 'change_id' in x])\n",
      "    print 'bug fix with change_id:', len([x for x in result.values() if 'change_id' in x and 'bug' in x])\n",
      "    return result"
     ],
     "language": "python",
     "metadata": {},
     "outputs": [],
     "prompt_number": 20
    },
    {
     "cell_type": "heading",
     "level": 1,
     "metadata": {},
     "source": [
      "Join Code"
     ]
    },
    {
     "cell_type": "code",
     "collapsed": false,
     "input": [
      "def join_LP_Gerrit_to_git():\n",
      "    global commits\n",
      "    global downloaded_bugs\n",
      "    global all_change_details\n",
      "    results = {}\n",
      "    \n",
      "    total = 0\n",
      "    \n",
      "    #create indices\n",
      "    idx_cid_to_bugs = dict([[v['cid'],k] for k, v in downloaded_bugs.items() if 'cid' in v])\n",
      "    #print len(idxcid_to_bugs)\n",
      "    idx_changeid_to_bugs = dict([[v['change_id'],k] for k, v in downloaded_bugs.items() if 'change_id' in v])\n",
      "    #print len(idx_changeid_to_bugs)\n",
      "    \n",
      "    #convert gerrit data into dict indexed by change_id\n",
      "    d_gerrit_by_changeid = dict([[v['change_id'],v] for v in all_change_details if 'change_id' in v])\n",
      "    print len(d_gerrit_by_changeid)\n",
      "    \n",
      "    for cid, commit in commits.items():\n",
      "        lp_val = []\n",
      "        gerrit_val = []\n",
      "        git_val = [[k, v] for k, v in commit.items()]\n",
      "        \n",
      "        #join with LP data\n",
      "        bugno = False\n",
      "        if cid in idx_cid_to_bugs:\n",
      "            bugno = idx_cid_to_bugs[cid]\n",
      "        elif 'bug' in commit and commit['bug'] in downloaded_bugs:\n",
      "            bugno = commit['bug']\n",
      "        elif 'change_id' in commit and commit['change_id'] in idx_changeid_to_bugs:\n",
      "            bugno = idx_changeid_to_bugs[commit['change_id']]\n",
      "            \n",
      "        if bugno:\n",
      "            lp_val = [['lp:'+k, v] for k, v in downloaded_bugs[bugno].items()]\n",
      "            \n",
      "        #join gerrit data using change_id\n",
      "        if 'change_id' in commit and commit['change_id'] in d_gerrit_by_changeid:\n",
      "            gerrit_val = [['g:'+k, v] for k, v in d_gerrit_by_changeid[commit['change_id']].items()]\n",
      "        \n",
      "        results[cid] = dict(lp_val+gerrit_val+git_val)\n",
      "        \n",
      "        total += 1\n",
      "        if total % 100 == 0:\n",
      "            print '.',\n",
      "        if total % 1000 == 0:\n",
      "            print total,\n",
      "            \n",
      "    return results"
     ],
     "language": "python",
     "metadata": {},
     "outputs": [],
     "prompt_number": 21
    },
    {
     "cell_type": "heading",
     "level": 1,
     "metadata": {},
     "source": [
      "Analysis - Extract Initial Git Information"
     ]
    },
    {
     "cell_type": "code",
     "collapsed": false,
     "input": [
      "commits = collections.defaultdict(list)\n",
      "files = collections.defaultdict(list)\n",
      "#repo = False"
     ],
     "language": "python",
     "metadata": {},
     "outputs": [],
     "prompt_number": 22
    },
    {
     "cell_type": "code",
     "collapsed": false,
     "input": [
      "print 'starting'\n",
      "process_commits()\n",
      "#process_commits(max_count=100)\n",
      "print \n",
      "print 'total commits:', len(commits)"
     ],
     "language": "python",
     "metadata": {},
     "outputs": [
      {
       "output_type": "stream",
       "stream": "stdout",
       "text": [
        "starting\n",
        "."
       ]
      },
      {
       "output_type": "stream",
       "stream": "stdout",
       "text": [
        " . . . "
       ]
      },
      {
       "output_type": "stream",
       "stream": "stdout",
       "text": [
        ". . . "
       ]
      },
      {
       "output_type": "stream",
       "stream": "stdout",
       "text": [
        ". . . 1000 "
       ]
      },
      {
       "output_type": "stream",
       "stream": "stdout",
       "text": [
        ". . . "
       ]
      },
      {
       "output_type": "stream",
       "stream": "stdout",
       "text": [
        ". . . "
       ]
      },
      {
       "output_type": "stream",
       "stream": "stdout",
       "text": [
        ". . . "
       ]
      },
      {
       "output_type": "stream",
       "stream": "stdout",
       "text": [
        ". 2000 . . "
       ]
      },
      {
       "output_type": "stream",
       "stream": "stdout",
       "text": [
        ". . . "
       ]
      },
      {
       "output_type": "stream",
       "stream": "stdout",
       "text": [
        ". . . "
       ]
      },
      {
       "output_type": "stream",
       "stream": "stdout",
       "text": [
        ". . 3000 . "
       ]
      },
      {
       "output_type": "stream",
       "stream": "stdout",
       "text": [
        ". . . "
       ]
      },
      {
       "output_type": "stream",
       "stream": "stdout",
       "text": [
        ". . . "
       ]
      },
      {
       "output_type": "stream",
       "stream": "stdout",
       "text": [
        ". . . 4000 "
       ]
      },
      {
       "output_type": "stream",
       "stream": "stdout",
       "text": [
        ". . . "
       ]
      },
      {
       "output_type": "stream",
       "stream": "stdout",
       "text": [
        ". . . "
       ]
      },
      {
       "output_type": "stream",
       "stream": "stdout",
       "text": [
        ". . . "
       ]
      },
      {
       "output_type": "stream",
       "stream": "stdout",
       "text": [
        ". 5000 . . "
       ]
      },
      {
       "output_type": "stream",
       "stream": "stdout",
       "text": [
        ". . . "
       ]
      },
      {
       "output_type": "stream",
       "stream": "stdout",
       "text": [
        ". . . "
       ]
      },
      {
       "output_type": "stream",
       "stream": "stdout",
       "text": [
        ". . 6000 . "
       ]
      },
      {
       "output_type": "stream",
       "stream": "stdout",
       "text": [
        ". . . "
       ]
      },
      {
       "output_type": "stream",
       "stream": "stdout",
       "text": [
        ". . . "
       ]
      },
      {
       "output_type": "stream",
       "stream": "stdout",
       "text": [
        ". . . 7000 "
       ]
      },
      {
       "output_type": "stream",
       "stream": "stdout",
       "text": [
        ". . . "
       ]
      },
      {
       "output_type": "stream",
       "stream": "stdout",
       "text": [
        ". . . "
       ]
      },
      {
       "output_type": "stream",
       "stream": "stdout",
       "text": [
        ". . . "
       ]
      },
      {
       "output_type": "stream",
       "stream": "stdout",
       "text": [
        ". 8000 . . "
       ]
      },
      {
       "output_type": "stream",
       "stream": "stdout",
       "text": [
        ". . . "
       ]
      },
      {
       "output_type": "stream",
       "stream": "stdout",
       "text": [
        ". . . "
       ]
      },
      {
       "output_type": "stream",
       "stream": "stdout",
       "text": [
        ". . 9000 . "
       ]
      },
      {
       "output_type": "stream",
       "stream": "stdout",
       "text": [
        ". . . "
       ]
      },
      {
       "output_type": "stream",
       "stream": "stdout",
       "text": [
        ". . . "
       ]
      },
      {
       "output_type": "stream",
       "stream": "stdout",
       "text": [
        ". . . 10000 "
       ]
      },
      {
       "output_type": "stream",
       "stream": "stdout",
       "text": [
        ". . . "
       ]
      },
      {
       "output_type": "stream",
       "stream": "stdout",
       "text": [
        ". . . "
       ]
      },
      {
       "output_type": "stream",
       "stream": "stdout",
       "text": [
        ". . . "
       ]
      },
      {
       "output_type": "stream",
       "stream": "stdout",
       "text": [
        ". 11000 . . "
       ]
      },
      {
       "output_type": "stream",
       "stream": "stdout",
       "text": [
        ". . . "
       ]
      },
      {
       "output_type": "stream",
       "stream": "stdout",
       "text": [
        ". . . "
       ]
      },
      {
       "output_type": "stream",
       "stream": "stdout",
       "text": [
        ". . 12000 . "
       ]
      },
      {
       "output_type": "stream",
       "stream": "stdout",
       "text": [
        ". . . "
       ]
      },
      {
       "output_type": "stream",
       "stream": "stdout",
       "text": [
        ". . . "
       ]
      },
      {
       "output_type": "stream",
       "stream": "stdout",
       "text": [
        ". . . 13000 "
       ]
      },
      {
       "output_type": "stream",
       "stream": "stdout",
       "text": [
        ". . . "
       ]
      },
      {
       "output_type": "stream",
       "stream": "stdout",
       "text": [
        ". . . "
       ]
      },
      {
       "output_type": "stream",
       "stream": "stdout",
       "text": [
        ". . . "
       ]
      },
      {
       "output_type": "stream",
       "stream": "stdout",
       "text": [
        ". 14000 . . "
       ]
      },
      {
       "output_type": "stream",
       "stream": "stdout",
       "text": [
        ". . . "
       ]
      },
      {
       "output_type": "stream",
       "stream": "stdout",
       "text": [
        ". . . "
       ]
      },
      {
       "output_type": "stream",
       "stream": "stdout",
       "text": [
        ". . 15000 . "
       ]
      },
      {
       "output_type": "stream",
       "stream": "stdout",
       "text": [
        ". . . "
       ]
      },
      {
       "output_type": "stream",
       "stream": "stdout",
       "text": [
        ". . . "
       ]
      },
      {
       "output_type": "stream",
       "stream": "stdout",
       "text": [
        ". . . 16000 "
       ]
      },
      {
       "output_type": "stream",
       "stream": "stdout",
       "text": [
        ". . . "
       ]
      },
      {
       "output_type": "stream",
       "stream": "stdout",
       "text": [
        ". . "
       ]
      },
      {
       "output_type": "stream",
       "stream": "stdout",
       "text": [
        ". . . "
       ]
      },
      {
       "output_type": "stream",
       "stream": "stdout",
       "text": [
        ". . 17000 "
       ]
      },
      {
       "output_type": "stream",
       "stream": "stdout",
       "text": [
        ". . . "
       ]
      },
      {
       "output_type": "stream",
       "stream": "stdout",
       "text": [
        ". . . "
       ]
      },
      {
       "output_type": "stream",
       "stream": "stdout",
       "text": [
        ". . . "
       ]
      },
      {
       "output_type": "stream",
       "stream": "stdout",
       "text": [
        ". 18000 . . "
       ]
      },
      {
       "output_type": "stream",
       "stream": "stdout",
       "text": [
        ". . . "
       ]
      },
      {
       "output_type": "stream",
       "stream": "stdout",
       "text": [
        ". . . "
       ]
      },
      {
       "output_type": "stream",
       "stream": "stdout",
       "text": [
        ". . 19000 . "
       ]
      },
      {
       "output_type": "stream",
       "stream": "stdout",
       "text": [
        ". . . "
       ]
      },
      {
       "output_type": "stream",
       "stream": "stdout",
       "text": [
        ". . . "
       ]
      },
      {
       "output_type": "stream",
       "stream": "stdout",
       "text": [
        ". . . 20000 "
       ]
      },
      {
       "output_type": "stream",
       "stream": "stdout",
       "text": [
        ". . . "
       ]
      },
      {
       "output_type": "stream",
       "stream": "stdout",
       "text": [
        ". . . "
       ]
      },
      {
       "output_type": "stream",
       "stream": "stdout",
       "text": [
        ". . . "
       ]
      },
      {
       "output_type": "stream",
       "stream": "stdout",
       "text": [
        ". 21000 . . "
       ]
      },
      {
       "output_type": "stream",
       "stream": "stdout",
       "text": [
        ". . . "
       ]
      },
      {
       "output_type": "stream",
       "stream": "stdout",
       "text": [
        ". . . "
       ]
      },
      {
       "output_type": "stream",
       "stream": "stdout",
       "text": [
        ". . 22000 . "
       ]
      },
      {
       "output_type": "stream",
       "stream": "stdout",
       "text": [
        ". . . "
       ]
      },
      {
       "output_type": "stream",
       "stream": "stdout",
       "text": [
        ". . . "
       ]
      },
      {
       "output_type": "stream",
       "stream": "stdout",
       "text": [
        ". . . 23000 "
       ]
      },
      {
       "output_type": "stream",
       "stream": "stdout",
       "text": [
        ". . . "
       ]
      },
      {
       "output_type": "stream",
       "stream": "stdout",
       "text": [
        ". . . "
       ]
      },
      {
       "output_type": "stream",
       "stream": "stdout",
       "text": [
        ". . . "
       ]
      },
      {
       "output_type": "stream",
       "stream": "stdout",
       "text": [
        ". 24000 . . "
       ]
      },
      {
       "output_type": "stream",
       "stream": "stdout",
       "text": [
        ". . . "
       ]
      },
      {
       "output_type": "stream",
       "stream": "stdout",
       "text": [
        ". . . "
       ]
      },
      {
       "output_type": "stream",
       "stream": "stdout",
       "text": [
        ". . 25000 . "
       ]
      },
      {
       "output_type": "stream",
       "stream": "stdout",
       "text": [
        ". . . "
       ]
      },
      {
       "output_type": "stream",
       "stream": "stdout",
       "text": [
        ". . . "
       ]
      },
      {
       "output_type": "stream",
       "stream": "stdout",
       "text": [
        ". . . 26000 "
       ]
      },
      {
       "output_type": "stream",
       "stream": "stdout",
       "text": [
        ". . . "
       ]
      },
      {
       "output_type": "stream",
       "stream": "stdout",
       "text": [
        ". . . "
       ]
      },
      {
       "output_type": "stream",
       "stream": "stdout",
       "text": [
        ". . . "
       ]
      },
      {
       "output_type": "stream",
       "stream": "stdout",
       "text": [
        ". 27000 . . "
       ]
      },
      {
       "output_type": "stream",
       "stream": "stdout",
       "text": [
        ". . . "
       ]
      },
      {
       "output_type": "stream",
       "stream": "stdout",
       "text": [
        ". . . "
       ]
      },
      {
       "output_type": "stream",
       "stream": "stdout",
       "text": [
        ". . 28000 . "
       ]
      },
      {
       "output_type": "stream",
       "stream": "stdout",
       "text": [
        ". . . "
       ]
      },
      {
       "output_type": "stream",
       "stream": "stdout",
       "text": [
        ". . . "
       ]
      },
      {
       "output_type": "stream",
       "stream": "stdout",
       "text": [
        ". .\n",
        "total commits: 28938\n"
       ]
      }
     ],
     "prompt_number": 23
    },
    {
     "cell_type": "code",
     "collapsed": false,
     "input": [
      "if True:\n",
      "    with open('commits.pkl', 'wb') as f:\n",
      "        pickle.dump(commits, f, -1)\n",
      "        #pickle.dump(commits, f)"
     ],
     "language": "python",
     "metadata": {},
     "outputs": [],
     "prompt_number": 24
    },
    {
     "cell_type": "heading",
     "level": 1,
     "metadata": {},
     "source": [
      "Load All Data"
     ]
    },
    {
     "cell_type": "raw",
     "metadata": {},
     "source": [
      "#unpickle prior results\n",
      "if False:\n",
      "    repo = Repo(\"/Users/doug/SW_Dev/nova\")\n",
      "    with open('commits.pkl', 'rb') as f:\n",
      "        commits = pickle.load(f)\n",
      "    #with open('files.pkl', 'rb') as f:\n",
      "    #    files = pickle.load(f)"
     ]
    },
    {
     "cell_type": "code",
     "collapsed": false,
     "input": [
      "all_changes = load_gerrit_changes()\n",
      "print\n",
      "all_change_details = load_gerrit_change_details()"
     ],
     "language": "python",
     "metadata": {},
     "outputs": [
      {
       "output_type": "stream",
       "stream": "stdout",
       "text": [
        "Object type: <type 'list'>\n",
        "total gerrit changes: 10442\n",
        "\n",
        "Object type:"
       ]
      },
      {
       "output_type": "stream",
       "stream": "stdout",
       "text": [
        " <type 'list'>\n",
        "total gerrit changes with detail: 10434\n"
       ]
      }
     ],
     "prompt_number": 25
    },
    {
     "cell_type": "code",
     "collapsed": false,
     "input": [
      "downloaded_bugs = load_lp_bugs()"
     ],
     "language": "python",
     "metadata": {},
     "outputs": [
      {
       "output_type": "stream",
       "stream": "stdout",
       "text": [
        "Object type: <type 'dict'>\n",
        "total LP bugs: 5937\n",
        "Entries annotated: 3951\n"
       ]
      }
     ],
     "prompt_number": 26
    },
    {
     "cell_type": "code",
     "collapsed": false,
     "input": [
      "commits = load_git_commits()"
     ],
     "language": "python",
     "metadata": {},
     "outputs": [
      {
       "output_type": "stream",
       "stream": "stdout",
       "text": [
        "Object type: <type 'collections.defaultdict'>\n",
        "total git_commits: 28938\n",
        "bug fix commits: 4401\n",
        "commits with change_id: 9396\n",
        "bug fix with change_id: 4051\n"
       ]
      }
     ],
     "prompt_number": 27
    },
    {
     "cell_type": "code",
     "collapsed": false,
     "input": [
      "total_bugs = 0\n",
      "total_changes = 0\n",
      "total_both = 0\n",
      "for x in commits.values():\n",
      "    if 'bug' in x:\n",
      "        total_bugs += 1\n",
      "        \n",
      "print 'commits:', len(commits)\n",
      "print 'bugs:', total_bugs\n",
      "\n",
      "sample_change = [x for x in commits.values() if 'change_id' in x]\n",
      "print 'changes:', len(sample_change)\n",
      "sample_both = [x for x in commits.values() if 'change_id' in x and 'bug' in x]\n",
      "print 'bufg fix changes:', len(sample_both)"
     ],
     "language": "python",
     "metadata": {},
     "outputs": [
      {
       "output_type": "stream",
       "stream": "stdout",
       "text": [
        "commits: 28938\n",
        "bugs: 4401\n",
        "changes: 9396\n",
        "bufg fix changes: 4051\n"
       ]
      }
     ],
     "prompt_number": 28
    },
    {
     "cell_type": "code",
     "collapsed": false,
     "input": [
      "pp.pprint(commits.values()[0:2])"
     ],
     "language": "python",
     "metadata": {},
     "outputs": [
      {
       "output_type": "stream",
       "stream": "stdout",
       "text": [
        "[{'author': '<git.Actor \"MORITA Kazutaka <morita.kazutaka@gmail.com>\">',\n",
        "  'cid': '0b698186b56af6580633dedd7916df2897945f29',\n",
        "  'committer': '<git.Actor \"MORITA Kazutaka <morita.kazutaka@gmail.com>\">',\n",
        "  'date': 1305808274,\n",
        "  'files': [],\n",
        "  'msg': 'Avoid wildcard import.',\n",
        "  'parents': ['5a3bd10a2ada4ab1287b115051578b7b27bba6bc']},\n",
        " {'author': '<git.Actor \"Rick Harris <rconradharris@gmail.com>\">',\n",
        "  'change_id': 'I8e5b71fcd51ab3628425b53356f9671f3a2402c0',\n",
        "  'cid': '16af39326a81cd545e1235da9c6c9db45b708560',\n",
        "  'committer': '<git.Actor \"Rick Harris <rconradharris@gmail.com>\">',\n",
        "  'date': 1369332222,\n",
        "  'files': [],\n",
        "  'msg': \"Better error message on malformed request url\\n\\nThe existing error message just said 'malformed url' which isn't\\nsuper-helpful. The new version expalins that the project ID in the URL is not\\nmatching what's being passed in with the context.\\n\\nChange-Id: I8e5b71fcd51ab3628425b53356f9671f3a2402c0\\n\",\n",
        "  'parents': ['6dd1709bcea69ab47a695d42cb1c3d0e7f221ab2']}]\n"
       ]
      }
     ],
     "prompt_number": 29
    },
    {
     "cell_type": "heading",
     "level": 1,
     "metadata": {},
     "source": [
      "Join"
     ]
    },
    {
     "cell_type": "code",
     "collapsed": false,
     "input": [
      "combined_commits = join_LP_Gerrit_to_git()\n",
      "print\n",
      "print len(combined_commits)"
     ],
     "language": "python",
     "metadata": {},
     "outputs": [
      {
       "output_type": "stream",
       "stream": "stdout",
       "text": [
        "9658\n",
        ". . . . . . . . . . 1000 . . . . . . . . . . 2000 . . . . . . . "
       ]
      },
      {
       "output_type": "stream",
       "stream": "stdout",
       "text": [
        ". . . 3000 . . . . . . . . . . 4000 . . . . . . . . . . 5000 . . . . . . . . . "
       ]
      },
      {
       "output_type": "stream",
       "stream": "stdout",
       "text": [
        ". 6000 . . . . . . . . . . 7000 . . . . . . . . . . 8000 . . . . . . . . . . 9000 . . . . . . . . . "
       ]
      },
      {
       "output_type": "stream",
       "stream": "stdout",
       "text": [
        ". 10000 . . . . . . . . . . 11000 . . . . . . . . . . 12000 . . . . . "
       ]
      },
      {
       "output_type": "stream",
       "stream": "stdout",
       "text": [
        ". . . . . 13000 . . . . . . . . . . 14000 . . . . . . . . . . 15000 . . . . . . . . . . 16000 . . . "
       ]
      },
      {
       "output_type": "stream",
       "stream": "stdout",
       "text": [
        ". . . . . . . 17000 . . . . . . . . . . 18000 . . . . . . . . . . 19000 . . . . . . . . . "
       ]
      },
      {
       "output_type": "stream",
       "stream": "stdout",
       "text": [
        ". 20000 . . . . . . . . . . 21000 . . . . . . . . . . 22000 . . . . . . . . . . 23000 . . . . . . . "
       ]
      },
      {
       "output_type": "stream",
       "stream": "stdout",
       "text": [
        ". . . 24000 . . . . . . . . . . 25000 . . . . . . . . . . 26000 . . . . . . . . . . 27000 . . . . . . "
       ]
      },
      {
       "output_type": "stream",
       "stream": "stdout",
       "text": [
        ". . . . 28000 . . . . . . . . .\n",
        "28938\n"
       ]
      }
     ],
     "prompt_number": 30
    },
    {
     "cell_type": "code",
     "collapsed": false,
     "input": [
      "if True:\n",
      "    pdump(combined_commits, 'combined_commits.pklz')\n",
      "    jdump(combined_commits, 'combined_commits.jsonz')\n",
      "else:\n",
      "    combined_commits = pload('combined_commits.pklz')\n",
      "    #combined_commits = jload('combined_commits.jsonz')\n",
      "    print len(combined_commits)"
     ],
     "language": "python",
     "metadata": {},
     "outputs": [
      {
       "output_type": "stream",
       "stream": "stdout",
       "text": [
        "gzipped\n",
        "<type 'dict'> is dict\n"
       ]
      }
     ],
     "prompt_number": 31
    },
    {
     "cell_type": "heading",
     "level": 1,
     "metadata": {},
     "source": [
      "Compute Diff and Blame"
     ]
    },
    {
     "cell_type": "code",
     "collapsed": false,
     "input": [
      "bug_fix_commits = [k for k,v in combined_commits.items() if 'lp:id' in v]\n",
      "print len(bug_fix_commits)\n",
      "print bug_fix_commits[:2]"
     ],
     "language": "python",
     "metadata": {},
     "outputs": [
      {
       "output_type": "stream",
       "stream": "stdout",
       "text": [
        "4456\n",
        "['3a915546507e9a5617ada90546342a9239735ff8', '755f6194e29c8e3daf6fd64a59dc2be4c81b1f0d']\n"
       ]
      }
     ],
     "prompt_number": 32
    },
    {
     "cell_type": "raw",
     "metadata": {},
     "source": [
      "for k in bug_fix_commits[:1]:\n",
      "    pp.pprint(process_commit_details(k))"
     ]
    },
    {
     "cell_type": "raw",
     "metadata": {},
     "source": [
      "# Test compute_all_blame\n",
      "if True:\n",
      "    commit_details = {}\n",
      "    compute_all_blame(bug_fix_commits, start = 0, limit = 10, suffix = 'delete')"
     ]
    },
    {
     "cell_type": "code",
     "collapsed": false,
     "input": [
      "if False:\n",
      "    try:\n",
      "    # free up memory\n",
      "        del combined_commits\n",
      "        del all_changes\n",
      "        del all_change_details\n",
      "        del downloaded_bugs\n",
      "    except Exception, e:\n",
      "        pass\n",
      "    \n",
      "    commit_details = {}\n",
      "    print\n",
      "    print '**** Group 0 ****'\n",
      "    print\n",
      "    compute_all_blame(bug_fix_commits, start = 0, limit = 1000, suffix = '0')\n",
      "    print\n",
      "    print '**** Group 1 ****'\n",
      "    print\n",
      "    compute_all_blame(bug_fix_commits, start = 1000, limit = 1000, suffix = '1')\n",
      "    print\n",
      "    print '**** Group 2 ****'\n",
      "    print\n",
      "    compute_all_blame(bug_fix_commits, start = 2000, limit = 1000, suffix = '2')\n",
      "    print\n",
      "    print '**** Group 3 ****'\n",
      "    print\n",
      "    compute_all_blame(bug_fix_commits, start = 3000, limit = 1000, suffix = '3')\n",
      "    print\n",
      "    print '**** Group 4 ****'\n",
      "    print\n",
      "    compute_all_blame(bug_fix_commits, start = 4000, limit = 1000, suffix = '4')\n",
      "    #consolidate resultsin json format\n",
      "    jdump(pload('all_blame_0.pklz')+pload('all_blame_1.pklz')+pload('all_blame_2.pklz')\n",
      "          +pload('all_blame_3.pklz')+pload('all_blame_4.pklz'), 'all_blame.jsonz')"
     ],
     "language": "python",
     "metadata": {},
     "outputs": [
      {
       "output_type": "stream",
       "stream": "stdout",
       "text": [
        "gzipped\n",
        "<type 'list'> is list\n"
       ]
      }
     ],
     "prompt_number": 39
    },
    {
     "cell_type": "code",
     "collapsed": false,
     "input": [],
     "language": "python",
     "metadata": {},
     "outputs": []
    },
    {
     "cell_type": "code",
     "collapsed": false,
     "input": [],
     "language": "python",
     "metadata": {},
     "outputs": []
    },
    {
     "cell_type": "code",
     "collapsed": false,
     "input": [
      "#test git blame\n",
      "\n",
      "cid = '0b698186b56af6580633dedd7916df2897945f29'\n",
      "fname = commits[cid]['files']['m'][0]\n",
      "pp.pprint(fname)\n",
      "\n",
      "ret = get_blame(cid, fname)\n",
      "pp.pprint(ret[0:2])"
     ],
     "language": "python",
     "metadata": {},
     "outputs": [
      {
       "output_type": "stream",
       "stream": "stdout",
       "text": [
        "'nova/db/sqlalchemy/migrate_repo/versions/019_add_volume_snapshot_support.py'\n",
        "["
       ]
      },
      {
       "output_type": "stream",
       "stream": "stdout",
       "text": [
        "{'author': 'MORITA Kazutaka',\n",
        "  'author-mail': '<morita.kazutaka@gmail.com>',\n",
        "  'author-time': '1303213706',\n",
        "  'author-tz': '+0900',\n",
        "  'commit': 'dcda6be23c3797872c406f58578b05befd378c97',\n",
        "  'committer': 'MORITA Kazutaka',\n",
        "  'committer-mail': '<morita.kazutaka@gmail.com>',\n",
        "  'committer-time': '1303213706',\n",
        "  'committer-tz': '+0900',\n",
        "  'filename': 'nova/db/sqlalchemy/migrate_repo/versions/015_add_volume_snapshot_support.py',\n",
        "  'lineno': '1',\n",
        "  'orig_lineno': '1',\n",
        "  'summary': 'Add support for creating a snapshot of a nova volume with euca-create-snapshot.',\n",
        "  'text': '# vim: tabstop=4 shiftwidth=4 softtabstop=4'},\n",
        " {'author': 'MORITA Kazutaka',\n",
        "  'author-mail': '<morita.kazutaka@gmail.com>',\n",
        "  'author-time': '1303213706',\n",
        "  'author-tz': '+0900',\n",
        "  'commit': 'dcda6be23c3797872c406f58578b05befd378c97',\n",
        "  'committer': 'MORITA Kazutaka',\n",
        "  'committer-mail': '<morita.kazutaka@gmail.com>',\n",
        "  'committer-time': '1303213706',\n",
        "  'committer-tz': '+0900',\n",
        "  'filename': 'nova/db/sqlalchemy/migrate_repo/versions/015_add_volume_snapshot_support.py',\n",
        "  'lineno': '2',\n",
        "  'orig_lineno': '2',\n",
        "  'summary': 'Add support for creating a snapshot of a nova volume with euca-create-snapshot.',\n",
        "  'text': ''}]\n"
       ]
      }
     ],
     "prompt_number": 35
    },
    {
     "cell_type": "code",
     "collapsed": false,
     "input": [],
     "language": "python",
     "metadata": {},
     "outputs": []
    },
    {
     "cell_type": "code",
     "collapsed": false,
     "input": [],
     "language": "python",
     "metadata": {},
     "outputs": []
    },
    {
     "cell_type": "code",
     "collapsed": false,
     "input": [],
     "language": "python",
     "metadata": {},
     "outputs": []
    },
    {
     "cell_type": "code",
     "collapsed": false,
     "input": [],
     "language": "python",
     "metadata": {},
     "outputs": []
    },
    {
     "cell_type": "markdown",
     "metadata": {},
     "source": [
      "#Boneyard"
     ]
    },
    {
     "cell_type": "code",
     "collapsed": false,
     "input": [
      "pp.pprint([x['commit'] for x in ret])"
     ],
     "language": "python",
     "metadata": {},
     "outputs": [
      {
       "output_type": "stream",
       "stream": "stdout",
       "text": [
        "['dcda6be23c3797872c406f58578b05befd378c97',\n",
        " 'dcda6be23c3797872c406f58578b05befd378c97',\n",
        " 'dcda6be23c3797872c406f58578b05befd378c97',\n",
        " 'dcda6be23c3797872c406f58578b05befd378c97',\n",
        " 'dcda6be23c3797872c406f58578b05befd378c97',\n",
        " 'dcda6be23c3797872c406f58578b05befd378c97',\n",
        " 'dcda6be23c3797872c406f58578b05befd378c97',\n",
        " 'dcda6be23c3797872c406f58578b05befd378c97',\n",
        " 'dcda6be23c3797872c406f58578b05befd378c97',\n",
        " 'dcda6be23c3797872c406f58578b05befd378c97',\n",
        " 'dcda6be23c3797872c406f58578b05befd378c97',\n",
        " 'dcda6be23c3797872c406f58578b05befd378c97',\n",
        " 'dcda6be23c3797872c406f58578b05befd378c97',\n",
        " 'dcda6be23c3797872c406f58578b05befd378c97',\n",
        " 'dcda6be23c3797872c406f58578b05befd378c97',\n",
        " 'dcda6be23c3797872c406f58578b05befd378c97',\n",
        " 'dcda6be23c3797872c406f58578b05befd378c97',\n",
        " '0b698186b56af6580633dedd7916df2897945f29',\n",
        " '0b698186b56af6580633dedd7916df2897945f29',\n",
        " 'dcda6be23c3797872c406f58578b05befd378c97',\n",
        " 'dcda6be23c3797872c406f58578b05befd378c97',\n",
        " 'dcda6be23c3797872c406f58578b05befd378c97',\n",
        " 'dcda6be23c3797872c406f58578b05befd378c97',\n",
        " 'dcda6be23c3797872c406f58578b05befd378c97',\n",
        " 'dcda6be23c3797872c406f58578b05befd378c97',\n",
        " 'dcda6be23c3797872c406f58578b05befd378c97',\n",
        " 'dcda6be23c3797872c406f58578b05befd378c97',\n",
        " 'dcda6be23c3797872c406f58578b05befd378c97',\n",
        " 'dcda6be23c3797872c406f58578b05befd378c97',\n",
        " 'dcda6be23c3797872c406f58578b05befd378c97',\n",
        " 'dcda6be23c3797872c406f58578b05befd378c97',\n",
        " 'dcda6be23c3797872c406f58578b05befd378c97',\n",
        " 'dcda6be23c3797872c406f58578b05befd378c97',\n",
        " 'dcda6be23c3797872c406f58578b05befd378c97',\n",
        " 'dcda6be23c3797872c406f58578b05befd378c97',\n",
        " 'dcda6be23c3797872c406f58578b05befd378c97',\n",
        " 'dcda6be23c3797872c406f58578b05befd378c97',\n",
        " 'dcda6be23c3797872c406f58578b05befd378c97',\n",
        " 'dcda6be23c3797872c406f58578b05befd378c97',\n",
        " 'dcda6be23c3797872c406f58578b05befd378c97',\n",
        " 'dcda6be23c3797872c406f58578b05befd378c97',\n",
        " 'dcda6be23c3797872c406f58578b05befd378c97',\n",
        " 'dcda6be23c3797872c406f58578b05befd378c97',\n",
        " 'dcda6be23c3797872c406f58578b05befd378c97',\n",
        " 'dcda6be23c3797872c406f58578b05befd378c97',\n",
        " 'dcda6be23c3797872c406f58578b05befd378c97',\n",
        " 'dcda6be23c3797872c406f58578b05befd378c97',\n",
        " 'dcda6be23c3797872c406f58578b05befd378c97',\n",
        " 'dcda6be23c3797872c406f58578b05befd378c97',\n",
        " 'dcda6be23c3797872c406f58578b05befd378c97',\n",
        " 'dcda6be23c3797872c406f58578b05befd378c97',\n",
        " 'dcda6be23c3797872c406f58578b05befd378c97',\n",
        " 'dcda6be23c3797872c406f58578b05befd378c97',\n",
        " 'dcda6be23c3797872c406f58578b05befd378c97',\n",
        " 'dcda6be23c3797872c406f58578b05befd378c97',\n",
        " 'dcda6be23c3797872c406f58578b05befd378c97',\n",
        " 'dcda6be23c3797872c406f58578b05befd378c97',\n",
        " 'dcda6be23c3797872c406f58578b05befd378c97',\n",
        " 'dcda6be23c3797872c406f58578b05befd378c97',\n",
        " 'dcda6be23c3797872c406f58578b05befd378c97',\n",
        " 'dcda6be23c3797872c406f58578b05befd378c97',\n",
        " 'dcda6be23c3797872c406f58578b05befd378c97',\n",
        " 'dcda6be23c3797872c406f58578b05befd378c97',\n",
        " 'dcda6be23c3797872c406f58578b05befd378c97',\n",
        " 'dcda6be23c3797872c406f58578b05befd378c97',\n",
        " 'dcda6be23c3797872c406f58578b05befd378c97',\n",
        " 'dcda6be23c3797872c406f58578b05befd378c97',\n",
        " 'dcda6be23c3797872c406f58578b05befd378c97',\n",
        " 'dcda6be23c3797872c406f58578b05befd378c97',\n",
        " 'dcda6be23c3797872c406f58578b05befd378c97',\n",
        " 'dcda6be23c3797872c406f58578b05befd378c97']\n"
       ]
      }
     ],
     "prompt_number": 22
    },
    {
     "cell_type": "code",
     "collapsed": false,
     "input": [
      "c = repo.commit('dcda6be23c3797872c406f58578b05befd378c97')\n",
      "pp.pprint(c)"
     ],
     "language": "python",
     "metadata": {},
     "outputs": [
      {
       "output_type": "stream",
       "stream": "stdout",
       "text": [
        "<git.Commit \"dcda6be23c3797872c406f58578b05befd378c97\">\n"
       ]
      }
     ],
     "prompt_number": 24
    },
    {
     "cell_type": "code",
     "collapsed": false,
     "input": [],
     "language": "python",
     "metadata": {},
     "outputs": []
    },
    {
     "cell_type": "heading",
     "level": 3,
     "metadata": {},
     "source": [
      "Sanity check why so few commits has changeid"
     ]
    },
    {
     "cell_type": "code",
     "collapsed": false,
     "input": [
      "no_changeid = [x for x in commits.values() if 'change_id' not in x]\n",
      "print 'no change_id:', len(no_changeid)"
     ],
     "language": "python",
     "metadata": {},
     "outputs": [
      {
       "output_type": "stream",
       "stream": "stdout",
       "text": [
        "no change_id: 19542\n"
       ]
      }
     ],
     "prompt_number": 14
    },
    {
     "cell_type": "code",
     "collapsed": false,
     "input": [
      "pp.pprint(no_changeid[:10])"
     ],
     "language": "python",
     "metadata": {},
     "outputs": [
      {
       "output_type": "stream",
       "stream": "stdout",
       "text": [
        "[{'author': <git.Actor \"MORITA Kazutaka <morita.kazutaka@gmail.com>\">,\n",
        "  'cid': '0b698186b56af6580633dedd7916df2897945f29',\n",
        "  'committer': <git.Actor \"MORITA Kazutaka <morita.kazutaka@gmail.com>\">,\n",
        "  'date': 1305808274,\n",
        "  'files': {'a': [],\n",
        "            'd': [],\n",
        "            'm': ['nova/db/sqlalchemy/migrate_repo/versions/019_add_volume_snapshot_support.py'],\n",
        "            'r': []},\n",
        "  'msg': u'Avoid wildcard import.',\n",
        "  'parents': ['5a3bd10a2ada4ab1287b115051578b7b27bba6bc']},\n",
        " {'author': <git.Actor \"Jenkins <jenkins@review.openstack.org>\">,\n",
        "  'cid': 'e7068fd481f6cb887da3a8488435d7c911539bb2',\n",
        "  'committer': <git.Actor \"Gerrit Code Review <review@openstack.org>\">,\n",
        "  'date': 1333041489,\n",
        "  'files': {'a': [],\n",
        "            'd': ['nova/api/sizelimit.py',\n",
        "                  'nova/tests/api/test_sizelimit.py'],\n",
        "            'm': ['etc/nova/api-paste.ini',\n",
        "                  'nova/api/openstack/compute/servers.py',\n",
        "                  'nova/compute/api.py',\n",
        "                  'nova/network/manager.py',\n",
        "                  'nova/network/quantum/manager.py',\n",
        "                  'nova/network/quantum/melange_connection.py',\n",
        "                  'nova/network/quantum/melange_ipam_lib.py',\n",
        "                  'nova/tests/api/openstack/compute/test_servers.py',\n",
        "                  'nova/tests/test_compute.py',\n",
        "                  'nova/tests/test_imagecache.py',\n",
        "                  'nova/tests/test_melange_ipam_lib.py',\n",
        "                  'nova/tests/test_quantum.py',\n",
        "                  'nova/virt/libvirt/imagecache.py'],\n",
        "            'r': []},\n",
        "  'msg': u'Merge \"Adds middleware to limit request body sizes.\"',\n",
        "  'parents': ['484f0a42be3c36aaf508264e1109e0c9b1abc07e',\n",
        "              '0fa7d12dbfb7ae016657dd91034b4c0781ea43de']},\n",
        " {'author': <git.Actor \"Jenkins <jenkins@review.openstack.org>\">,\n",
        "  'cid': '780ea4dead6f31e11b5ec11bde01260fb5d45e70',\n",
        "  'committer': <git.Actor \"Gerrit Code Review <review@openstack.org>\">,\n",
        "  'date': 1390834847,\n",
        "  'files': {'a': [],\n",
        "            'd': [],\n",
        "            'm': ['etc/nova/nova.conf.sample',\n",
        "                  'nova/compute/manager.py',\n",
        "                  'nova/virt/libvirt/imagebackend.py',\n",
        "                  'nova/db/sqlalchemy/api.py',\n",
        "                  'nova/tests/compute/test_resource_tracker.py',\n",
        "                  'nova/tests/db/test_db_api.py'],\n",
        "            'r': []},\n",
        "  'msg': u'Merge \"Remove unused configurations\"',\n",
        "  'parents': ['152a2b55c3ead2c8d372c2f97ffaebad98e7318b',\n",
        "              '4a0f95f27a2457ffdaed509bfb7b2d67a35b8fca']},\n",
        " {'author': <git.Actor \"Jenkins <jenkins@review.openstack.org>\">,\n",
        "  'cid': 'ec8737a44842ee41fe9a4929d3e1996119fa15ee',\n",
        "  'committer': <git.Actor \"Gerrit Code Review <review@openstack.org>\">,\n",
        "  'date': 1390680470,\n",
        "  'files': {'a': ['nova/openstack/common/rootwrap/__init__.py',\n",
        "                  'nova/openstack/common/rootwrap/cmd.py',\n",
        "                  'nova/openstack/common/rootwrap/filters.py',\n",
        "                  'nova/openstack/common/rootwrap/wrapper.py',\n",
        "                  'nova/tests/test_unit.py',\n",
        "                  'nova/tests/virt/vmwareapi/test_vmwareapi.py',\n",
        "                  'nova/tests/virt/vmwareapi/test_vmwareapi_vif.py',\n",
        "                  'nova/tests/virt/vmwareapi/test_vmwareapi_vim_util.py',\n",
        "                  'nova/tests/virt/vmwareapi/test_vmwareapi_vm_util.py',\n",
        "                  'nova/tests/virt/vmwareapi/test_vmwareapi_vm_util_datastore_selection.py',\n",
        "                  'nova/tests/virt/vmwareapi/test_vmwareapi_vmops.py',\n",
        "                  'nova/tests/virt/vmwareapi/test_vmwareapi_volumeops.py',\n",
        "                  'nova/unit.py'],\n",
        "            'd': ['doc/api_samples/os-preserve-ephemeral-rebuild/server-action-rebuild-resp.json',\n",
        "                  'doc/api_samples/os-preserve-ephemeral-rebuild/server-action-rebuild-resp.xml',\n",
        "                  'doc/api_samples/os-preserve-ephemeral-rebuild/server-action-rebuild.json',\n",
        "                  'doc/api_samples/os-preserve-ephemeral-rebuild/server-action-rebuild.xml',\n",
        "                  'doc/api_samples/os-preserve-ephemeral-rebuild/server-post-req.json',\n",
        "                  'doc/api_samples/os-preserve-ephemeral-rebuild/server-post-req.xml',\n",
        "                  'doc/api_samples/os-preserve-ephemeral-rebuild/server-post-resp.json',\n",
        "                  'doc/api_samples/os-preserve-ephemeral-rebuild/server-post-resp.xml',\n",
        "                  'doc/v3/api_samples/os-pci/hypervisors-pci-detail-resp.json',\n",
        "                  'doc/v3/api_samples/os-pci/hypervisors-pci-detail-resp.xml',\n",
        "                  'doc/v3/api_samples/os-pci/hypervisors-pci-show-resp.json',\n",
        "                  'doc/v3/api_samples/os-pci/hypervisors-pci-show-resp.xml',\n",
        "                  'doc/v3/api_samples/servers/server-action-rebuild-preserve-ephemeral.json',\n",
        "                  'doc/v3/api_samples/servers/server-action-rebuild-preserve-ephemeral.xml',\n",
        "                  'nova/api/openstack/compute/contrib/preserve_ephemeral_rebuild.py',\n",
        "                  'nova/api/openstack/compute/schemas/v3/admin_password_schema.py',\n",
        "                  'nova/api/openstack/compute/schemas/v3/agents_schema.py',\n",
        "                  'nova/api/openstack/compute/schemas/v3/evacuate.py',\n",
        "                  'nova/api/openstack/compute/schemas/v3/extended_volumes_schema.py',\n",
        "                  'nova/api/openstack/compute/schemas/v3/flavor_access_schema.py',\n",
        "                  'nova/api/openstack/compute/schemas/v3/keypairs_schema.py',\n",
        "                  'nova/api/openstack/compute/schemas/v3/multinic.py',\n",
        "                  'nova/api/validation/parameter_types.py',\n",
        "                  'nova/db/sqlalchemy/migrate_repo/versions/230_add_details_column_to_instance_actions_events.py',\n",
        "                  'nova/locale/he/LC_MESSAGES/nova.po',\n",
        "                  'nova/locale/he_IL/LC_MESSAGES/nova.po',\n",
        "                  'nova/objects/virtual_interface.py',\n",
        "                  'nova/openstack/common/middleware/request_id.py',\n",
        "                  'nova/openstack/common/units.py',\n",
        "                  'nova/tests/integrated/api_samples/os-preserve-ephemeral-rebuild/server-action-rebuild-resp.json.tpl',\n",
        "                  'nova/tests/integrated/api_samples/os-preserve-ephemeral-rebuild/server-action-rebuild-resp.xml.tpl',\n",
        "                  'nova/tests/integrated/api_samples/os-preserve-ephemeral-rebuild/server-action-rebuild.json.tpl',\n",
        "                  'nova/tests/integrated/api_samples/os-preserve-ephemeral-rebuild/server-action-rebuild.xml.tpl',\n",
        "                  'nova/tests/integrated/api_samples/os-preserve-ephemeral-rebuild/server-post-req.json.tpl',\n",
        "                  'nova/tests/integrated/api_samples/os-preserve-ephemeral-rebuild/server-post-req.xml.tpl',\n",
        "                  'nova/tests/integrated/api_samples/os-preserve-ephemeral-rebuild/server-post-resp.json.tpl',\n",
        "                  'nova/tests/integrated/api_samples/os-preserve-ephemeral-rebuild/server-post-resp.xml.tpl',\n",
        "                  'nova/tests/integrated/v3/api_samples/os-pci/hypervisors-pci-detail-resp.json.tpl',\n",
        "                  'nova/tests/integrated/v3/api_samples/os-pci/hypervisors-pci-detail-resp.xml.tpl',\n",
        "                  'nova/tests/integrated/v3/api_samples/os-pci/hypervisors-pci-show-resp.json.tpl',\n",
        "                  'nova/tests/integrated/v3/api_samples/os-pci/hypervisors-pci-show-resp.xml.tpl',\n",
        "                  'nova/tests/integrated/v3/api_samples/servers/server-action-rebuild-preserve-ephemeral-resp.json.tpl',\n",
        "                  'nova/tests/integrated/v3/api_samples/servers/server-action-rebuild-preserve-ephemeral-resp.xml.tpl',\n",
        "                  'nova/tests/integrated/v3/api_samples/servers/server-action-rebuild-preserve-ephemeral.json.tpl',\n",
        "                  'nova/tests/integrated/v3/api_samples/servers/server-action-rebuild-preserve-ephemeral.xml.tpl',\n",
        "                  'nova/tests/objects/test_virtual_interface.py',\n",
        "                  'nova/tests/virt/docker/test_network.py',\n",
        "                  'nova/tests/virt/vmwareapi/test_driver_api.py',\n",
        "                  'nova/tests/virt/vmwareapi/test_vif.py',\n",
        "                  'nova/tests/virt/vmwareapi/test_vim_util.py',\n",
        "                  'nova/tests/virt/vmwareapi/test_vm_util.py',\n",
        "                  'nova/tests/virt/vmwareapi/test_vm_util_datastore_selection.py',\n",
        "                  'nova/tests/virt/vmwareapi/test_vmops.py',\n",
        "                  'nova/tests/virt/vmwareapi/test_volumeops.py',\n",
        "                  'nova/virt/baremetal/db/sqlalchemy/migrate_repo/versions/010_add_preserve_ephemeral.py',\n",
        "                  'nova/virt/docker/network.py'],\n",
        "            'm': ['tox.ini',\n",
        "                  'doc/README.rst',\n",
        "                  'doc/api_samples/all_extensions/extensions-get-resp.json',\n",
        "                  'doc/api_samples/all_extensions/extensions-get-resp.xml',\n",
        "                  'etc/nova/nova.conf.sample',\n",
        "                  'etc/nova/policy.json',\n",
        "                  'etc/nova/rootwrap.d/compute.filters',\n",
        "                  'nova/api/__init__.py',\n",
        "                  'nova/api/auth.py',\n",
        "                  'nova/api/ec2/cloud.py',\n",
        "                  'nova/api/openstack/common.py',\n",
        "                  'nova/api/openstack/compute/contrib/aggregates.py',\n",
        "                  'nova/api/openstack/compute/contrib/cells.py',\n",
        "                  'nova/api/openstack/compute/contrib/fixed_ips.py',\n",
        "                  'nova/api/openstack/compute/contrib/floating_ips_bulk.py',\n",
        "                  'nova/api/openstack/compute/contrib/os_tenant_networks.py',\n",
        "                  'nova/api/openstack/compute/contrib/shelve.py',\n",
        "                  'nova/api/openstack/compute/contrib/volumes.py',\n",
        "                  'nova/api/openstack/compute/plugins/v3/admin_password.py',\n",
        "                  'nova/api/openstack/compute/plugins/v3/agents.py',\n",
        "                  'nova/api/openstack/compute/plugins/v3/aggregates.py',\n",
        "                  'nova/api/openstack/compute/plugins/v3/cells.py',\n",
        "                  'nova/api/openstack/compute/plugins/v3/evacuate.py',\n",
        "                  'nova/api/openstack/compute/plugins/v3/extended_volumes.py',\n",
        "                  'nova/api/openstack/compute/plugins/v3/flavor_access.py',\n",
        "                  'nova/api/openstack/compute/plugins/v3/keypairs.py',\n",
        "                  'nova/api/openstack/compute/plugins/v3/multinic.py',\n",
        "                  'nova/api/openstack/compute/plugins/v3/pci.py',\n",
        "                  'nova/api/openstack/compute/plugins/v3/servers.py',\n",
        "                  'nova/api/openstack/compute/plugins/v3/shelve.py',\n",
        "                  'nova/api/openstack/compute/servers.py',\n",
        "                  'nova/api/openstack/xmlutil.py',\n",
        "                  'nova/api/sizelimit.py',\n",
        "                  'nova/availability_zones.py',\n",
        "                  'nova/cells/opts.py',\n",
        "                  'nova/cells/rpcapi.py',\n",
        "                  'nova/cells/scheduler.py',\n",
        "                  'nova/cells/state.py',\n",
        "                  'nova/cells/weights/mute_child.py',\n",
        "                  'nova/cert/rpcapi.py',\n",
        "                  'nova/cloudpipe/pipelib.py',\n",
        "                  'nova/cmd/api_metadata.py',\n",
        "                  'nova/cmd/baremetal_deploy_helper.py',\n",
        "                  'nova/cmd/manage.py',\n",
        "                  'nova/cmd/network.py',\n",
        "                  'nova/compute/api.py',\n",
        "                  'nova/compute/flavors.py',\n",
        "                  'nova/compute/manager.py',\n",
        "                  'nova/compute/rpcapi.py',\n",
        "                  'nova/conductor/api.py',\n",
        "                  'nova/console/rpcapi.py',\n",
        "                  'nova/console/vmrc.py',\n",
        "                  'nova/console/xvp.py',\n",
        "                  'nova/consoleauth/__init__.py',\n",
        "                  'nova/db/api.py',\n",
        "                  'nova/db/base.py',\n",
        "                  'nova/db/sqlalchemy/api.py',\n",
        "                  'nova/db/sqlalchemy/models.py',\n",
        "                  'nova/exception.py',\n",
        "                  'nova/hacking/checks.py',\n",
        "                  'nova/image/download/file.py',\n",
        "                  'nova/image/glance.py',\n",
        "                  'nova/image/s3.py',\n",
        "                  'nova/locale/ar/LC_MESSAGES/nova.po',\n",
        "                  'nova/locale/bg_BG/LC_MESSAGES/nova.po',\n",
        "                  'nova/locale/bn_IN/LC_MESSAGES/nova.po',\n",
        "                  'nova/locale/bs/LC_MESSAGES/nova.po',\n",
        "                  'nova/locale/ca/LC_MESSAGES/nova.po',\n",
        "                  'nova/locale/cs/LC_MESSAGES/nova.po',\n",
        "                  'nova/locale/da/LC_MESSAGES/nova.po',\n",
        "                  'nova/locale/de/LC_MESSAGES/nova.po',\n",
        "                  'nova/locale/en_AU/LC_MESSAGES/nova.po',\n",
        "                  'nova/locale/en_GB/LC_MESSAGES/nova.po',\n",
        "                  'nova/locale/en_US/LC_MESSAGES/nova.po',\n",
        "                  'nova/locale/es/LC_MESSAGES/nova.po',\n",
        "                  'nova/locale/es_MX/LC_MESSAGES/nova.po',\n",
        "                  'nova/locale/eu/LC_MESSAGES/nova.po',\n",
        "                  'nova/locale/eu_ES/LC_MESSAGES/nova.po',\n",
        "                  'nova/locale/fa/LC_MESSAGES/nova.po',\n",
        "                  'nova/locale/fi_FI/LC_MESSAGES/nova.po',\n",
        "                  'nova/locale/fil/LC_MESSAGES/nova.po',\n",
        "                  'nova/locale/fr/LC_MESSAGES/nova.po',\n",
        "                  'nova/locale/gl/LC_MESSAGES/nova.po',\n",
        "                  'nova/locale/hi/LC_MESSAGES/nova.po',\n",
        "                  'nova/locale/hr/LC_MESSAGES/nova.po',\n",
        "                  'nova/locale/hu/LC_MESSAGES/nova.po',\n",
        "                  'nova/locale/id/LC_MESSAGES/nova.po',\n",
        "                  'nova/locale/is_IS/LC_MESSAGES/nova.po',\n",
        "                  'nova/locale/it/LC_MESSAGES/nova.po',\n",
        "                  'nova/locale/it_IT/LC_MESSAGES/nova.po',\n",
        "                  'nova/locale/ja/LC_MESSAGES/nova.po',\n",
        "                  'nova/locale/ka_GE/LC_MESSAGES/nova.po',\n",
        "                  'nova/locale/km/LC_MESSAGES/nova.po',\n",
        "                  'nova/locale/kn/LC_MESSAGES/nova.po',\n",
        "                  'nova/locale/ko/LC_MESSAGES/nova.po',\n",
        "                  'nova/locale/ko_KR/LC_MESSAGES/nova.po',\n",
        "                  'nova/locale/ml_IN/LC_MESSAGES/nova.po',\n",
        "                  'nova/locale/mr_IN/LC_MESSAGES/nova.po',\n",
        "                  'nova/locale/ms/LC_MESSAGES/nova.po',\n",
        "                  'nova/locale/nb/LC_MESSAGES/nova.po',\n",
        "                  'nova/locale/ne/LC_MESSAGES/nova.po',\n",
        "                  'nova/locale/nl_NL/LC_MESSAGES/nova.po',\n",
        "                  'nova/locale/nova.pot',\n",
        "                  'nova/locale/pa_IN/LC_MESSAGES/nova.po',\n",
        "                  'nova/locale/pl_PL/LC_MESSAGES/nova.po',\n",
        "                  'nova/locale/pt/LC_MESSAGES/nova.po',\n",
        "                  'nova/locale/pt_BR/LC_MESSAGES/nova.po',\n",
        "                  'nova/locale/ro/LC_MESSAGES/nova.po',\n",
        "                  'nova/locale/ru/LC_MESSAGES/nova.po',\n",
        "                  'nova/locale/ru_RU/LC_MESSAGES/nova.po',\n",
        "                  'nova/locale/sk/LC_MESSAGES/nova.po',\n",
        "                  'nova/locale/sl_SI/LC_MESSAGES/nova.po',\n",
        "                  'nova/locale/sv/LC_MESSAGES/nova.po',\n",
        "                  'nova/locale/sw_KE/LC_MESSAGES/nova.po',\n",
        "                  'nova/locale/tl/LC_MESSAGES/nova.po',\n",
        "                  'nova/locale/tl_PH/LC_MESSAGES/nova.po',\n",
        "                  'nova/locale/tr/LC_MESSAGES/nova.po',\n",
        "                  'nova/locale/tr_TR/LC_MESSAGES/nova.po',\n",
        "                  'nova/locale/uk/LC_MESSAGES/nova.po',\n",
        "                  'nova/locale/ur/LC_MESSAGES/nova.po',\n",
        "                  'nova/locale/vi_VN/LC_MESSAGES/nova.po',\n",
        "                  'nova/locale/zh_CN/LC_MESSAGES/nova.po',\n",
        "                  'nova/locale/zh_HK/LC_MESSAGES/nova.po',\n",
        "                  'nova/locale/zh_TW/LC_MESSAGES/nova.po',\n",
        "                  'nova/netconf.py',\n",
        "                  'nova/network/floating_ips.py',\n",
        "                  'nova/network/ldapdns.py',\n",
        "                  'nova/network/linux_net.py',\n",
        "                  'nova/network/manager.py',\n",
        "                  'nova/network/neutronv2/api.py',\n",
        "                  'nova/network/rpcapi.py',\n",
        "                  'nova/objects/__init__.py',\n",
        "                  'nova/objects/fields.py',\n",
        "                  'nova/objects/instance.py',\n",
        "                  'nova/objects/instance_info_cache.py',\n",
        "                  'nova/objects/security_group_rule.py',\n",
        "                  'nova/objectstore/s3server.py',\n",
        "                  'nova/openstack/common/db/sqlalchemy/session.py',\n",
        "                  'nova/openstack/common/processutils.py',\n",
        "                  'nova/quota.py',\n",
        "                  'nova/scheduler/chance.py',\n",
        "                  'nova/scheduler/driver.py',\n",
        "                  'nova/scheduler/filter_scheduler.py',\n",
        "                  'nova/scheduler/filters/disk_filter.py',\n",
        "                  'nova/scheduler/filters/trusted_filter.py',\n",
        "                  'nova/scheduler/manager.py',\n",
        "                  'nova/scheduler/rpcapi.py',\n",
        "                  'nova/service.py',\n",
        "                  'nova/servicegroup/drivers/zk.py',\n",
        "                  'nova/spice/__init__.py',\n",
        "                  'nova/tests/api/openstack/compute/contrib/test_aggregates.py',\n",
        "                  'nova/tests/api/openstack/compute/contrib/test_cells.py',\n",
        "                  'nova/tests/api/openstack/compute/contrib/test_evacuate.py',\n",
        "                  'nova/tests/api/openstack/compute/contrib/test_shelve.py',\n",
        "                  'nova/tests/api/openstack/compute/contrib/test_volumes.py',\n",
        "                  'nova/tests/api/openstack/compute/plugins/v3/test_admin_password.py',\n",
        "                  'nova/tests/api/openstack/compute/plugins/v3/test_agents.py',\n",
        "                  'nova/tests/api/openstack/compute/plugins/v3/test_aggregates.py',\n",
        "                  'nova/tests/api/openstack/compute/plugins/v3/test_cells.py',\n",
        "                  'nova/tests/api/openstack/compute/plugins/v3/test_evacuate.py',\n",
        "                  'nova/tests/api/openstack/compute/plugins/v3/test_extended_volumes.py',\n",
        "                  'nova/tests/api/openstack/compute/plugins/v3/test_flavor_access.py',\n",
        "                  'nova/tests/api/openstack/compute/plugins/v3/test_keypairs.py',\n",
        "                  'nova/tests/api/openstack/compute/plugins/v3/test_multinic.py',\n",
        "                  'nova/tests/api/openstack/compute/plugins/v3/test_pci.py',\n",
        "                  'nova/tests/api/openstack/compute/plugins/v3/test_server_actions.py',\n",
        "                  'nova/tests/api/openstack/compute/plugins/v3/test_servers.py',\n",
        "                  'nova/tests/api/openstack/compute/plugins/v3/test_shelve.py',\n",
        "                  'nova/tests/api/openstack/compute/test_server_actions.py',\n",
        "                  'nova/tests/api/openstack/compute/test_servers.py',\n",
        "                  'nova/tests/api/openstack/fakes.py',\n",
        "                  'nova/tests/api/openstack/test_xmlutil.py',\n",
        "                  'nova/tests/compute/test_compute.py',\n",
        "                  'nova/tests/compute/test_compute_api.py',\n",
        "                  'nova/tests/compute/test_compute_mgr.py',\n",
        "                  'nova/tests/compute/test_rpcapi.py',\n",
        "                  'nova/tests/conf_fixture.py',\n",
        "                  'nova/tests/db/test_db_api.py',\n",
        "                  'nova/tests/db/test_migrations.py',\n",
        "                  'nova/tests/db/test_sqlite.py',\n",
        "                  'nova/tests/fake_network.py',\n",
        "                  'nova/tests/fake_policy.py',\n",
        "                  'nova/tests/integrated/api_samples/all_extensions/extensions-get-resp.json.tpl',\n",
        "                  'nova/tests/integrated/api_samples/all_extensions/extensions-get-resp.xml.tpl',\n",
        "                  'nova/tests/integrated/test_api_samples.py',\n",
        "                  'nova/tests/integrated/v3/test_pci.py',\n",
        "                  'nova/tests/integrated/v3/test_servers.py',\n",
        "                  'nova/tests/network/test_linux_net.py',\n",
        "                  'nova/tests/network/test_manager.py',\n",
        "                  'nova/tests/network/test_rpcapi.py',\n",
        "                  'nova/tests/objects/test_fields.py',\n",
        "                  'nova/tests/objects/test_instance.py',\n",
        "                  'nova/tests/objects/test_instance_info_cache.py',\n",
        "                  'nova/tests/objects/test_security_group_rule.py',\n",
        "                  'nova/tests/scheduler/test_chance_scheduler.py',\n",
        "                  'nova/tests/scheduler/test_filter_scheduler.py',\n",
        "                  'nova/tests/scheduler/test_rpcapi.py',\n",
        "                  'nova/tests/scheduler/test_scheduler.py',\n",
        "                  'nova/tests/test_api_validation.py',\n",
        "                  'nova/tests/test_utils.py',\n",
        "                  'nova/tests/virt/baremetal/test_driver.py',\n",
        "                  'nova/tests/virt/baremetal/test_nova_baremetal_deploy_helper.py',\n",
        "                  'nova/tests/virt/docker/test_driver.py',\n",
        "                  'nova/tests/virt/docker/test_hostinfo.py',\n",
        "                  'nova/tests/virt/hyperv/db_fakes.py',\n",
        "                  'nova/tests/virt/hyperv/test_hypervapi.py',\n",
        "                  'nova/tests/virt/libvirt/fakelibvirt.py',\n",
        "                  'nova/tests/virt/libvirt/test_imagebackend.py',\n",
        "                  'nova/tests/virt/libvirt/test_imagecache.py',\n",
        "                  'nova/tests/virt/libvirt/test_libvirt.py',\n",
        "                  'nova/tests/virt/libvirt/test_libvirt_blockinfo.py',\n",
        "                  'nova/tests/virt/libvirt/test_libvirt_config.py',\n",
        "                  'nova/tests/virt/libvirt/test_libvirt_utils.py',\n",
        "                  'nova/tests/virt/libvirt/test_libvirt_vif.py',\n",
        "                  'nova/tests/virt/libvirt/test_libvirt_volume.py',\n",
        "                  'nova/tests/virt/test_virt.py',\n",
        "                  'nova/tests/virt/test_virt_drivers.py',\n",
        "                  'nova/tests/virt/vmwareapi/db_fakes.py',\n",
        "                  'nova/tests/virt/vmwareapi/stubs.py',\n",
        "                  'nova/tests/virt/vmwareapi/test_configdrive.py',\n",
        "                  'nova/tests/virt/xenapi/test_driver.py',\n",
        "                  'nova/tests/virt/xenapi/test_vm_utils.py',\n",
        "                  'nova/tests/virt/xenapi/test_vmops.py',\n",
        "                  'nova/tests/virt/xenapi/test_xenapi.py',\n",
        "                  'nova/utils.py',\n",
        "                  'nova/virt/baremetal/db/sqlalchemy/models.py',\n",
        "                  'nova/virt/baremetal/driver.py',\n",
        "                  'nova/virt/baremetal/ipmi.py',\n",
        "                  'nova/virt/baremetal/pxe.py',\n",
        "                  'nova/virt/baremetal/tilera_pdu.py',\n",
        "                  'nova/virt/baremetal/virtual_power_driver.py',\n",
        "                  'nova/virt/baremetal/volume_driver.py',\n",
        "                  'nova/virt/configdrive.py',\n",
        "                  'nova/virt/cpu.py',\n",
        "                  'nova/virt/disk/api.py',\n",
        "                  'nova/virt/disk/mount/nbd.py',\n",
        "                  'nova/virt/docker/driver.py',\n",
        "                  'nova/virt/docker/hostinfo.py',\n",
        "                  'nova/virt/driver.py',\n",
        "                  'nova/virt/fake.py',\n",
        "                  'nova/virt/firewall.py',\n",
        "                  'nova/virt/hyperv/driver.py',\n",
        "                  'nova/virt/hyperv/hostops.py',\n",
        "                  'nova/virt/hyperv/imagecache.py',\n",
        "                  'nova/virt/hyperv/migrationops.py',\n",
        "                  'nova/virt/hyperv/vmops.py',\n",
        "                  'nova/virt/libvirt/config.py',\n",
        "                  'nova/virt/libvirt/driver.py',\n",
        "                  'nova/virt/libvirt/imagebackend.py',\n",
        "                  'nova/virt/libvirt/imagecache.py',\n",
        "                  'nova/virt/libvirt/utils.py',\n",
        "                  'nova/virt/libvirt/volume.py',\n",
        "                  'nova/virt/vmwareapi/driver.py',\n",
        "                  'nova/virt/vmwareapi/error_util.py',\n",
        "                  'nova/virt/vmwareapi/fake.py',\n",
        "                  'nova/virt/vmwareapi/host.py',\n",
        "                  'nova/virt/vmwareapi/vim.py',\n",
        "                  'nova/virt/vmwareapi/vm_util.py',\n",
        "                  'nova/virt/vmwareapi/vmops.py',\n",
        "                  'nova/virt/xenapi/agent.py',\n",
        "                  'nova/virt/xenapi/driver.py',\n",
        "                  'nova/virt/xenapi/fake.py',\n",
        "                  'nova/virt/xenapi/vm_utils.py',\n",
        "                  'nova/virt/xenapi/vmops.py',\n",
        "                  'nova/vnc/__init__.py',\n",
        "                  'nova/volume/cinder.py',\n",
        "                  'nova/wsgi.py',\n",
        "                  'openstack-common.conf',\n",
        "                  'requirements.txt',\n",
        "                  'setup.cfg',\n",
        "                  'tox.ini'],\n",
        "            'r': []},\n",
        "  'msg': u'Merge \"Revert \"Whitelist external netaddr requirement\"\"',\n",
        "  'parents': ['d50bc1d078273700798ce81945d230bb702f5377',\n",
        "              '0311a9ab926dce74a944352a0d861cf89607e733']},\n",
        " {'author': <git.Actor \"Soren Hansen <soren@linux2go.dk>\">,\n",
        "  'cid': '0e3c86dcdc49890eecaa2d1ea64c0012e569682f',\n",
        "  'committer': <git.Actor \"Soren Hansen <soren@linux2go.dk>\">,\n",
        "  'date': 1297976820,\n",
        "  'files': {'a': [], 'd': [], 'm': ['nova/virt/libvirt_conn.py'], 'r': []},\n",
        "  'msg': u\"Use a semaphore to ensure we don't run more than one iptables-restore at a time.\",\n",
        "  'parents': ['c2f585952a67aa0c922d7ec80b387e8617587541']},\n",
        " {'author': <git.Actor \"Cerberus <matt.dietz@rackspace.com>\">,\n",
        "  'cid': '7bb6122549ad5ac549465f0012020f8e5dc9d506',\n",
        "  'committer': <git.Actor \"Cerberus <matt.dietz@rackspace.com>\">,\n",
        "  'date': 1297718768,\n",
        "  'files': {'a': [],\n",
        "            'd': [],\n",
        "            'm': ['nova/compute/manager.py',\n",
        "                  'nova/virt/xenapi/vm_utils.py',\n",
        "                  'nova/virt/xenapi/vmops.py',\n",
        "                  'nova/virt/xenapi_conn.py',\n",
        "                  'plugins/xenserver/xenapi/etc/xapi.d/plugins/migration'],\n",
        "            'r': []},\n",
        "  'msg': u'Some refactoring',\n",
        "  'parents': ['411d828fc3511a09420e579ceee65a9470242509']},\n",
        " {'author': <git.Actor \"Jenkins <jenkins@review.openstack.org>\">,\n",
        "  'cid': '7de1aca7661dc7308c75cc9ded83ce4f7bfa0432',\n",
        "  'committer': <git.Actor \"Gerrit Code Review <review@openstack.org>\">,\n",
        "  'date': 1344885630,\n",
        "  'files': {'a': [],\n",
        "            'd': [],\n",
        "            'm': ['nova/compute/manager.py',\n",
        "                  'nova/db/api.py',\n",
        "                  'nova/db/sqlalchemy/api.py',\n",
        "                  'nova/tests/test_db_api.py',\n",
        "                  'nova/compute/manager.py'],\n",
        "            'r': []},\n",
        "  'msg': u'Merge \"Improve bw_usage_update() performance\"',\n",
        "  'parents': ['e4a7edd17525e0ce4d62021b0e76740d2a02bace',\n",
        "              '7a500ecc8799914e45ca8534a15f81b8823a1d3e']},\n",
        " {'author': <git.Actor \"Jenkins <jenkins@review.openstack.org>\">,\n",
        "  'cid': '1bb49bf4fcba690808ce17a08efe144165bcd904',\n",
        "  'committer': <git.Actor \"Gerrit Code Review <review@openstack.org>\">,\n",
        "  'date': 1357782542,\n",
        "  'files': {"
       ]
      },
      {
       "output_type": "stream",
       "stream": "stdout",
       "text": [
        "'a': ['nova/api/openstack/compute/contrib/networks.py'],\n",
        "            'd': ['doc/api_samples/os-flavor-rxtx/flavor-rxtx-get-resp.json',\n",
        "                  'doc/api_samples/os-flavor-rxtx/flavor-rxtx-get-resp.xml',\n",
        "                  'doc/api_samples/os-flavor-rxtx/flavor-rxtx-list-resp.json',\n",
        "                  'doc/api_samples/os-flavor-rxtx/flavor-rxtx-list-resp.xml',\n",
        "                  'doc/api_samples/os-flavor-rxtx/flavor-rxtx-post-req.json',\n",
        "                  'doc/api_samples/os-flavor-rxtx/flavor-rxtx-post-req.xml',\n",
        "                  'doc/api_samples/os-flavor-rxtx/flavor-rxtx-post-resp.json',\n",
        "                  'doc/api_samples/os-flavor-rxtx/flavor-rxtx-post-resp.xml',\n",
        "                  'doc/api_samples/os-networks/networks-list-res.json',\n",
        "                  'doc/api_samples/os-networks/networks-post-res.json',\n",
        "                  'nova/api/openstack/compute/contrib/admin_networks.py',\n",
        "                  'nova/api/openstack/compute/contrib/os_networks.py',\n",
        "                  'nova/availability_zones.py',\n",
        "                  'nova/db/sqlalchemy/migrate_repo/versions/146_aggregate_zones.py',\n",
        "                  'nova/db/sqlalchemy/migrate_repo/versions/147_no_service_zones.py',\n",
        "                  'nova/db/sqlalchemy/migrate_repo/versions/148_add_instance_actions.py',\n",
        "                  'nova/tests/integrated/api_samples/os-flavor-rxtx/flavor-rxtx-get-resp.json.tpl',\n",
        "                  'nova/tests/integrated/api_samples/os-flavor-rxtx/flavor-rxtx-get-resp.xml.tpl',\n",
        "                  'nova/tests/integrated/api_samples/os-flavor-rxtx/flavor-rxtx-list-resp.json.tpl',\n",
        "                  'nova/tests/integrated/api_samples/os-flavor-rxtx/flavor-rxtx-list-resp.xml.tpl',\n",
        "                  'nova/tests/integrated/api_samples/os-flavor-rxtx/flavor-rxtx-post-req.json.tpl',\n",
        "                  'nova/tests/integrated/api_samples/os-flavor-rxtx/flavor-rxtx-post-req.xml.tpl',\n",
        "                  'nova/tests/integrated/api_samples/os-flavor-rxtx/flavor-rxtx-post-resp.json.tpl',\n",
        "                  'nova/tests/integrated/api_samples/os-flavor-rxtx/flavor-rxtx-post-resp.xml.tpl',\n",
        "                  'nova/tests/integrated/api_samples/os-networks/networks-list-res.json.tpl',\n",
        "                  'nova/tests/integrated/api_samples/os-networks/networks-post-req.json.tpl',\n",
        "                  'nova/tests/integrated/api_samples/os-networks/networks-post-res.json.tpl'],\n",
        "            'm': ['nova/virt/baremetal/driver.py',\n",
        "                  'bin/nova-all',\n",
        "                  'bin/nova-api',\n",
        "                  'bin/nova-cert',\n",
        "                  'bin/nova-compute',\n",
        "                  'bin/nova-console',\n",
        "                  'bin/nova-dhcpbridge',\n",
        "                  'bin/nova-manage',\n",
        "                  'bin/nova-network',\n",
        "                  'bin/nova-scheduler',\n",
        "                  'doc/api_samples/all_extensions/extensions-get-resp.json',\n",
        "                  'doc/api_samples/all_extensions/extensions-get-resp.xml',\n",
        "                  'doc/api_samples/os-aggregates/aggregate-update-post-resp.json',\n",
        "                  'doc/api_samples/os-aggregates/aggregate-update-post-resp.xml',\n",
        "                  'doc/api_samples/os-aggregates/aggregates-add-host-post-resp.json',\n",
        "                  'doc/api_samples/os-aggregates/aggregates-add-host-post-resp.xml',\n",
        "                  'doc/api_samples/os-aggregates/aggregates-get-resp.json',\n",
        "                  'doc/api_samples/os-aggregates/aggregates-get-resp.xml',\n",
        "                  'doc/api_samples/os-aggregates/aggregates-list-get-resp.json',\n",
        "                  'doc/api_samples/os-aggregates/aggregates-list-get-resp.xml',\n",
        "                  'doc/api_samples/os-aggregates/aggregates-metadata-post-resp.json',\n",
        "                  'doc/api_samples/os-aggregates/aggregates-metadata-post-resp.xml',\n",
        "                  'doc/api_samples/os-aggregates/aggregates-remove-host-post-resp.json',\n",
        "                  'doc/api_samples/os-aggregates/aggregates-remove-host-post-resp.xml',\n",
        "                  'doc/api_samples/os-hosts/hosts-list-resp.json',\n",
        "                  'doc/api_samples/os-quota-sets/quotas-show-defaults-get-resp.json',\n",
        "                  'doc/api_samples/os-quota-sets/quotas-show-defaults-get-resp.xml',\n",
        "                  'doc/api_samples/os-quota-sets/quotas-show-get-resp.json',\n",
        "                  'doc/api_samples/os-quota-sets/quotas-show-get-resp.xml',\n",
        "                  'doc/api_samples/os-quota-sets/quotas-update-post-resp.json',\n",
        "                  'doc/api_samples/os-quota-sets/quotas-update-post-resp.xml',\n",
        "                  'nova/api/auth.py',\n",
        "                  'nova/api/ec2/__init__.py',\n",
        "                  'nova/api/ec2/apirequest.py',\n",
        "                  'nova/api/ec2/cloud.py',\n",
        "                  'nova/api/ec2/ec2utils.py',\n",
        "                  'nova/api/openstack/__init__.py',\n",
        "                  'nova/api/openstack/common.py',\n",
        "                  'nova/api/openstack/compute/consoles.py',\n",
        "                  'nova/api/openstack/compute/contrib/admin_actions.py',\n",
        "                  'nova/api/openstack/compute/contrib/agents.py',\n",
        "                  'nova/api/openstack/compute/contrib/aggregates.py',\n",
        "                  'nova/api/openstack/compute/contrib/availability_zone.py',\n",
        "                  'nova/api/openstack/compute/contrib/certificates.py',\n",
        "                  'nova/api/openstack/compute/contrib/cloudpipe.py',\n",
        "                  'nova/api/openstack/compute/contrib/cloudpipe_update.py',\n",
        "                  'nova/api/openstack/compute/contrib/config_drive.py',\n",
        "                  'nova/api/openstack/compute/contrib/coverage_ext.py',\n",
        "                  'nova/api/openstack/compute/contrib/createserverext.py',\n",
        "                  'nova/api/openstack/compute/contrib/deferred_delete.py',\n",
        "                  'nova/api/openstack/compute/contrib/disk_config.py',\n",
        "                  'nova/api/openstack/compute/contrib/extended_status.py',\n",
        "                  'nova/api/openstack/compute/contrib/fixed_ips.py',\n",
        "                  'nova/api/openstack/compute/contrib/flavor_access.py',\n",
        "                  'nova/api/openstack/compute/contrib/flavor_disabled.py',\n",
        "                  'nova/api/openstack/compute/contrib/flavor_rxtx.py',\n",
        "                  'nova/api/openstack/compute/contrib/flavor_swap.py',\n",
        "                  'nova/api/openstack/compute/contrib/flavorextradata.py',\n",
        "                  'nova/api/openstack/compute/contrib/flavorextraspecs.py',\n",
        "                  'nova/api/openstack/compute/contrib/floating_ip_dns.py',\n",
        "                  'nova/api/openstack/compute/contrib/floating_ip_pools.py',\n",
        "                  'nova/api/openstack/compute/contrib/floating_ips.py',\n",
        "                  'nova/api/openstack/compute/contrib/floating_ips_bulk.py',\n",
        "                  'nova/api/openstack/compute/contrib/hosts.py',\n",
        "                  'nova/api/openstack/compute/contrib/hypervisors.py',\n",
        "                  'nova/api/openstack/compute/contrib/instance_usage_audit_log.py',\n",
        "                  'nova/api/openstack/compute/contrib/keypairs.py',\n",
        "                  'nova/api/openstack/compute/contrib/multinic.py',\n",
        "                  'nova/api/openstack/compute/contrib/multiple_create.py',\n",
        "                  'nova/api/openstack/compute/contrib/networks_associate.py',\n",
        "                  'nova/api/openstack/compute/contrib/quota_classes.py',\n",
        "                  'nova/api/openstack/compute/contrib/quotas.py',\n",
        "                  'nova/api/openstack/compute/contrib/rescue.py',\n",
        "                  'nova/api/openstack/compute/contrib/scheduler_hints.py',\n",
        "                  'nova/api/openstack/compute/contrib/security_groups.py',\n",
        "                  'nova/api/openstack/compute/contrib/server_diagnostics.py',\n",
        "                  'nova/api/openstack/compute/contrib/server_start_stop.py',\n",
        "                  'nova/api/openstack/compute/contrib/services.py',\n",
        "                  'nova/api/openstack/compute/contrib/simple_tenant_usage.py',\n",
        "                  'nova/api/openstack/compute/contrib/user_data.py',\n",
        "                  'nova/api/openstack/compute/contrib/virtual_interfaces.py',\n",
        "                  'nova/api/openstack/compute/contrib/volumes.py',\n",
        "                  'nova/api/openstack/compute/image_metadata.py',\n",
        "                  'nova/api/openstack/compute/server_metadata.py',\n",
        "                  'nova/api/openstack/compute/servers.py',\n",
        "                  'nova/api/openstack/compute/views/images.py',\n",
        "                  'nova/api/openstack/wsgi.py',\n",
        "                  'nova/api/validator.py',\n",
        "                  'nova/cert/rpcapi.py',\n",
        "                  'nova/cloudpipe/pipelib.py',\n",
        "                  'nova/compute/__init__.py',\n",
        "                  'nova/compute/api.py',\n",
        "                  'nova/compute/instance_types.py',\n",
        "                  'nova/compute/manager.py',\n",
        "                  'nova/compute/rpcapi.py',\n",
        "                  'nova/compute/utils.py',\n",
        "                  'nova/conductor/api.py',\n",
        "                  'nova/conductor/manager.py',\n",
        "                  'nova/conductor/rpcapi.py',\n",
        "                  'nova/config.py',\n",
        "                  'nova/console/api.py',\n",
        "                  'nova/console/rpcapi.py',\n",
        "                  'nova/db/api.py',\n",
        "                  'nova/db/sqlalchemy/api.py',\n",
        "                  'nova/db/sqlalchemy/models.py',\n",
        "                  'nova/exception.py',\n",
        "                  'nova/image/glance.py',\n",
        "                  'nova/image/s3.py',\n",
        "                  'nova/network/__init__.py',\n",
        "                  'nova/network/api.py',\n",
        "                  'nova/network/dns_driver.py',\n",
        "                  'nova/network/l3.py',\n",
        "                  'nova/network/linux_net.py',\n",
        "                  'nova/network/manager.py',\n",
        "                  'nova/network/model.py',\n",
        "                  'nova/network/noop_dns_driver.py',\n",
        "                  'nova/network/nova_ipam_lib.py',\n",
        "                  'nova/network/quantumv2/api.py',\n",
        "                  'nova/network/rpcapi.py',\n",
        "                  'nova/notifications.py',\n",
        "                  'nova/openstack/common/log.py',\n",
        "                  'nova/openstack/common/rpc/impl_zmq.py',\n",
        "                  'nova/openstack/common/timeutils.py',\n",
        "                  'nova/scheduler/chance.py',\n",
        "                  'nova/scheduler/driver.py',\n",
        "                  'nova/scheduler/filters/availability_zone_filter.py',\n",
        "                  'nova/scheduler/filters/compute_filter.py',\n",
        "                  'nova/scheduler/filters/disk_filter.py',\n",
        "                  'nova/scheduler/filters/io_ops_filter.py',\n",
        "                  'nova/scheduler/filters/json_filter.py',\n",
        "                  'nova/scheduler/filters/num_instances_filter.py',\n",
        "                  'nova/scheduler/filters/ram_filter.py',\n",
        "                  'nova/scheduler/filters/retry_filter.py',\n",
        "                  'nova/scheduler/host_manager.py',\n",
        "                  'nova/scheduler/manager.py',\n",
        "                  'nova/scheduler/rpcapi.py',\n",
        "                  'nova/scheduler/weights/least_cost.py',\n",
        "                  'nova/service.py',\n",
        "                  'nova/servicegroup/db_driver.py',\n",
        "                  'nova/tests/api/ec2/test_cinder_cloud.py',\n",
        "                  'nova/tests/api/ec2/test_cloud.py',\n",
        "                  'nova/tests/api/ec2/test_ec2_validate.py',\n",
        "                  'nova/tests/api/ec2/test_faults.py',\n",
        "                  'nova/tests/api/openstack/common.py',\n",
        "                  'nova/tests/api/openstack/compute/contrib/test_admin_actions.py',\n",
        "                  'nova/tests/api/openstack/compute/contrib/test_aggregates.py',\n",
        "                  'nova/tests/api/openstack/compute/contrib/test_cloudpipe.py',\n",
        "                  'nova/tests/api/openstack/compute/contrib/test_createserverext.py',\n",
        "                  'nova/tests/api/openstack/compute/contrib/test_disk_config.py',\n",
        "                  'nova/tests/api/openstack/compute/contrib/test_hosts.py',\n",
        "                  'nova/tests/api/openstack/compute/contrib/test_networks.py',\n",
        "                  'nova/tests/api/openstack/compute/contrib/test_quota_classes.py',\n",
        "                  'nova/tests/api/openstack/compute/contrib/test_quotas.py',\n",
        "                  'nova/tests/api/openstack/compute/extensions/foxinsocks.py',\n",
        "                  'nova/tests/api/openstack/compute/test_extensions.py',\n",
        "                  'nova/tests/api/openstack/compute/test_flavors.py',\n",
        "                  'nova/tests/api/openstack/compute/test_images.py',\n",
        "                  'nova/tests/api/openstack/compute/test_limits.py',\n",
        "                  'nova/tests/api/openstack/compute/test_server_actions.py',\n",
        "                  'nova/tests/api/openstack/compute/test_servers.py',\n",
        "                  'nova/tests/api/openstack/compute/test_urlmap.py',\n",
        "                  'nova/tests/api/openstack/test_common.py',\n",
        "                  'nova/tests/api/openstack/test_faults.py',\n",
        "                  'nova/tests/api/openstack/test_wsgi.py',\n",
        "                  'nova/tests/api/test_auth.py',\n",
        "                  'nova/tests/cells/fakes.py',\n",
        "                  'nova/tests/cells/test_cells_manager.py',\n",
        "                  'nova/tests/cells/test_cells_scheduler.py',\n",
        "                  'nova/tests/cert/test_rpcapi.py',\n",
        "                  'nova/tests/compute/fake_resource_tracker.py',\n",
        "                  'nova/tests/compute/test_claims.py',\n",
        "                  'nova/tests/compute/test_compute.py',\n",
        "                  'nova/tests/compute/test_compute_utils.py',\n",
        "                  'nova/tests/compute/test_multiple_nodes.py',\n",
        "                  'nova/tests/compute/test_resource_tracker.py',\n",
        "                  'nova/tests/compute/test_rpcapi.py',\n",
        "                  'nova/tests/compute/test_stats.py',\n",
        "                  'nova/tests/conductor/test_conductor.py',\n",
        "                  'nova/tests/console/test_console.py',\n",
        "                  'nova/tests/console/test_rpcapi.py',\n",
        "                  'nova/tests/consoleauth/test_consoleauth.py',\n",
        "                  'nova/tests/db/fakes.py',\n",
        "                  'nova/tests/fake_network.py',\n",
        "                  'nova/tests/fake_policy.py',\n",
        "                  'nova/tests/fake_volume.py',\n",
        "                  'nova/tests/hyperv/hypervutils.py',\n",
        "                  'nova/tests/hyperv/mockproxy.py',\n",
        "                  'nova/tests/image/fake.py',\n",
        "                  'nova/tests/image/test_glance.py',\n",
        "                  'nova/tests/integrated/api_samples/all_extensions/extensions-get-resp.json.tpl',\n",
        "                  'nova/tests/integrated/api_samples/all_extensions/extensions-get-resp.xml.tpl',\n",
        "                  'nova/tests/integrated/api_samples/os-aggregates/aggregate-update-post-resp.json.tpl',\n",
        "                  'nova/tests/integrated/api_samples/os-aggregates/aggregate-update-post-resp.xml.tpl',\n",
        "                  'nova/tests/integrated/api_samples/os-aggregates/aggregates-add-host-post-resp.json.tpl',\n",
        "                  'nova/tests/integrated/api_samples/os-aggregates/aggregates-add-host-post-resp.xml.tpl',\n",
        "                  'nova/tests/integrated/api_samples/os-aggregates/aggregates-get-resp.json.tpl',\n",
        "                  'nova/tests/integrated/api_samples/os-aggregates/aggregates-get-resp.xml.tpl',\n",
        "                  'nova/tests/integrated/api_samples/os-aggregates/aggregates-list-get-resp.json.tpl',\n",
        "                  'nova/tests/integrated/api_samples/os-aggregates/aggregates-list-get-resp.xml.tpl',\n",
        "                  'nova/tests/integrated/api_samples/os-aggregates/aggregates-metadata-post-resp.json.tpl',\n",
        "                  'nova/tests/integrated/api_samples/os-aggregates/aggregates-metadata-post-resp.xml.tpl',\n",
        "                  'nova/tests/integrated/api_samples/os-aggregates/aggregates-remove-host-post-resp.json.tpl',\n",
        "                  'nova/tests/integrated/api_samples/os-aggregates/aggregates-remove-host-post-resp.xml.tpl',\n",
        "                  'nova/tests/integrated/api_samples/os-hosts/hosts-list-resp.json.tpl',\n",
        "                  'nova/tests/integrated/api_samples/os-quota-sets/quotas-show-defaults-get-resp.json.tpl',\n",
        "                  'nova/tests/integrated/api_samples/os-quota-sets/quotas-show-defaults-get-resp.xml.tpl',\n",
        "                  'nova/tests/integrated/api_samples/os-quota-sets/quotas-show-get-resp.json.tpl',\n",
        "                  'nova/tests/integrated/api_samples/os-quota-sets/quotas-show-get-resp.xml.tpl',\n",
        "                  'nova/tests/integrated/api_samples/os-quota-sets/quotas-update-post-resp.json.tpl',\n",
        "                  'nova/tests/integrated/api_samples/os-quota-sets/quotas-update-post-resp.xml.tpl',\n",
        "                  'nova/tests/integrated/test_api_samples.py',\n",
        "                  'nova/tests/integrated/test_extensions.py',\n",
        "                  'nova/tests/integrated/test_login.py',\n",
        "                  'nova/tests/integrated/test_servers.py',\n",
        "                  'nova/tests/integrated/test_xml.py',\n",
        "                  'nova/tests/network/test_api.py',\n",
        "                  'nova/tests/network/test_manager.py',\n",
        "                  'nova/tests/network/test_quantumv2.py',\n",
        "                  'nova/tests/network/test_rpcapi.py',\n",
        "                  'nova/tests/scheduler/fakes.py',\n",
        "                  'nova/tests/scheduler/test_filter_scheduler.py',\n",
        "                  'nova/tests/scheduler/test_host_filters.py',\n",
        "                  'nova/tests/scheduler/test_host_manager.py',\n",
        "                  'nova/tests/scheduler/test_multi_scheduler.py',\n",
        "                  'nova/tests/scheduler/test_rpcapi.py',\n",
        "                  'nova/tests/scheduler/test_scheduler.py',\n",
        "                  'nova/tests/test_api.py',\n",
        "                  'nova/tests/test_bdm.py',\n",
        "                  'nova/tests/test_cinder.py',\n",
        "                  'nova/tests/test_db_api.py',\n",
        "                  'nova/tests/test_filters.py',\n",
        "                  'nova/tests/test_hooks.py',\n",
        "                  'nova/tests/test_hypervapi.py',\n",
        "                  'nova/tests/test_image_utils.py',\n",
        "                  'nova/tests/test_imagecache.py',\n",
        "                  'nova/tests/test_instance_types.py',\n",
        "                  'nova/tests/test_libvirt.py',\n",
        "                  'nova/tests/test_libvirt_utils.py',\n",
        "                  'nova/tests/test_metadata.py',\n",
        "                  'nova/tests/test_migrations.py',\n",
        "                  'nova/tests/test_nova_rootwrap.py',\n",
        "                  'nova/tests/test_objectstore.py',\n",
        "                  'nova/tests/test_plugin_api_extensions.py',\n",
        "                  'nova/tests/test_policy.py',\n",
        "                  'nova/tests/test_powervm.py',\n",
        "                  'nova/tests/test_quota.py',\n",
        "                  'nova/tests/test_service.py',\n",
        "                  'nova/tests/test_test_utils.py',\n",
        "                  'nova/tests/test_utils.py',\n",
        "                  'nova/tests/test_versions.py',\n",
        "                  'nova/tests/test_virt_drivers.py',\n",
        "                  'nova/tests/test_xenapi.py',\n",
        "                  'nova/tests/xenapi/stubs.py',\n",
        "                  'nova/utils.py',\n",
        "                  'nova/virt/baremetal/base.py',\n",
        "                  'nova/virt/baremetal/driver.py',\n",
        "                  'nova/virt/baremetal/ipmi.py',\n",
        "                  'nova/virt/baremetal/volume_driver.py',\n",
        "                  'nova/virt/disk/api.py',\n",
        "                  'nova/virt/disk/mount/api.py',\n",
        "                  'nova/virt/disk/mount/loop.py',\n",
        "                  'nova/virt/disk/mount/nbd.py',\n",
        "                  'nova/virt/driver.py',\n",
        "                  'nova/virt/fake.py',\n",
        "                  'nova/virt/firewall.py',\n",
        "                  'nova/virt/hyperv/basevolumeutils.py',\n",
        "                  'nova/virt/hyperv/driver.py',\n",
        "                  'nova/virt/hyperv/livemigrationops.py',\n",
        "                  'nova/virt/hyperv/vmops.py',\n",
        "                  'nova/virt/hyperv/vmutils.py',\n",
        "                  'nova/virt/hyperv/volumeops.py',\n",
        "                  'nova/virt/hyperv/volumeutils.py',\n",
        "                  'nova/virt/hyperv/volumeutilsV2.py',\n",
        "                  'nova/virt/images.py',\n",
        "                  'nova/virt/libvirt/driver.py',\n",
        "                  'nova/virt/libvirt/firewall.py',\n",
        "                  'nova/virt/libvirt/snapshots.py',\n",
        "                  'nova/virt/libvirt/utils.py',\n",
        "                  'nova/virt/libvirt/vif.py',\n",
        "                  'nova/virt/libvirt/volume.py',\n",
        "                  'nova/virt/libvirt/volume_nfs.py',\n",
        "                  'nova/virt/powervm/driver.py',\n",
        "                  'nova/virt/powervm/operator.py',\n",
        "                  'nova/virt/vmwareapi/driver.py',\n",
        "                  'nova/virt/vmwareapi/vmops.py',\n",
        "                  'nova/virt/xenapi/agent.py',\n",
        "                  'nova/virt/xenapi/driver.py',\n",
        "                  'nova/virt/xenapi/pool.py',\n",
        "                  'nova/virt/xenapi/pool_states.py',\n",
        "                  'nova/virt/xenapi/vif.py',\n",
        "                  'nova/virt/xenapi/vm_utils.py',\n",
        "                  'nova/virt/xenapi/vmops.py',\n",
        "                  'nova/virt/xenapi/volume_utils.py',\n",
        "                  'nova/virt/xenapi/volumeops.py',\n",
        "                  'nova/volume/__init__.py'],\n",
        "            'r': []},\n",
        "  'msg': u'Merge \"Cope better with out of sync bm data.\"',\n",
        "  'parents': ['664ea40ebb0ee29a5fd11effeeed279ddc543f89',\n",
        "              '37293192c6ae7b841ded4fbccd4d5b36cc89fbaa']},\n",
        " {'author': <git.Actor \"Vishvananda Ishaya <vishvananda@yahoo.com>\">,\n",
        "  'cid': '4b5c1b9137f46f811be8f7e55cc540c5898b3369',\n",
        "  'committer': <git.Actor \"Vishvananda Ishaya <vishvananda@yahoo.com>\">,\n",
        "  'date': 1282621159,\n",
        "  'files': {'a': [],\n",
        "            'd': [],\n",
        "            'm': ['nova/auth/manager.py',\n",
        "                  'nova/db/api.py',\n",
        "                  'nova/db/sqlalchemy/api.py',\n",
        "                  'nova/network/service.py',\n",
        "                  'nova/service.py',\n",
        "                  'nova/tests/network_unittest.py'],\n",
        "            'r': []},\n",
        "  'msg': u'fix daemons and move network code',\n",
        "  'parents': ['157ef10b3048f0bb26ce0909d77698ffb37e45df']},\n",
        " {'author': <git.Actor \"Todd Willey <todd@rubidine.com>\">,\n",
        "  'cid': 'a34f3b8d57354dad42c048de939b97a14a93f8fa',\n",
        "  'committer': <git.Actor \"Jesse Andrews <anotherjesse@gmail.com>\">,\n",
        "  'date': 1277071757,\n",
        "  'files': {'a': [], 'd': [], 'm': ['docs/getting.started.rst'], 'r': []},\n",
        "  'msg': u'make a \"Running\" topic instead of having it flow under \"Configuration\".\\n',\n",
        "  'parents': ['e27df0af7b832d2daf8020e09ee26bb9ae3a2455']}]\n"
       ]
      }
     ],
     "prompt_number": 15
    },
    {
     "cell_type": "code",
     "collapsed": false,
     "input": [
      "for v in no_changeid[10]:\n",
      "    pp.pprint(v)"
     ],
     "language": "python",
     "metadata": {},
     "outputs": [
      {
       "output_type": "stream",
       "stream": "stdout",
       "text": [
        "'files'\n",
        "'committer'\n",
        "'cid'\n",
        "'author'\n",
        "'msg'\n",
        "'parents'\n",
        "'date'\n"
       ]
      }
     ],
     "prompt_number": 16
    },
    {
     "cell_type": "code",
     "collapsed": false,
     "input": [],
     "language": "python",
     "metadata": {},
     "outputs": [],
     "prompt_number": 16
    },
    {
     "cell_type": "raw",
     "metadata": {},
     "source": [
      "\"\"\"\n",
      "Sample Commit Message:\n",
      "\n",
      "    storage/posix: Remove special handling of ENOTSUP for [f]setxattr.\n",
      "    Change-Id: I7df7b2263336af0abe5bc91c674f9401aff6c3e0\n",
      "    BUG: 1098794\n",
      "    Signed-off-by: Pranith Kumar K <pkarampu@redhat.com>\n",
      "    Reviewed-on: http://review.gluster.org/7788\n",
      "    Tested-by: Gluster Build System <jenkins@build.gluster.com>\n",
      "    Reviewed-by: Ravishankar N <ravishankar@redhat.com>\n",
      "    Reviewed-by: Niels de Vos <ndevos@redhat.com>\n",
      "    Reviewed-by: Vijay Bellur <vbellur@redhat.com>\n",
      "\"\"\"\n",
      "\n",
      "def old_parse_msg(msg):\n",
      "    ret = {}\n",
      "    \n",
      "    for line in msg.split('\\n'):\n",
      "        if line.startswith('Change-Id:'):\n",
      "            ret['change-id'] = line.split()[1]\n",
      "        elif line.startswith('BUG:'):\n",
      "            ret['bz'] =  line.split()[1]\n",
      "        elif line.startswith('Reviewed-on:'):\n",
      "            ret['review'] =  line.split()[1]\n",
      "    return ret"
     ]
    },
    {
     "cell_type": "raw",
     "metadata": {},
     "source": [
      "def process_commits(repo_name=\"/Users/doug/SW_Dev/nova\", max_count=False):\n",
      "    total_operations = 0\n",
      "    global repo\n",
      "    repo = Repo(repo_name)\n",
      "    #repo = Repo(repo_name, odbt=GitCmdObjectDB)\n",
      "    assert repo.bare == False\n",
      "    global commits\n",
      "    commits = collections.defaultdict(list)\n",
      "    global files\n",
      "    files = collections.defaultdict(list)\n",
      "    \n",
      "    for c in repo.iter_commits('master', max_count=max_count):\n",
      "        cid = c.hexsha\n",
      "        commits[cid] = {'author':c.author, 'date': c.committed_date, 'cid':c.hexsha,\n",
      "                        'committer':c.committer, 'msg':c.message, \n",
      "                        'files':[], 'parents':[p.hexsha for p in c.parents]}\n",
      "        commits[cid].update(parse_msg(c.message))\n",
      "\n",
      "        for p in c.parents:    #iterate through each parent\n",
      "            total_operations += 1\n",
      "            if total_operations % 10 == 0:\n",
      "                print '.',\n",
      "            if total_operations % 100 == 0:\n",
      "                print total_operations,\n",
      "                \n",
      "            parent_cid = p.hexsha\n",
      "            for d in c.diff(p, create_patch=True):\n",
      "                #print '--------------'\n",
      "                commits[cid]['files'].append(parse_diff(cid, parent_cid, d))      \n",
      "    #generate_commit_map()"
     ]
    },
    {
     "cell_type": "raw",
     "metadata": {},
     "source": [
      "def parse_range(r):\n",
      "    parent = r[0] == '-'\n",
      "    vals = r[1:].split(',')\n",
      "    line = int(vals[0])\n",
      "    if len(vals) == 2:\n",
      "        size = int(vals[1])\n",
      "    else:\n",
      "        size = 1\n",
      "        \n",
      "    return {'parent':parent, 'line':line, 'size':size}"
     ]
    },
    {
     "cell_type": "raw",
     "metadata": {},
     "source": [
      "def parse_diff_region(val, blame=False, debug=False):\n",
      "    p_lineno = False        #current parent line number\n",
      "    c_lineno = False        #current child line number\n",
      "    delta = 0               #differences in line counts between child and parent\n",
      "    p_changes = 0           #lines modified in parent\n",
      "    c_changes = 0           #lines modified in child\n",
      "    lineno_map = []         # [ ... (child_lineno, parent_lineno) ]\n",
      "    changelog = []          # [ ... {characterization of change} ... ]\n",
      "    \n",
      "    for line in val.split('\\n'):\n",
      "        if line.startswith('@@') and line.count('@@') >= 2:   #process diff region header\n",
      "            #print line\n",
      "            range_spec,line = line[2:].split('@@', 1)\n",
      "            for v in [parse_range(r) for r in range_spec.split()]:\n",
      "                if v['parent']:\n",
      "                    p_lineno = v['line']\n",
      "                else:\n",
      "                    c_lineno = v['line']\n",
      "            lineno_map.append((c_lineno, p_lineno))\n",
      "            #if not line:\n",
      "            #    continue\n",
      "            continue\n",
      "                \n",
      "        #now process individual lines within diff region        \n",
      "        if line.startswith(' '):\n",
      "            if delta != 0:    #    clean-up from last change\n",
      "                changelog.append({'start': c_lineno - c_changes,\n",
      "                                  'parent_start': p_lineno - p_changes, \n",
      "                                  'additions':c_changes, 'deletions': p_changes, 'delta': delta})\n",
      "                lineno_map.append((c_lineno, p_lineno))\n",
      "                pass\n",
      "            if (p_lineno-1) < 0 or (p_lineno-1) >= len(blame):\n",
      "                print 'invalid p_lineno:', p_lineno, len(blame)\n",
      "            if debug or not (line.strip() == blame[p_lineno-1]['text'].strip()):\n",
      "                pprint(line.strip())\n",
      "                pprint(blame[p_lineno-1]['text'].strip())\n",
      "                print c_lineno-1, p_lineno-1, line\n",
      "                print 'blame--:', blame[p_lineno-1]['lineno'],blame[p_lineno-1]['text']\n",
      "                print\n",
      "            delta = 0\n",
      "            p_changes = 0\n",
      "            c_changes = 0\n",
      "            p_lineno += 1\n",
      "            c_lineno += 1\n",
      "            continue\n",
      "        if line.startswith('+'):  #child\n",
      "            if debug:\n",
      "                print c_lineno-1, line[1:]\n",
      "                print\n",
      "            c_changes += 1\n",
      "            delta += 1\n",
      "            c_lineno += 1\n",
      "            continue\n",
      "        if line.startswith('-'):  #parent\n",
      "            if debug or not (line[1:].strip() == blame[p_lineno-1]['text'].strip()):\n",
      "                pprint(line.strip())\n",
      "                pprint(blame[p_lineno-1]['text'].strip())\n",
      "                print p_lineno-1, line[1:]\n",
      "                print 'blame--:', blame[p_lineno-1]['lineno'],blame[p_lineno-1]['text']\n",
      "                print\n",
      "            p_changes += 1\n",
      "            delta -= 1\n",
      "            p_lineno += 1\n",
      "            continue\n",
      "    if delta != 0:    #    clean-up from last change\n",
      "        lineno_map.append((c_lineno, p_lineno))\n",
      "        changelog.append({'start': c_lineno - c_changes,\n",
      "                          'parent_start': p_lineno - p_changes, \n",
      "                          'additions':c_changes, 'deletions': p_changes, 'delta': delta})\n",
      "            \n",
      "    return changelog, lineno_map"
     ]
    },
    {
     "cell_type": "raw",
     "metadata": {},
     "source": [
      "def parse_diff(cid, parent_cid, diff):\n",
      "    global files\n",
      "    lineno_map = []         # [ ... (child_lineno, parent_lineno) ]\n",
      "    changelog = []          # [ ... {characterization of change} ... ]\n",
      "    \n",
      "    #print '.', \n",
      "    \n",
      "    #skip diff analysis with prior file is non-existant\n",
      "    if not diff.b_blob or (diff.b_blob.hexsha == '0000000000000000000000000000000000000000'):\n",
      "        return False\n",
      "\n",
      "    try:\n",
      "        if diff.a_blob and not (diff.a_blob.hexsha == '0000000000000000000000000000000000000000'):\n",
      "            prior_text = diff.a_blob.data_stream.read().split('\\n')\n",
      "        else:\n",
      "            prior_text = False\n",
      "    except BadObject:\n",
      "        prior_text = False\n",
      "        \n",
      "    try:\n",
      "        if diff.b_blob and not (diff.b_blob.hexsha == '0000000000000000000000000000000000000000'):\n",
      "            current_text = diff.b_blob.data_stream.read().split('\\n')\n",
      "        else:\n",
      "            current_text = False\n",
      "    except BadObject:\n",
      "        current_text = False\n",
      "    \n",
      "    val = diff.diff\n",
      "    if not val:\n",
      "        return False\n",
      "    chunks = val.split('\\n@@')\n",
      "    \n",
      "    #process headers\n",
      "    fname = False           #hack to fix scope\n",
      "    fname_prev = False\n",
      "    for line in chunks[0].split('\\n'):\n",
      "        if line.startswith('--- a/'):\n",
      "            fname_prev = line.split()[1][2:]\n",
      "        elif line.startswith('+++ b/'):\n",
      "            fname = line.split()[1][2:]\n",
      "\n",
      "    \"\"\"         \n",
      "    #compute blame related to parrent commit\n",
      "    if fname_prev:\n",
      "        blame = get_blame(parent_cid, fname_prev)\n",
      "    else:\n",
      "        blame = False\n",
      "    \"\"\"\n",
      "        \n",
      "    #compute blame related to parent commit\n",
      "    if fname:\n",
      "        blame = get_blame(cid, fname)\n",
      "        if not blame:\n",
      "            return False    #skip if no associated blame\n",
      "    else:\n",
      "        return False\n",
      "        \n",
      "    #\n",
      "    # Validate Blame\n",
      "    #\n",
      "    if False: \n",
      "        for i in range(0, len(blame)):\n",
      "            print 'p:', prior_text[i]\n",
      "            print 'c:', current_text[i]\n",
      "            print 'b:', blame[i]['text']\n",
      "            print\n",
      "        \n",
      "  \n",
      "    #process difference regions\n",
      "    for diff_region_text in chunks[1:]:\n",
      "        c, l = parse_diff_region('@@'+diff_region_text, blame)\n",
      "        lineno_map += l\n",
      "        changelog += c\n",
      "            \n",
      "    entry = {'commit':cid, 'new':diff.new_file, 'renamed':diff.rename_from, 'deleted':diff.deleted_file,\n",
      "             'changelog':changelog, 'map':lineno_map}\n",
      "\n",
      "    if entry['deleted']:\n",
      "        fname = fname_prev\n",
      "    elif diff.renamed:\n",
      "        pass\n",
      "    elif not fname and not fname_prev:\n",
      "        if diff.diff.startswith('Binary files /dev/null and b/'):\n",
      "            return False\n",
      "        print 'RENAME -- from:', diff.rename_from, 'to:', diff.rename_to, 'flag:', diff.renamed\n",
      "        if diff.diff:\n",
      "            print 'DIFF:'\n",
      "            print diff.diff\n",
      "        else:\n",
      "            print 'DIFF empty'\n",
      "        print 'Unexpected diff format for ', cid\n",
      "        #raise Exception('Unexpected diff format')\n",
      "    elif not fname:\n",
      "        print 'Unexpected diff format for ', cid\n",
      "        pprint(entry)\n",
      "        print 'DIFF:'\n",
      "        print diff.diff\n",
      "        #raise Exception('Unexpected diff format')\n",
      "        \n",
      "    idx = len(files[fname])\n",
      "    files[fname].append(entry)\n",
      "    \n",
      "    return [fname, idx]"
     ]
    },
    {
     "cell_type": "raw",
     "metadata": {},
     "source": [
      "#note:  this version not current\n",
      "\n",
      "def zget_blame(cid, path, repo_dir = '/Users/doug/SW_Dev/nova'):\n",
      "    result = []\n",
      "    entry = {}\n",
      "    first = True      # identifies first line in each porcelin group\n",
      "    cmd = 'cd ' + repo_dir\n",
      "    #cmd += ' ; ' + 'git reset --soft ' + cid\n",
      "    #cmd += ' ; ' + 'git blame --line-porcelain ' + path\n",
      "    cmd += ' ; ' + 'git blame --line-porcelain ' + cid + ' -- ' + path\n",
      "\n",
      "    with os.popen(cmd) as f:\n",
      "        for line in f:\n",
      "            #print line\n",
      "            #print '---------------------------'\n",
      "            if first:\n",
      "                line = line[:-1]    #strip newline\n",
      "                v = line.split(' ')\n",
      "                entry['commit'] = v[0]\n",
      "                entry['orig_lineno'] = v[1]\n",
      "                entry['lineno'] = v[2]\n",
      "                #print 'first: ', v\n",
      "                first = False\n",
      "            elif line[0] == '\\t':\n",
      "                #print entry['lineno']\n",
      "                entry['text'] = line[1:].strip()\n",
      "                \n",
      "                result.append(entry)\n",
      "                entry = {}\n",
      "                first = True\n",
      "            else:\n",
      "                try:\n",
      "                    k, v = line.split(' ', 1)\n",
      "                    v = v[:-1]\n",
      "                    #print k, v\n",
      "                    entry[k] = v\n",
      "                except Exception, e:\n",
      "                    pass\n",
      "    if len(result) == 0:\n",
      "        #print\n",
      "        #print 'Warning -- Empty Blame for ', cid, path\n",
      "        #with os.popen(cmd) as f:\n",
      "        #    for line in f:\n",
      "        #        print line\n",
      "        return False\n",
      "    return result"
     ]
    },
    {
     "cell_type": "raw",
     "metadata": {},
     "source": [
      "def old_compute_all_blame(bug_fix_commits, start = 0, limit = 10000, suffix = '0',\n",
      "              keep = set(['lineno', 'orig_lineno', 'commit', 'text'])):\n",
      "    #global bug_fix_commits\n",
      "    global commits\n",
      "    global commit_details\n",
      "    progress = 0\n",
      "    all_blame = {}\n",
      "    for cid in bug_fix_commits[start:start+limit]:\n",
      "        blame_set = {}\n",
      "        for fname in commits[cid]['files']['m']:\n",
      "            file_blames = []\n",
      "            blame_values =get_blame(cid, fname)\n",
      "            if blame_values:\n",
      "                for line_blame in get_blame(cid, fname):\n",
      "                   #pp.pprint(line_blame)\n",
      "                    commit = line_blame['commit']\n",
      "                \n",
      "                    compressed = dict([[k, v] for k, v in line_blame.items()\n",
      "                                       if k in keep])\n",
      "                \n",
      "                    if commit not in commit_details:\n",
      "                        for k in keep:\n",
      "                            del line_blame[k]\n",
      "                            line_blame['commit'] = commit\n",
      "                        commit_details[commit] = line_blame\n",
      "                    #print\n",
      "                    #pp.pprint(compressed)\n",
      "                \n",
      "                    #raise Exception\n",
      "                    file_blames.append(compressed)\n",
      "            \n",
      "            blame_set[fname] = file_blames\n",
      "        \n",
      "            progress += 1\n",
      "            if progress % 100 == 0:\n",
      "                print '.',\n",
      "            if progress % 1000 == 0:\n",
      "                print progress\n",
      "\n",
      "        all_blame[cid] = blame_set\n",
      "    pdump(all_blame, 'all_blame_'+suffix+'.pkl')\n",
      "    pdump(commit_details, 'commit_details_'+suffix+'.pkl')\n",
      "    return all_blame"
     ]
    }
   ],
   "metadata": {}
  }
 ]
}