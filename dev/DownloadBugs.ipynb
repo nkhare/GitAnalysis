{
 "metadata": {
  "name": "",
  "signature": "sha256:c82fc6ac8d70dfd57837c4690de9a129058681ac5c2cc1a9bc42a62efc64b9fe"
 },
 "nbformat": 3,
 "nbformat_minor": 0,
 "worksheets": [
  {
   "cells": [
    {
     "cell_type": "markdown",
     "metadata": {},
     "source": [
      "#Code to download a set of bugs from Launchpad for a given project\n",
      "\n",
      "depends on lp_fetch_object(obj) contined in lp_dloadload_object"
     ]
    },
    {
     "cell_type": "heading",
     "level": 2,
     "metadata": {},
     "source": [
      "Includes"
     ]
    },
    {
     "cell_type": "code",
     "collapsed": false,
     "input": [
      "from launchpadlib.launchpad import Launchpad\n",
      "import pprint as pp\n",
      "import httplib2\n",
      "#httplib2.debuglevel = 1\n",
      "#import cPickle as pickle\n",
      "import pickle"
     ],
     "language": "python",
     "metadata": {},
     "outputs": [],
     "prompt_number": 1
    },
    {
     "cell_type": "heading",
     "level": 2,
     "metadata": {},
     "source": [
      "Globals"
     ]
    },
    {
     "cell_type": "code",
     "collapsed": false,
     "input": [
      "cachedir = \"/Users/doug/ipython/launchpad/cache/\"\n",
      "lp = Launchpad.login_anonymously('just testing', 'production', cachedir)"
     ],
     "language": "python",
     "metadata": {},
     "outputs": [],
     "prompt_number": 2
    },
    {
     "cell_type": "code",
     "collapsed": false,
     "input": [
      "lp_excludes = pickle.load(open( \"lp_excludes.p\", \"rb\" ) )"
     ],
     "language": "python",
     "metadata": {},
     "outputs": [],
     "prompt_number": 3
    },
    {
     "cell_type": "code",
     "collapsed": false,
     "input": [
      "ALL_BUGS = {}"
     ],
     "language": "python",
     "metadata": {},
     "outputs": [],
     "prompt_number": 4
    },
    {
     "cell_type": "heading",
     "level": 2,
     "metadata": {},
     "source": [
      "Code"
     ]
    },
    {
     "cell_type": "code",
     "collapsed": false,
     "input": [
      "def lp_fetch_object(obj, \n",
      "                    exclude=[], \n",
      "                    include=['lp_attributes','lp_entries','lp_collections'],\n",
      "                    debug=False):\n",
      "    global lp_excludes\n",
      "    if not exclude:\n",
      "        resource_type_link = obj.resource_type_link\n",
      "        if resource_type_link in lp_excludes:\n",
      "            #print 'found'\n",
      "            exclude = lp_excludes[resource_type_link]\n",
      "        elif debug:\n",
      "            print 'Exclusion list not found for:', resource_type_link\n",
      "    result = {}\n",
      "    result['resource_type'] = obj.resource_type_link.split('/')[-1]\n",
      "    \n",
      "    if 'lp_attributes' in include:\n",
      "        for name in obj.lp_attributes:\n",
      "            if name not in exclude:\n",
      "                #print 'Fetching', name\n",
      "                try:\n",
      "                    if name.startswith(\"date_\"):\n",
      "                        result[name] = str(getattr(obj, name))\n",
      "                    else:\n",
      "                        result[name] = getattr(obj, name)\n",
      "                except Exception, e:\n",
      "                    pass\n",
      "            elif debug:\n",
      "                print 'Skipping', name\n",
      "                pass\n",
      "                \n",
      "    if 'lp_entries' in include:\n",
      "        for name in obj.lp_entries:\n",
      "            if name not in exclude:\n",
      "                try:\n",
      "                    if name.startswith(\"date_\"):\n",
      "                        result[name] = str(getattr(obj, name))\n",
      "                    else:\n",
      "                        result[name] = getattr(obj, name)\n",
      "                except Exception, e:\n",
      "                    pass\n",
      "            elif debug:\n",
      "                print 'Skipping', name\n",
      "                pass\n",
      "                \n",
      "    if 'lp_collections' in include:\n",
      "        for name in obj.lp_collections:\n",
      "            if name not in exclude:\n",
      "                try:\n",
      "                    result[name] = [x for x in getattr(obj, name)]\n",
      "                except Exception, e:\n",
      "                    pass\n",
      "            elif debug:\n",
      "                print 'Skipping', name\n",
      "                pass\n",
      "        \n",
      "    return result"
     ],
     "language": "python",
     "metadata": {},
     "outputs": [],
     "prompt_number": 5
    },
    {
     "cell_type": "code",
     "collapsed": false,
     "input": [
      "#adds bug entry to ALL_BUGS unless already present\n",
      "def fetch_bug(bugno):\n",
      "    global ALL_BUGS\n",
      "    if bugno in ALL_BUGS:\n",
      "        return\n",
      "    bug = lp_fetch_object(lp.bugs[bugno])\n",
      "    #now fetch associated messages\n",
      "    bug['messages'] = [lp_fetch_object(msg) for msg in bug['messages']]\n",
      "    \n",
      "    ALL_BUGS[bugno] = bug"
     ],
     "language": "python",
     "metadata": {},
     "outputs": [],
     "prompt_number": 6
    },
    {
     "cell_type": "raw",
     "metadata": {},
     "source": [
      "#test code for above\n",
      "fetch_bug('653344')\n",
      "pp.pprint(ALL_BUGS)"
     ]
    },
    {
     "cell_type": "code",
     "collapsed": false,
     "input": [
      "def fetch_all_bugs(project_name, limit=-1):\n",
      "    global ALL_BUGS\n",
      "    ALL_BUGS = {}\n",
      "    \n",
      "    project = lp.distributions[project_name]\n",
      "    bug_tasks = project.searchTasks(status = ['Confirmed', 'In Progress',\n",
      "                                              'Fix Committed', 'Fix Released'])\n",
      "    \n",
      "    for bt in bug_tasks:\n",
      "        bt_obj = lp_fetch_object(bt)\n",
      "        #pp.pprint(bt_obj)\n",
      "        bugno = str(bt_obj['bug']).split('/')[-1]\n",
      "        print bugno\n",
      "        fetch_bug(bugno)\n",
      "        \n",
      "        limit -= 1\n",
      "        if limit == 0:\n",
      "            return\n",
      "    "
     ],
     "language": "python",
     "metadata": {},
     "outputs": [],
     "prompt_number": 7
    },
    {
     "cell_type": "raw",
     "metadata": {},
     "source": [
      "#debug\n",
      "fetch_all_bugs('nova', limit=10)\n",
      "pp.pprint(ALL_BUGS)"
     ]
    },
    {
     "cell_type": "code",
     "collapsed": false,
     "input": [
      "def pickle_clean(foo):\n",
      "    if type(foo) == list:\n",
      "        return [pickle_clean(i) for i in foo]\n",
      "    elif type(foo) == dict:\n",
      "        result = {}\n",
      "        for k, v in foo.items():\n",
      "            result[k] = pickle_clean(v)\n",
      "        return result\n",
      "    elif type(foo) == set:\n",
      "        return set([pickle_clean(i) for i in foo])\n",
      "    elif type(foo) == unicode:\n",
      "        return foo\n",
      "    else:\n",
      "        return str(foo)"
     ],
     "language": "python",
     "metadata": {},
     "outputs": [],
     "prompt_number": 8
    },
    {
     "cell_type": "heading",
     "level": 1,
     "metadata": {},
     "source": [
      "Top Level"
     ]
    },
    {
     "cell_type": "code",
     "collapsed": false,
     "input": [
      "fetch_all_bugs('nova')"
     ],
     "language": "python",
     "metadata": {},
     "outputs": []
    },
    {
     "cell_type": "code",
     "collapsed": false,
     "input": [
      "#clean-up for pickling\n",
      "for k in ALL_BUGS.keys():\n",
      "    del ALL_BUGS[k]['bug_tasks']\n",
      "    del ALL_BUGS[k]['owner']\n",
      "    #ALL_BUGS[k]['bug_tasks'] = str(ALL_BUGS[k]['bug_tasks'])\n",
      "    #ALL_BUGS[k]['owner'] = str(ALL_BUGS[k]['owner'])"
     ],
     "language": "python",
     "metadata": {},
     "outputs": [],
     "prompt_number": 10
    },
    {
     "cell_type": "code",
     "collapsed": false,
     "input": [
      "pickle.dump(pickle_clean(ALL_BUGS), open( \"lp_nova_bugs.p\", \"wb\" ) )"
     ],
     "language": "python",
     "metadata": {},
     "outputs": [],
     "prompt_number": 11
    },
    {
     "cell_type": "raw",
     "metadata": {},
     "source": [
      "pp.pprint(ALL_BUGS)"
     ]
    },
    {
     "cell_type": "code",
     "collapsed": false,
     "input": [
      "len(ALL_BUGS)"
     ],
     "language": "python",
     "metadata": {},
     "outputs": [
      {
       "metadata": {},
       "output_type": "pyout",
       "prompt_number": 12,
       "text": [
        "5734"
       ]
      }
     ],
     "prompt_number": 12
    },
    {
     "cell_type": "code",
     "collapsed": false,
     "input": [
      "project = lp.distributions['nova']\n",
      "bug_tasks = project.searchTasks(status = ['Confirmed', 'In Progress',\n",
      "                                              'Fix Committed', 'Fix Released'])\n",
      "print len(bug_tasks)"
     ],
     "language": "python",
     "metadata": {},
     "outputs": [
      {
       "output_type": "stream",
       "stream": "stdout",
       "text": [
        "5930\n"
       ]
      }
     ],
     "prompt_number": 14
    },
    {
     "cell_type": "code",
     "collapsed": false,
     "input": [
      "pp.pprint(ALL_BUGS.items()[0])\n",
      "print\n",
      "print\n",
      "print\n",
      "pp.pprint(ALL_BUGS.items()[-1])"
     ],
     "language": "python",
     "metadata": {},
     "outputs": [
      {
       "output_type": "stream",
       "stream": "stdout",
       "text": [
        "('681600',\n",
        " {'activity': [],\n",
        "  'attachments': [],\n",
        "  'cves': [],\n",
        "  'date_created': '2010-11-25 21:42:23.337831+00:00',\n",
        "  'description': u'I get this with current trunk (r422):\\n\\n[2010-11-25 22:07:54] soren@lenny:~$ euca-describe-images\\nTypeError: index() takes exactly 2 arguments (3 given)\\n\\nnova.api.ec2.cloud.CloudController.describe_images calls nova.image.s3.S3Service.index(context, image_id). nova.image.s3.S3Service.index() only takes a context argument.\\n\\nThis really ought to have been caught by unit tests :(',\n",
        "  'duplicate_of': None,\n",
        "  'heat': 8,\n",
        "  'id': 681600,\n",
        "  'information_type': u'Public',\n",
        "  'message_count': 3,\n",
        "  'messages': [{'bug_attachments': [],\n",
        "                'content': u'I get this with current trunk (r422):\\n\\n[2010-11-25 22:07:54] soren@lenny:~$ euca-describe-images\\nTypeError: index() takes exactly 2 arguments (3 given)\\n\\nnova.api.ec2.cloud.CloudController.describe_images calls nova.image.s3.S3Service.index(context, image_id). nova.image.s3.S3Service.index() only takes a context argument.\\n\\nThis really ought to have been caught by unit tests :(',\n",
        "                'date_created': '2010-11-25 21:42:23.337831+00:00',\n",
        "                'resource_type': u'#message',\n",
        "                'self_link': u'https://api.launchpad.net/1.0/nova/+bug/681600/comments/0',\n",
        "                'subject': u'DescribeImages without image_id argument broken'},\n",
        "               {'bug_attachments': [],\n",
        "                'content': u'Hello all, my first post here.\\n\\nI got same message on current trunk (r423), Ubuntu 10.10 server x64_86. and through proxy server.\\nrequired to set http_proxy, HTTPS_PROXY and not set no_proxy for bzr commands, and all unset for euca* commands.\\n\\nnova-api console.\\n\\nDEBUG:api:action: DescribeImages\\nDEBUG:api:arg: Owner.1    val: self\\nERROR:root:TypeError: index() takes exactly 2 arguments (3 given)\\n127.0.0.1 - - [26/Nov/2010 13:28:58] \"GET /services/Cloud/?AWSAccessKeyId ....\\n\\n\\n\\n',\n",
        "                'date_created': '2010-11-26 04:39:05.266849+00:00',\n",
        "                'resource_type': u'#message',\n",
        "                'self_link': u'https://api.launchpad.net/1.0/nova/+bug/681600/comments/1',\n",
        "                'subject': u'Re: DescribeImages without image_id argument broken'},\n",
        "               {'bug_attachments': [],\n",
        "                'content': u'2010/11/26 Launchpad Bug Tracker <email address hidden>:\\n> ** Branch linked: lp:~soren/nova/lp681600\\n\\nStill some testing to do..\\n\\n-- \\nSoren Hansen\\nUbuntu Developer \\xa0 \\xa0http://www.ubuntu.com/\\nOpenStack Developer http://www.openstack.org/',\n",
        "                'date_created': '2010-11-26 22:50:51+00:00',\n",
        "                'resource_type': u'#message',\n",
        "                'self_link': u'https://api.launchpad.net/1.0/nova/+bug/681600/comments/2',\n",
        "                'subject': u'Re: [Bug 681600] Re: DescribeImages without image_id argument broken'}],\n",
        "  'name': None,\n",
        "  'resource_type': u'#bug',\n",
        "  'security_related': False,\n",
        "  'self_link': u'https://api.launchpad.net/1.0/bugs/681600',\n",
        "  'tags': [],\n",
        "  'title': u'DescribeImages without image_id argument broken'})\n",
        "\n",
        "\n",
        "\n",
        "('1085771',\n",
        " {'activity': [],\n",
        "  'attachments': [],\n",
        "  'cves': [],\n",
        "  'date_created': '2012-12-03 02:46:37.241603+00:00',\n",
        "  'description': u'my environmont:\\n  centos5.4  + libvirt + xen\\n\\nbecause nova.log show:\\n  Instance shutdown by itself. Calling the stop API\\n\\nthus, i think that nova stop my instance by itself when vm_state is difference from  power_state ,however this situation is often  occurred in the night and nobody login in this instance or run additional program',\n",
        "  'duplicate_of': None,\n",
        "  'heat': 6,\n",
        "  'id': 1085771,\n",
        "  'information_type': u'Public',\n",
        "  'message_count': 8,\n",
        "  'messages': [{'bug_attachments': [],\n",
        "                'content': u'my environmont:\\n  centos5.4  + libvirt + xen\\n\\nbecause nova.log show:\\n  Instance shutdown by itself. Calling the stop API\\n\\nthus, i think that nova stop my instance by itself when vm_state is difference from  power_state ,however this situation is often  occurred in the night and nobody login in this instance or run additional program',\n",
        "                'date_created': '2012-12-03 02:46:37.241603+00:00',\n",
        "                'resource_type': u'#message',\n",
        "                'self_link': u'https://api.launchpad.net/1.0/nova/+bug/1085771/comments/0',\n",
        "                'subject': u'Instance is sometimes shutdown without any operation and report the message \"Instance shutdown by itself. Calling the stop API\"'},\n",
        "               {'bug_attachments': [],\n",
        "                'content': u'What version of OpenStack are you running?',\n",
        "                'date_created': '2012-12-04 09:47:38.634180+00:00',\n",
        "                'resource_type': u'#message',\n",
        "                'self_link': u'https://api.launchpad.net/1.0/nova/+bug/1085771/comments/1',\n",
        "                'subject': u'Re: Instance is sometimes shutdown without any operation and report the message \"Instance shutdown by itself. Calling the stop API\"'},\n",
        "               {'bug_attachments': [],\n",
        "                'content': u'Fix proposed to branch: master\\nReview: https://review.openstack.org/17449',\n",
        "                'date_created': '2012-12-04 10:31:08.109936+00:00',\n",
        "                'resource_type': u'#message',\n",
        "                'self_link': u'https://api.launchpad.net/1.0/nova/+bug/1085771/comments/2',\n",
        "                'subject': u'Fix proposed to nova (master)'},\n",
        "               {'bug_attachments': [],\n",
        "                'content': u'Reviewed:  https://review.openstack.org/17449\\nCommitted: http://github.com/openstack/nova/commit/95e7770399a74e99f3dcad777186ee4f58e4e206\\nSubmitter: Jenkins\\nBranch:    master\\n\\ncommit 95e7770399a74e99f3dcad777186ee4f58e4e206\\nAuthor: zhoudongshu <email address hidden>\\nDate:   Tue Dec 4 18:04:29 2012 +0800\\n\\n    Avoid vm instance shutdown when power state is NOSTATE\\n    \\n    Occasionally when nova uses libvirt lib to query hypervisor\\n    xen the instance state of vm_power_state may end up\\n    with a NOSTATE value. Existing code shuts down the instance\\n    when we hit this state. Remove the check for NOSTATE\\n    to avoid shutting down the instance.\\n    \\n    Fixes LP #1085771.\\n    \\n    Change-Id: I0025f6800b6ca9cd3d7c7e6119b9a819571bd13c\\n',\n",
        "                'date_created': '2012-12-08 08:25:16.953792+00:00',\n",
        "                'resource_type': u'#message',\n",
        "                'self_link': u'https://api.launchpad.net/1.0/nova/+bug/1085771/comments/3',\n",
        "                'subject': u'Fix merged to nova (master)'},\n",
        "               {'bug_attachments': [],\n",
        "                'content': u'Fix proposed to branch: master\\nReview: https://review.openstack.org/21516',\n",
        "                'date_created': '2013-02-08 13:49:08.111326+00:00',\n",
        "                'resource_type': u'#message',\n",
        "                'self_link': u'https://api.launchpad.net/1.0/nova/+bug/1085771/comments/4',\n",
        "                'subject': u'Fix proposed to nova (master)'},\n",
        "               {'bug_attachments': [],\n",
        "                'content': u'Reviewed:  https://review.openstack.org/21516\\nCommitted: http://github.com/openstack/nova/commit/ad101ce5bac1af60adeeb5be12ec30fbd00a624e\\nSubmitter: Jenkins\\nBranch:    master\\n\\ncommit ad101ce5bac1af60adeeb5be12ec30fbd00a624e\\nAuthor: P\\xe1draig Brady <email address hidden>\\nDate:   Fri Feb 8 13:45:14 2013 +0000\\n\\n    fix VM power state to be NOSTATE when instance not found\\n    \\n    * nova/compute/manager.py (_sync_power_states): Revert what looks\\n    like an inadvertent change that was part of commit 95e77703.\\n    Also log the condition.\\n    \\n    Fixes bug: 1085771\\n    Change-Id: Ic6eeb9207323f05b93f0b613bd1bddd681ad8ce5\\n',\n",
        "                'date_created': '2013-02-10 00:26:30.105281+00:00',\n",
        "                'resource_type': u'#message',\n",
        "                'self_link': u'https://api.launchpad.net/1.0/nova/+bug/1085771/comments/5',\n",
        "                'subject': u'Fix merged to nova (master)'},\n",
        "               {'bug_attachments': [],\n",
        "                'content': u'Fix proposed to branch: stable/folsom\\nReview: https://review.openstack.org/22563',\n",
        "                'date_created': '2013-02-21 16:35:06.257339+00:00',\n",
        "                'resource_type': u'#message',\n",
        "                'self_link': u'https://api.launchpad.net/1.0/nova/+bug/1085771/comments/6',\n",
        "                'subject': u'Fix proposed to nova (stable/folsom)'},\n",
        "               {'bug_attachments': [],\n",
        "                'content': u'Reviewed:  https://review.openstack.org/22563\\nCommitted: http://github.com/openstack/nova/commit/cb843f7a948122c55fbe244458bb44b2f68eedb9\\nSubmitter: Jenkins\\nBranch:    stable/folsom\\n\\ncommit cb843f7a948122c55fbe244458bb44b2f68eedb9\\nAuthor: P\\xe1draig Brady <email address hidden>\\nDate:   Thu Feb 21 16:17:13 2013 +0000\\n\\n    Avoid vm instance shutdown when power state is NOSTATE\\n    \\n    * nova/compute/manager.py (_sync_power_states): Log the condition\\n    where we can retrieve the state from the hyperviser, rather than\\n    stopping the VM.\\n    \\n    Related grizzly commits are 95e77703 and ad101ce5\\n    \\n    Fixes bug: 1085771\\n    Change-Id: I5fb9fdc6bcde729c00c4931960ed0de3b8fa189d\\n',\n",
        "                'date_created': '2013-03-08 13:57:57.121180+00:00',\n",
        "                'resource_type': u'#message',\n",
        "                'self_link': u'https://api.launchpad.net/1.0/nova/+bug/1085771/comments/7',\n",
        "                'subject': u'Fix merged to nova (stable/folsom)'}],\n",
        "  'name': None,\n",
        "  'resource_type': u'#bug',\n",
        "  'security_related': False,\n",
        "  'self_link': u'https://api.launchpad.net/1.0/bugs/1085771',\n",
        "  'tags': [],\n",
        "  'title': u'Instance is sometimes shutdown without any operation and report the message \"Instance shutdown by itself. Calling the stop API\"'})\n"
       ]
      }
     ],
     "prompt_number": 16
    },
    {
     "cell_type": "code",
     "collapsed": false,
     "input": [],
     "language": "python",
     "metadata": {},
     "outputs": []
    },
    {
     "cell_type": "code",
     "collapsed": false,
     "input": [],
     "language": "python",
     "metadata": {},
     "outputs": []
    },
    {
     "cell_type": "heading",
     "level": 1,
     "metadata": {},
     "source": [
      "Boneyard"
     ]
    },
    {
     "cell_type": "raw",
     "metadata": {},
     "source": [
      "types = {}\n",
      "def scan(foo):\n",
      "    global types\n",
      "    types[str(type(foo))] = 1\n",
      "    if type(foo) == list:\n",
      "        for i in foo:\n",
      "            scan(i)\n",
      "    elif type(foo) == dict:\n",
      "        for k, v in foo.items():\n",
      "            scan(v)\n",
      "    elif type(foo) == set:\n",
      "        for i in foo:\n",
      "            scan(i)"
     ]
    },
    {
     "cell_type": "raw",
     "metadata": {},
     "source": [
      "types = {}\n",
      "scan(ALL_BUGS)\n",
      "\n",
      "pp.pprint(types)"
     ]
    },
    {
     "cell_type": "code",
     "collapsed": false,
     "input": [],
     "language": "python",
     "metadata": {},
     "outputs": []
    }
   ],
   "metadata": {}
  }
 ]
}