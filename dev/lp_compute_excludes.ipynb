{
 "metadata": {
  "name": "",
  "signature": "sha256:24012aac95894d518c87e74b60dea99a31446945925cacd3ea271b5453fc3e54"
 },
 "nbformat": 3,
 "nbformat_minor": 0,
 "worksheets": [
  {
   "cells": [
    {
     "cell_type": "markdown",
     "metadata": {},
     "source": [
      "#This notebook generates configuration data describing Launchpad object attributes to be excluded when loading object. \n",
      "\n",
      "For use with lp_fetch_object(obj)\n",
      "\n",
      "see: companion notebook lp_download_object"
     ]
    },
    {
     "cell_type": "code",
     "collapsed": false,
     "input": [
      "from launchpadlib.launchpad import Launchpad\n",
      "import pprint as pp\n",
      "import httplib2\n",
      "#httplib2.debuglevel = 1\n",
      "import pickle"
     ],
     "language": "python",
     "metadata": {},
     "outputs": [],
     "prompt_number": 1
    },
    {
     "cell_type": "code",
     "collapsed": false,
     "input": [
      "cachedir = \"/Users/doug/ipython/launchpad/cache/\"\n",
      "lp = Launchpad.login_anonymously('just testing', 'production', cachedir)"
     ],
     "language": "python",
     "metadata": {},
     "outputs": [],
     "prompt_number": 2
    },
    {
     "cell_type": "code",
     "collapsed": false,
     "input": [
      "excludes = {}"
     ],
     "language": "python",
     "metadata": {},
     "outputs": [],
     "prompt_number": 4
    },
    {
     "cell_type": "heading",
     "level": 1,
     "metadata": {},
     "source": [
      "Project Group"
     ]
    },
    {
     "cell_type": "code",
     "collapsed": false,
     "input": [
      "project = lp.distributions['openstack']\n",
      "lp_show_obj_char(project)"
     ],
     "language": "python",
     "metadata": {},
     "outputs": [
      {
       "output_type": "stream",
       "stream": "stdout",
       "text": [
        "https://api.launchpad.net/1.0/#project_group\n",
        "\n",
        "attr: ['self_link', 'web_link', 'resource_type_link', 'http_etag', 'active', 'bug_reported_acknowledgement', 'bug_reporting_guidelines', 'date_created', 'description', 'display_name', 'freshmeat_project', 'homepage_content', 'homepage_url', 'name', 'official_bug_tags', 'reviewed', 'sourceforge_project', 'summary', 'title', 'wiki_url']\n",
        "\n",
        "coll: ['active_milestones', 'all_milestones', 'projects']\n",
        "\n",
        "entr: ['bug_tracker', 'driver', 'icon', 'logo', 'mugshot', 'owner', 'registrant']\n",
        "\n",
        "ops: ['searchTasks', 'getMergeProposals', 'getSubscriptions', 'getBranches', 'userHasBugSubscriptions', 'getSubscription', 'getMilestone', 'addBugSubscription', 'removeBugSubscription', 'addBugSubscriptionFilter']\n"
       ]
      }
     ],
     "prompt_number": 5
    },
    {
     "cell_type": "code",
     "collapsed": false,
     "input": [
      "excl_attr = ['web_link', 'resource_type_link', 'http_etag',\n",
      "             'bug_reported_acknowledgement', 'bug_reporting_guidelines', \n",
      "             'freshmeat_project', 'homepage_content', 'homepage_url', \n",
      "             'official_bug_tags', 'reviewed', 'sourceforge_project', \n",
      "             'wiki_url']\n",
      "excl_coll = ['active_milestones', 'all_milestones']\n",
      "excl_entr = ['bug_tracker', 'driver', 'icon', 'logo', 'mugshot', 'owner', 'registrant']\n",
      "excl = excl_attr + excl_coll + excl_entr\n",
      "excludes['https://api.launchpad.net/1.0/#project_group'] = excl"
     ],
     "language": "python",
     "metadata": {},
     "outputs": [],
     "prompt_number": 6
    },
    {
     "cell_type": "heading",
     "level": 2,
     "metadata": {},
     "source": [
      "Project Page Resource"
     ]
    },
    {
     "cell_type": "code",
     "collapsed": false,
     "input": [
      "projects = project.projects\n",
      "lp_show_obj_char(projects)"
     ],
     "language": "python",
     "metadata": {},
     "outputs": [
      {
       "output_type": "stream",
       "stream": "stdout",
       "text": [
        "https://api.launchpad.net/1.0/#project-page-resource\n",
        "\n",
        "attr: ['resource_type_link', 'total_size', 'start', 'entries']\n",
        "\n",
        "coll: ['next', 'prev']\n",
        "\n",
        "entr: ['entry_']\n",
        "\n",
        "ops: []\n"
       ]
      }
     ],
     "prompt_number": 7
    },
    {
     "cell_type": "code",
     "collapsed": false,
     "input": [
      "excl_attr = ['resource_type_link', 'total_size', 'start', 'entries']\n",
      "excl_coll = ['next', 'prev']\n",
      "excl_entr = ['entry_']\n",
      "excl = excl_attr + excl_coll + excl_entr\n",
      "excludes['https://api.launchpad.net/1.0/#project-page-resource'] = excl"
     ],
     "language": "python",
     "metadata": {},
     "outputs": [],
     "prompt_number": 8
    },
    {
     "cell_type": "heading",
     "level": 1,
     "metadata": {},
     "source": [
      "Bugs - top-level"
     ]
    },
    {
     "cell_type": "code",
     "collapsed": false,
     "input": [
      "bugs = lp.bugs\n",
      "lp_show_obj_char(bugs)"
     ],
     "language": "python",
     "metadata": {},
     "outputs": [
      {
       "output_type": "stream",
       "stream": "stdout",
       "text": [
        "https://api.launchpad.net/1.0/#bugs\n",
        "\n",
        "attr: ['resource_type_link', 'total_size', 'start', 'entries']\n",
        "\n",
        "coll: ['next', 'prev']\n",
        "\n",
        "entr: ['entry_']\n",
        "\n",
        "ops: ['createBug']\n"
       ]
      }
     ],
     "prompt_number": 9
    },
    {
     "cell_type": "code",
     "collapsed": false,
     "input": [
      "excl_attr = ['resource_type_link']\n",
      "excl_coll = ['next', 'prev']\n",
      "excl_entr = []\n",
      "excl = excl_attr + excl_coll + excl_entr\n",
      "excludes['https://api.launchpad.net/1.0/#bugs'] = excl"
     ],
     "language": "python",
     "metadata": {},
     "outputs": [],
     "prompt_number": 10
    },
    {
     "cell_type": "heading",
     "level": 2,
     "metadata": {},
     "source": [
      "Bug (individual) - includes reference to bug task"
     ]
    },
    {
     "cell_type": "code",
     "collapsed": false,
     "input": [
      "bug = lp.bugs['653344']\n",
      "lp_show_obj_char(bug)"
     ],
     "language": "python",
     "metadata": {},
     "outputs": [
      {
       "output_type": "stream",
       "stream": "stdout",
       "text": [
        "https://api.launchpad.net/1.0/#bug\n",
        "\n",
        "attr: ['self_link', 'web_link', 'resource_type_link', 'http_etag', 'can_expire', 'date_created', 'date_last_message', 'date_last_updated', 'date_made_private', 'description', 'heat', 'id', 'information_type', 'latest_patch_uploaded', 'message_count', 'name', 'number_of_duplicates', 'other_users_affected_count_with_dupes', 'private', 'security_related', 'tags', 'title', 'users_affected_count', 'users_affected_count_with_dupes', 'users_unaffected_count']\n",
        "\n",
        "coll: ['activity', 'attachments', 'bug_tasks', 'bug_watches', 'cves', 'duplicates', 'linked_branches', 'messages', 'subscriptions', 'users_affected', 'users_affected_with_dupes', 'users_unaffected']\n",
        "\n",
        "entr: ['duplicate_of', 'owner', 'who_made_private']\n",
        "\n",
        "ops: ['getNominations', 'getHWSubmissions', 'canBeNominatedFor', 'isExpirable', 'getVisibleLinkedBranches', 'getNominationFor', 'setCommentVisibility', 'addAttachment', 'linkBranch', 'linkHWSubmission', 'addWatch', 'unsubscribe', 'unlinkBranch', 'markUserAffected', 'newMessage', 'addNomination', 'subscribe', 'linkCVE', 'unlinkCVE', 'unsubscribeFromDupes', 'isUserAffected', 'addTask', 'unlinkHWSubmission']\n"
       ]
      }
     ],
     "prompt_number": 11
    },
    {
     "cell_type": "code",
     "collapsed": false,
     "input": [
      "excl_attr = ['web_link', 'resource_type_link', 'http_etag', 'can_expire', \n",
      "             'date_last_message', 'date_last_updated', \n",
      "             'date_made_private', 'latest_patch_uploaded', \n",
      "             'number_of_duplicates', 'other_users_affected_count_with_dupes',\n",
      "             'private', 'users_affected_count', \n",
      "             'users_affected_count_with_dupes', 'users_unaffected_count']\n",
      "excl_coll = ['bug_watches', 'duplicates', 'linked_branches', \n",
      "             'subscriptions', 'users_affected', \n",
      "             'users_affected_with_dupes', 'users_unaffected']\n",
      "excl_entr = ['who_made_private']\n",
      "excl = excl_attr + excl_coll + excl_entr\n",
      "excludes['https://api.launchpad.net/1.0/#bug'] = excl"
     ],
     "language": "python",
     "metadata": {},
     "outputs": [],
     "prompt_number": 12
    },
    {
     "cell_type": "heading",
     "level": 2,
     "metadata": {},
     "source": [
      "Message - from bug.messages"
     ]
    },
    {
     "cell_type": "code",
     "collapsed": false,
     "input": [
      "bug = lp.bugs['653344']\n",
      "lp_show_obj_char(bug.messages[0])"
     ],
     "language": "python",
     "metadata": {},
     "outputs": [
      {
       "output_type": "stream",
       "stream": "stdout",
       "text": [
        "https://api.launchpad.net/1.0/#message\n",
        "\n",
        "attr: ['self_link', 'web_link', 'resource_type_link', 'http_etag', 'content', 'date_created', 'subject']\n",
        "\n",
        "coll: ['bug_attachments']\n",
        "\n",
        "entr: ['owner', 'parent']\n",
        "\n",
        "ops: ['getAPIParent']\n"
       ]
      }
     ],
     "prompt_number": 13
    },
    {
     "cell_type": "code",
     "collapsed": false,
     "input": [
      "excl_attr = ['web_link', 'resource_type_link', 'http_etag']\n",
      "excl_coll = []\n",
      "excl_entr = ['owner', 'parent']\n",
      "excl = excl_attr + excl_coll + excl_entr\n",
      "excludes['https://api.launchpad.net/1.0/#message'] = excl"
     ],
     "language": "python",
     "metadata": {},
     "outputs": [],
     "prompt_number": 14
    },
    {
     "cell_type": "heading",
     "level": 1,
     "metadata": {},
     "source": [
      "\n",
      "Project"
     ]
    },
    {
     "cell_type": "code",
     "collapsed": false,
     "input": [
      "project = lp.distributions['nova']\n",
      "lp_show_obj_char(project)"
     ],
     "language": "python",
     "metadata": {},
     "outputs": [
      {
       "output_type": "stream",
       "stream": "stdout",
       "text": [
        "https://api.launchpad.net/1.0/#project\n",
        "\n",
        "attr: ['self_link', 'web_link', 'resource_type_link', 'http_etag', 'active', 'bug_reported_acknowledgement', 'bug_reporting_guidelines', 'commercial_subscription_is_due', 'date_created', 'date_next_suggest_packaging', 'description', 'display_name', 'download_url', 'freshmeat_project', 'homepage_url', 'information_type', 'is_permitted', 'license_approved', 'license_info', 'licenses', 'name', 'official_bug_tags', 'private', 'private_bugs', 'programming_language', 'project_reviewed', 'qualifies_for_free_hosting', 'remote_product', 'reviewer_whiteboard', 'screenshots_url', 'security_contact', 'sourceforge_project', 'summary', 'title', 'wiki_url']\n",
        "\n",
        "coll: ['active_milestones', 'all_milestones', 'recipes', 'releases', 'series']\n",
        "\n",
        "entr: ['brand', 'bug_supervisor', 'bug_tracker', 'commercial_subscription', 'development_focus', 'driver', 'icon', 'logo', 'owner', 'project_group', 'registrant', 'translation_focus']\n",
        "\n",
        "ops: ['searchTasks', 'get_timeline', 'getMergeProposals', 'getSubscriptions', 'getSeries', 'getBranches', 'userHasBugSubscriptions', 'getRelease', 'getTranslationImportQueueEntries', 'getSubscription', 'getMilestone', 'removeOfficialBugTag', 'newCodeImport', 'newSeries', 'addBugSubscriptionFilter', 'addBugSubscription', 'removeBugSubscription', 'addOfficialBugTag']\n"
       ]
      }
     ],
     "prompt_number": 15
    },
    {
     "cell_type": "code",
     "collapsed": false,
     "input": [
      "excl_attr = ['web_link', 'resource_type_link', 'http_etag',\n",
      "             'bug_reported_acknowledgement', 'bug_reporting_guidelines',\n",
      "             'commercial_subscription_is_due', 'date_next_suggest_packaging',\n",
      "             'download_url', 'freshmeat_project', 'is_permitted',\n",
      "             'license_info', 'licenses', 'private', 'private_bugs',\n",
      "             'programming_language', 'project_reviewed',\n",
      "             'qualifies_for_free_hosting', 'remote_product',\n",
      "             'reviewer_whiteboard', 'screenshots_url', 'security_contact',\n",
      "             'sourceforge_project', 'wiki_url']\n",
      "excl_coll = ['active_milestones', 'all_milestones', 'recipes', 'series']\n",
      "excl_entr = ['brand', 'bug_supervisor', 'bug_tracker', 'commercial_subscription',\n",
      "             'development_focus', 'driver', 'icon', 'logo', 'owner', \n",
      "             'registrant', 'translation_focus']\n",
      "excl = excl_attr + excl_coll + excl_entr\n",
      "excludes['https://api.launchpad.net/1.0/#project'] = excl"
     ],
     "language": "python",
     "metadata": {},
     "outputs": [],
     "prompt_number": 16
    },
    {
     "cell_type": "markdown",
     "metadata": {},
     "source": [
      "##Bug Task -- Project level bug entry\n",
      "\n",
      "note:  see also bugs section anove"
     ]
    },
    {
     "cell_type": "code",
     "collapsed": false,
     "input": [
      "project = lp.projects['nova']\n",
      "bugs = project.searchTasks(status = ['New', 'Incomplete', 'Triaged', 'Opinion', 'Invalid', 'Won\\'t Fix', 'Confirmed', 'In Progress', 'Fix Committed', 'Fix Released'])"
     ],
     "language": "python",
     "metadata": {},
     "outputs": [],
     "prompt_number": 17
    },
    {
     "cell_type": "code",
     "collapsed": false,
     "input": [
      "bug = bugs[0]\n",
      "lp_show_obj_char(bug)"
     ],
     "language": "python",
     "metadata": {},
     "outputs": [
      {
       "output_type": "stream",
       "stream": "stdout",
       "text": [
        "https://api.launchpad.net/1.0/#bug_task\n",
        "\n",
        "attr: ['self_link', 'web_link', 'resource_type_link', 'http_etag', 'bug_target_display_name', 'bug_target_name', 'date_assigned', 'date_closed', 'date_confirmed', 'date_created', 'date_fix_committed', 'date_fix_released', 'date_in_progress', 'date_incomplete', 'date_left_closed', 'date_left_new', 'date_triaged', 'importance', 'is_complete', 'status', 'title']\n",
        "\n",
        "coll: ['related_tasks']\n",
        "\n",
        "entr: ['assignee', 'bug', 'bug_watch', 'milestone', 'owner', 'target']\n",
        "\n",
        "ops: ['findSimilarBugs']\n"
       ]
      }
     ],
     "prompt_number": 18
    },
    {
     "cell_type": "code",
     "collapsed": false,
     "input": [
      "excl_attr = ['web_link', 'resource_type_link', 'http_etag',\n",
      "             'date_closed', 'date_confirmed', 'date_created',\n",
      "             'date_fix_committed', 'date_fix_released',\n",
      "             'date_in_progress', 'date_incomplete', 'date_left_closed',\n",
      "             'date_left_new', 'date_triaged']\n",
      "excl_coll = ['related_tasks']\n",
      "excl_entr = ['bug_watch', 'milestone']\n",
      "excl = excl_attr + excl_coll + excl_entr\n",
      "excludes['https://api.launchpad.net/1.0/#bug_task'] = excl"
     ],
     "language": "python",
     "metadata": {},
     "outputs": [],
     "prompt_number": 19
    },
    {
     "cell_type": "heading",
     "level": 1,
     "metadata": {},
     "source": [
      "Save and display result"
     ]
    },
    {
     "cell_type": "code",
     "collapsed": false,
     "input": [
      "pickle.dump(excludes, open( \"lp_excludes.p\", \"wb\" ) )"
     ],
     "language": "python",
     "metadata": {},
     "outputs": [],
     "prompt_number": 20
    },
    {
     "cell_type": "code",
     "collapsed": false,
     "input": [
      "pp.pprint(excludes)"
     ],
     "language": "python",
     "metadata": {},
     "outputs": [
      {
       "output_type": "stream",
       "stream": "stdout",
       "text": [
        "{'https://api.launchpad.net/1.0/#bug': ['web_link',\n",
        "                                        'resource_type_link',\n",
        "                                        'http_etag',\n",
        "                                        'can_expire',\n",
        "                                        'date_last_message',\n",
        "                                        'date_last_updated',\n",
        "                                        'date_made_private',\n",
        "                                        'latest_patch_uploaded',\n",
        "                                        'number_of_duplicates',\n",
        "                                        'other_users_affected_count_with_dupes',\n",
        "                                        'private',\n",
        "                                        'users_affected_count',\n",
        "                                        'users_affected_count_with_dupes',\n",
        "                                        'users_unaffected_count',\n",
        "                                        'bug_watches',\n",
        "                                        'duplicates',\n",
        "                                        'linked_branches',\n",
        "                                        'subscriptions',\n",
        "                                        'users_affected',\n",
        "                                        'users_affected_with_dupes',\n",
        "                                        'users_unaffected',\n",
        "                                        'who_made_private'],\n",
        " 'https://api.launchpad.net/1.0/#bug_task': ['web_link',\n",
        "                                             'resource_type_link',\n",
        "                                             'http_etag',\n",
        "                                             'date_closed',\n",
        "                                             'date_confirmed',\n",
        "                                             'date_created',\n",
        "                                             'date_fix_committed',\n",
        "                                             'date_fix_released',\n",
        "                                             'date_in_progress',\n",
        "                                             'date_incomplete',\n",
        "                                             'date_left_closed',\n",
        "                                             'date_left_new',\n",
        "                                             'date_triaged',\n",
        "                                             'related_tasks',\n",
        "                                             'bug_watch',\n",
        "                                             'milestone'],\n",
        " 'https://api.launchpad.net/1.0/#bugs': ['resource_type_link', 'next', 'prev'],\n",
        " 'https://api.launchpad.net/1.0/#message': ['web_link',\n",
        "                                            'resource_type_link',\n",
        "                                            'http_etag',\n",
        "                                            'owner',\n",
        "                                            'parent'],\n",
        " 'https://api.launchpad.net/1.0/#project': ['web_link',\n",
        "                                            'resource_type_link',\n",
        "                                            'http_etag',\n",
        "                                            'bug_reported_acknowledgement',\n",
        "                                            'bug_reporting_guidelines',\n",
        "                                            'commercial_subscription_is_due',\n",
        "                                            'date_next_suggest_packaging',\n",
        "                                            'download_url',\n",
        "                                            'freshmeat_project',\n",
        "                                            'is_permitted',\n",
        "                                            'license_info',\n",
        "                                            'licenses',\n",
        "                                            'private',\n",
        "                                            'private_bugs',\n",
        "                                            'programming_language',\n",
        "                                            'project_reviewed',\n",
        "                                            'qualifies_for_free_hosting',\n",
        "                                            'remote_product',\n",
        "                                            'reviewer_whiteboard',\n",
        "                                            'screenshots_url',\n",
        "                                            'security_contact',\n",
        "                                            'sourceforge_project',\n",
        "                                            'wiki_url',\n",
        "                                            'active_milestones',\n",
        "                                            'all_milestones',\n",
        "                                            'recipes',\n",
        "                                            'series',\n",
        "                                            'brand',\n",
        "                                            'bug_supervisor',\n",
        "                                            'bug_tracker',\n",
        "                                            'commercial_subscription',\n",
        "                                            'development_focus',\n",
        "                                            'driver',\n",
        "                                            'icon',\n",
        "                                            'logo',\n",
        "                                            'owner',\n",
        "                                            'registrant',\n",
        "                                            'translation_focus'],\n",
        " 'https://api.launchpad.net/1.0/#project-page-resource': ['resource_type_link',\n",
        "                                                          'total_size',\n",
        "                                                          'start',\n",
        "                                                          'entries',\n",
        "                                                          'next',\n",
        "                                                          'prev',\n",
        "                                                          'entry_'],\n",
        " 'https://api.launchpad.net/1.0/#project_group': ['web_link',\n",
        "                                                  'resource_type_link',\n",
        "                                                  'http_etag',\n",
        "                                                  'bug_reported_acknowledgement',\n",
        "                                                  'bug_reporting_guidelines',\n",
        "                                                  'freshmeat_project',\n",
        "                                                  'homepage_content',\n",
        "                                                  'homepage_url',\n",
        "                                                  'official_bug_tags',\n",
        "                                                  'reviewed',\n",
        "                                                  'sourceforge_project',\n",
        "                                                  'wiki_url',\n",
        "                                                  'active_milestones',\n",
        "                                                  'all_milestones',\n",
        "                                                  'bug_tracker',\n",
        "                                                  'driver',\n",
        "                                                  'icon',\n",
        "                                                  'logo',\n",
        "                                                  'mugshot',\n",
        "                                                  'owner',\n",
        "                                                  'registrant']}\n"
       ]
      }
     ],
     "prompt_number": 21
    }
   ],
   "metadata": {}
  }
 ]
}