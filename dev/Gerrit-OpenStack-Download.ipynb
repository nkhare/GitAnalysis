{
 "metadata": {
  "name": "",
  "signature": "sha256:c066c9fb63a2c96ffe429b41535c8208dd3b3df6e57561a0c3080782da6561f1"
 },
 "nbformat": 3,
 "nbformat_minor": 0,
 "worksheets": [
  {
   "cells": [
    {
     "cell_type": "markdown",
     "metadata": {},
     "source": [
      "#Gerrit"
     ]
    },
    {
     "cell_type": "code",
     "collapsed": false,
     "input": [
      "import pprint as pp\n",
      "import pygerrit\n",
      "from pygerrit.rest import GerritRestAPI\n",
      "import cPickle as pickle\n",
      "import time"
     ],
     "language": "python",
     "metadata": {},
     "outputs": [],
     "prompt_number": 1
    },
    {
     "cell_type": "markdown",
     "metadata": {},
     "source": [
      "source: https://pypi.python.org/pypi/pygerrit/0.2.1\n",
      "and https://gerrit-review.googlesource.com/Documentation/rest-api.html"
     ]
    },
    {
     "cell_type": "markdown",
     "metadata": {},
     "source": [
      "sample gerrit query: http://review.gluster.org/#/q/project:glusterfs+branch:master+topic:bug-1100144,n,z"
     ]
    },
    {
     "cell_type": "markdown",
     "metadata": {},
     "source": [
      "Documentation for v 2.8 REST API: https://gerrit-documentation.storage.googleapis.com/Documentation/2.8/rest-api-changes.html#list-changes"
     ]
    },
    {
     "cell_type": "heading",
     "level": 1,
     "metadata": {},
     "source": [
      "Code"
     ]
    },
    {
     "cell_type": "code",
     "collapsed": false,
     "input": [
      "def get_version():\n",
      "    global rest\n",
      "    proj = rest.get(\"/config/server/version\")"
     ],
     "language": "python",
     "metadata": {},
     "outputs": [],
     "prompt_number": 2
    },
    {
     "cell_type": "code",
     "collapsed": false,
     "input": [
      "def get_projects(filter='openstack/'):\n",
      "    global rest\n",
      "    proj = rest.get(\"/projects/?\")\n",
      "    if filter:\n",
      "        return [x for x in proj.keys() if filter in x]\n",
      "    else:\n",
      "        return proj.keys()"
     ],
     "language": "python",
     "metadata": {},
     "outputs": [],
     "prompt_number": 3
    },
    {
     "cell_type": "code",
     "collapsed": false,
     "input": [
      "def get_all_changes(project=\"openstack/nova\", limit=1000000000):\n",
      "    global rest\n",
      "    result = []\n",
      "    total = 0\n",
      "    sortkey = ''\n",
      "    count = 1\n",
      "    query = \"/changes/?q=project:{\" + project + \"}+is:merged\"\n",
      "    \n",
      "    while count > 0 and total < limit:\n",
      "        if sortkey:\n",
      "            suffix = '+resume_sortkey:'+sortkey\n",
      "        else:\n",
      "            suffix = ''\n",
      "            \n",
      "        #print query+suffix\n",
      "        changes = rest.get(query+suffix)\n",
      "        \n",
      "        count = len(changes)\n",
      "        if count > 0:\n",
      "            result += changes\n",
      "            sortkey = changes[-1]['_sortkey']\n",
      "        total += count\n",
      "        #print 'returned:', len(changes), 'total:', total\n",
      "        print '.',\n",
      "    \n",
      "    print\n",
      "    print 'total changes:', total\n",
      "    return result"
     ],
     "language": "python",
     "metadata": {},
     "outputs": [],
     "prompt_number": 4
    },
    {
     "cell_type": "code",
     "collapsed": false,
     "input": [
      "#note: this function for really needed since equivalent to entries\n",
      "# in get_all_changes\n",
      "\n",
      "def get_change(changeno):\n",
      "    global rest\n",
      "    query = \"/changes/\" + str(changeno)\n",
      "    return rest.get(query)"
     ],
     "language": "python",
     "metadata": {},
     "outputs": [],
     "prompt_number": 5
    },
    {
     "cell_type": "code",
     "collapsed": false,
     "input": [
      "def compress_vote_set(d):\n",
      "    result = {}\n",
      "    if 'all' in d:\n",
      "        result['all'] = [{'_account_id': z['_account_id'],'name':z['name'],'value':z['value']} for z in d['all'] if z['value'] != 0]\n",
      "    if 'approved' in d:\n",
      "        result['approved'] = {'_account_id': d['approved']['_account_id'],'name':d['approved']['name']} \n",
      "    if 'recommended' in d:\n",
      "        result['recommended'] = d['recommended']\n",
      "    if 'value' in d:\n",
      "        result['value'] = d['value']\n",
      "    return result\n",
      "\n",
      "#{'_account_id': z['_account_id'],'name':z['name'],'value':z['value']}\n",
      "\n",
      "def compress_votes(d):\n",
      "    result = {}\n",
      "    if 'Workflow' in d:\n",
      "            result['Workflow'] = compress_vote_set(d['Workflow'])\n",
      "    if 'Verified' in d:\n",
      "            result['Verified'] = compress_vote_set(d['Verified'])\n",
      "    if 'Code-Review' in d:\n",
      "            result['Code-Review'] = compress_vote_set(d['Code-Review'])\n",
      "        \n",
      "    return result"
     ],
     "language": "python",
     "metadata": {},
     "outputs": [],
     "prompt_number": 6
    },
    {
     "cell_type": "code",
     "collapsed": false,
     "input": [
      "def compress_messages(messages):\n",
      "    \n",
      "    standard =     [msg for msg in messages if '_revision_number' in msg]\n",
      "    non_standard = [msg for msg in messages if '_revision_number' not in msg]\n",
      "    return [msg for msg in standard\n",
      "            if msg['_revision_number'] == standard[-1]['_revision_number']] + non_standard "
     ],
     "language": "python",
     "metadata": {},
     "outputs": [],
     "prompt_number": 7
    },
    {
     "cell_type": "code",
     "collapsed": false,
     "input": [
      "def get_change_detail(changeno, _prune=True):\n",
      "    global rest\n",
      "    query = \"/changes/\" + str(changeno) + '/detail'\n",
      "    x = rest.get(query)\n",
      "    \n",
      "    if _prune:\n",
      "        x = prune(x)\n",
      "\n",
      "    return x "
     ],
     "language": "python",
     "metadata": {},
     "outputs": [],
     "prompt_number": 8
    },
    {
     "cell_type": "code",
     "collapsed": false,
     "input": [
      "#test code\n",
      "def prune(x):\n",
      "    #print x['_number']\n",
      "    if '_sortkey' in x:\n",
      "        del x['_sortkey'] \n",
      "    if 'id' in x:   \n",
      "        del x['id'] \n",
      "    if 'kind' in x:   \n",
      "        del x['kind']    \n",
      "    if 'removable_reviewers' in x:\n",
      "        del x['removable_reviewers']  \n",
      "    if 'permitted_labels' in x: \n",
      "        del x['permitted_labels'] \n",
      "        \n",
      "    owner = {}\n",
      "    if '_account_id' in x['owner']:\n",
      "        owner['_account_id'] = x['owner']['_account_id']\n",
      "    if 'name' in x['owner']:\n",
      "        owner['name'] = x['owner']['name']\n",
      "    x['owner']  = owner\n",
      "    \n",
      "    x['labels'] = compress_votes(x['labels'])\n",
      "    \n",
      "    try:\n",
      "        x['messages'] = compress_messages(x['messages'])\n",
      "    except Exception, e:\n",
      "        print e\n",
      "        print  x['_number']\n",
      "        print type(x['messages'])\n",
      "        pp.pprint(x['messages'])\n",
      "        raise Exception\n",
      "    \n",
      "    return x "
     ],
     "language": "python",
     "metadata": {},
     "outputs": [],
     "prompt_number": 9
    },
    {
     "cell_type": "heading",
     "level": 1,
     "metadata": {},
     "source": [
      "Test Code"
     ]
    },
    {
     "cell_type": "code",
     "collapsed": false,
     "input": [
      "rest = GerritRestAPI(url='http://review.openstack.org')"
     ],
     "language": "python",
     "metadata": {},
     "outputs": [],
     "prompt_number": 10
    },
    {
     "cell_type": "code",
     "collapsed": false,
     "input": [
      "get_version()"
     ],
     "language": "python",
     "metadata": {},
     "outputs": [],
     "prompt_number": 11
    },
    {
     "cell_type": "code",
     "collapsed": false,
     "input": [
      "projects = get_projects(filter='nova')   \n",
      "print len(projects)\n",
      "print(projects)"
     ],
     "language": "python",
     "metadata": {},
     "outputs": [
      {
       "output_type": "stream",
       "stream": "stdout",
       "text": [
        "9\n",
        "[u'stackforge/novaimagebuilder', u'openstack/nova', u'stackforge/nova-solver-scheduler', u'stackforge/blazar-nova', u'openstack/nova-specs', u'stackforge/openvz-nova-driver', u'stackforge/puppet-nova', u'openstack/python-novaclient', u'stackforge/nova-docker']\n"
       ]
      }
     ],
     "prompt_number": 12
    },
    {
     "cell_type": "code",
     "collapsed": false,
     "input": [
      "all_changes = get_all_changes(limit=1000)\n",
      "print len(all_changes)"
     ],
     "language": "python",
     "metadata": {},
     "outputs": [
      {
       "output_type": "stream",
       "stream": "stdout",
       "text": [
        ". "
       ]
      },
      {
       "output_type": "stream",
       "stream": "stdout",
       "text": [
        ".\n",
        "total changes: 1000\n",
        "1000\n"
       ]
      }
     ],
     "prompt_number": 13
    },
    {
     "cell_type": "code",
     "collapsed": false,
     "input": [
      "kinds = {}\n",
      "vals = {}\n",
      "\n",
      "for i in all_changes:\n",
      "    kinds[i['kind']] = 1\n",
      "    vals[i['project']] = 1\n",
      "\n",
      "print kinds.keys()\n",
      "print vals.keys()"
     ],
     "language": "python",
     "metadata": {},
     "outputs": [
      {
       "output_type": "stream",
       "stream": "stdout",
       "text": [
        "[u'gerritcodereview#change']\n",
        "[u'openstack/nova']\n"
       ]
      }
     ],
     "prompt_number": 14
    },
    {
     "cell_type": "code",
     "collapsed": false,
     "input": [
      "pp.pprint(all_changes[0]['change_id'])"
     ],
     "language": "python",
     "metadata": {},
     "outputs": [
      {
       "output_type": "stream",
       "stream": "stdout",
       "text": [
        "u'Ieabf95b1e3e5893ced16c0571c29b13b252df5d1'\n"
       ]
      }
     ],
     "prompt_number": 15
    },
    {
     "cell_type": "code",
     "collapsed": false,
     "input": [
      "pp.pprint(get_change(all_changes[0]['change_id']))"
     ],
     "language": "python",
     "metadata": {},
     "outputs": [
      {
       "output_type": "stream",
       "stream": "stdout",
       "text": [
        "{u'_number': 89844,\n",
        " u'_sortkey': u'002ef83200015ef4',\n",
        " u'branch': u'master',\n",
        " u'change_id': u'Ieabf95b1e3e5893ced16c0571c29b13b252df5d1',\n",
        " u'created': u'2014-04-23 13:51:40.000000000',\n",
        " u'id': u'openstack%2Fnova~master~Ieabf95b1e3e5893ced16c0571c29b13b252df5d1',\n",
        " u'kind': u'gerritcodereview#change',\n",
        " u'owner': {u'name': u'Facundo Maldonado'},\n",
        " u'project': u'openstack/nova',\n",
        " u'status': u'MERGED',\n",
        " u'subject': u'Parse unicode cpu_info as json before using it',\n",
        " u'topic': u'bug/1279719',\n",
        " u'updated': u'2014-08-08 15:14:33.000000000'}\n"
       ]
      }
     ],
     "prompt_number": 16
    },
    {
     "cell_type": "code",
     "collapsed": false,
     "input": [
      "x = get_change_detail(all_changes[0]['change_id'])\n",
      "\n",
      "print len(x)\n",
      "pp.pprint(x) "
     ],
     "language": "python",
     "metadata": {},
     "outputs": [
      {
       "output_type": "stream",
       "stream": "stdout",
       "text": [
        "12\n",
        "{u'_number': 89844,\n",
        " u'branch': u'master',\n",
        " u'change_id': u'Ieabf95b1e3e5893ced16c0571c29b13b252df5d1',\n",
        " u'created': u'2014-04-23 13:51:40.000000000',\n",
        " u'labels': {'Code-Review': {'all': [{'_account_id': 1849,\n",
        "                                      'name': u'Joe Gordon',\n",
        "                                      'value': 2},\n",
        "                                     {'_account_id': 9409,\n",
        "                                      'name': u'Facundo Maldonado',\n",
        "                                      'value': 1},\n",
        "                                     {'_account_id': 5511,\n",
        "                                      'name': u'Nikola Dipanov',\n",
        "                                      'value': 2},\n",
        "                                     {'_account_id': 7166,\n",
        "                                      'name': u'Sylvain Bauza',\n",
        "                                      'value': 1}],\n",
        "                             'approved': {'_account_id': 1849,\n",
        "                                          'name': u'Joe Gordon'}},\n",
        "             'Verified': {'all': [{'_account_id': 3,\n",
        "                                   'name': u'Jenkins',\n",
        "                                   'value': 2},\n",
        "                                  {'_account_id': 10385,\n",
        "                                   'name': u'XenServer CI',\n",
        "                                   'value': 1},\n",
        "                                  {'_account_id': 5170,\n",
        "                                   'name': u'Hyper-V CI',\n",
        "                                   'value': 1}],\n",
        "                          'approved': {'_account_id': 3, 'name': u'Jenkins'}},\n",
        "             'Workflow': {'all': [{'_account_id': 1849,\n",
        "                                   'name': u'Joe Gordon',\n",
        "                                   'value': 1}],\n",
        "                          'approved': {'_account_id': 1849,\n",
        "                                       'name': u'Joe Gordon'}}},\n",
        " u'messages': [{u'_revision_number': 7,\n",
        "                u'author': {u'_account_id': 12299,\n",
        "                            u'avatars': [],\n",
        "                            u'email': u'pawel.koniszewski@intel.com',\n",
        "                            u'name': u'Pawel Koniszewski',\n",
        "                            u'username': u'pawel.koniszewski'},\n",
        "                u'date': u'2014-07-25 06:51:39.000000000',\n",
        "                u'id': u'baada198_d0a2273e',\n",
        "                u'message': u'Uploaded patch set 7.'},\n",
        "               {u'_revision_number': 7,\n",
        "                u'author': {u'_account_id': 3,\n",
        "                            u'avatars': [],\n",
        "                            u'name': u'Jenkins',\n",
        "                            u'username': u'jenkins'},\n",
        "                u'date': u'2014-07-25 06:51:42.000000000',\n",
        "                u'id': u'baada198_f062cb14',\n",
        "                u'message': u'Patch Set 7:\\n\\nStarting check jobs.\\nhttp://status.openstack.org/zuul/'},\n",
        "               {u'_revision_number': 7,\n",
        "                u'author': {u'_account_id': 9578,\n",
        "                            u'avatars': [],\n",
        "                            u'email': u'turbo-hipster@lists.rcbops.com',\n",
        "                            u'name': u'turbo-hipster',\n",
        "                            u'username': u'turbo-hipster'},\n",
        "                u'date': u'2014-07-25 07:11:24.000000000',\n",
        "                u'id': u'baada198_abfe28ad',\n",
        "                u'message': u\"Patch Set 7: Verified+1\\n\\nDatabase migration testing successful.\\n\\n- real-db-upgrade_nova_mysql_devstack_131007:th-mysql http://www.rcbops.com/turbo_hipster/results/44/89844/7/check/real-db-upgrade_nova_mysql_devstack_131007:th-mysql/a4e051f0148246d8af0edec424a7ff77/131007_devstack_export.log : SUCCESS in 9m 23s\\n- real-db-upgrade_nova_mysql_user_001:th-mysql http://www.rcbops.com/turbo_hipster/results/44/89844/7/check/real-db-upgrade_nova_mysql_user_001:th-mysql/f95e734dd91140f0a6fb8454c6692cdd/user_001.log : SUCCESS in 18m 26s\\n- real-db-upgrade_nova_percona_devstack_131007:th-percona http://www.rcbops.com/turbo_hipster/results/44/89844/7/check/real-db-upgrade_nova_percona_devstack_131007:th-percona/06044f10f3114934bc379ce97680d7d9/131007_devstack_export.log : SUCCESS in 9m 16s\\n- real-db-upgrade_nova_percona_user_001:th-percona http://www.rcbops.com/turbo_hipster/results/44/89844/7/check/real-db-upgrade_nova_percona_user_001:th-percona/9f462a071e9d4905aa0e08e248976e9f/user_001.log : SUCCESS in 18m 55s\\n- real-db-upgrade_nova_mysql_user_002:th-mysql http://www.rcbops.com/turbo_hipster/results/44/89844/7/check/real-db-upgrade_nova_mysql_user_002:th-mysql/e1eebc1bfead4a9988602df3937fc2c9/user_002.log : SUCCESS in 13m 08s\\n- real-db-upgrade_nova_percona_user_002:th-percona http://www.rcbops.com/turbo_hipster/results/44/89844/7/check/real-db-upgrade_nova_percona_user_002:th-percona/7b30b2ed83c1496e9209c48d78dd3da3/user_002.log : SUCCESS in 13m 04s\\n\\nTo recheck, leave 'recheck migrations' as a comment. More information: https://wiki.openstack.org/wiki/Nova/Turbo-Hipster\"},\n",
        "               {u'_revision_number': 7,\n",
        "                u'author': {u'_account_id': 7166,\n",
        "                            u'avatars': [],\n",
        "                            u'email': u'sbauza@redhat.com',\n",
        "                            u'name': u'Sylvain Bauza',\n",
        "                            u'username': u'sbauza'},\n",
        "                u'date': u'2014-07-25 07:28:35.000000000',\n",
        "                u'id': u'baada198_6640c535',\n",
        "                u'message': u'Patch Set 7: Code-Review+1'},\n",
        "               {u'_revision_number': 7,\n",
        "                u'author': {u'_account_id': 3,\n",
        "                            u'avatars': [],\n",
        "                            u'name': u'Jenkins',\n",
        "                            u'username': u'jenkins'},\n",
        "                u'date': u'2014-07-25 07:49:12.000000000',\n",
        "                u'id': u'baada198_465bc185',\n",
        "                u'message': u'Patch Set 7: Verified+1\\n\\nBuild succeeded.\\n\\n- gate-nova-pep8 http://logs.openstack.org/44/89844/7/check/gate-nova-pep8/74b50e7 : SUCCESS in 12m 12s\\n- gate-nova-docs http://docs-draft.openstack.org/44/89844/7/check/gate-nova-docs/1629e3c/doc/build/html/ : SUCCESS in 10m 39s\\n- gate-nova-python26 http://logs.openstack.org/44/89844/7/check/gate-nova-python26/c58306a : SUCCESS in 14m 57s\\n- gate-nova-python27 http://logs.openstack.org/44/89844/7/check/gate-nova-python27/05ed30c : SUCCESS in 18m 55s\\n- check-tempest-dsvm-full http://logs.openstack.org/44/89844/7/check/check-tempest-dsvm-full/1d7cba8 : SUCCESS in 48m 29s\\n- check-tempest-dsvm-postgres-full http://logs.openstack.org/44/89844/7/check/check-tempest-dsvm-postgres-full/028fecb : SUCCESS in 47m 27s\\n- check-tempest-dsvm-neutron http://logs.openstack.org/44/89844/7/check/check-tempest-dsvm-neutron/3f2e124 : SUCCESS in 56m 52s\\n- check-tempest-dsvm-neutron-heat-slow http://logs.openstack.org/44/89844/7/check/check-tempest-dsvm-neutron-heat-slow/3293905 : SUCCESS in 24m 29s\\n- check-grenade-dsvm http://logs.openstack.org/44/89844/7/check/check-grenade-dsvm/30dbd10 : SUCCESS in 42m 47s\\n- check-devstack-dsvm-cells http://logs.openstack.org/44/89844/7/check/check-devstack-dsvm-cells/188b95a : SUCCESS in 15m 19s\\n- gate-tempest-dsvm-large-ops http://logs.openstack.org/44/89844/7/check/gate-tempest-dsvm-large-ops/cbd8147 : SUCCESS in 24m 13s\\n- gate-tempest-dsvm-neutron-large-ops http://logs.openstack.org/44/89844/7/check/gate-tempest-dsvm-neutron-large-ops/ad5bf9d : SUCCESS in 22m 39s\\n- gate-nova-pylint http://logs.openstack.org/44/89844/7/check/gate-nova-pylint/4897fb2 : SUCCESS in 21m 49s (non-voting)\\n- check-grenade-dsvm-partial-ncpu http://logs.openstack.org/44/89844/7/check/check-grenade-dsvm-partial-ncpu/6198ff3 : SUCCESS in 41m 03s\\n- check-tempest-dsvm-virtual-ironic-nv http://logs.openstack.org/44/89844/7/check/check-tempest-dsvm-virtual-ironic-nv/11060e4 : SUCCESS in 31m 28s (non-voting)'},\n",
        "               {u'_revision_number': 7,\n",
        "                u'author': {u'_account_id': 5170,\n",
        "                            u'avatars': [],\n",
        "                            u'email': u'hyper-v_ci@microsoft.com',\n",
        "                            u'name': u'Hyper-V CI',\n",
        "                            u'username': u'hyper-v-ci'},\n",
        "                u'date': u'2014-07-25 08:00:15.000000000',\n",
        "                u'id': u'baada198_042c6292',\n",
        "                u'message': u'Patch Set 7: Verified+1\\n\\nBuild succeeded.\\n\\n- http://64.119.130.115/89844/7/ : Looks good to me in 1h 08m 04s'},\n",
        "               {u'_revision_number': 7,\n",
        "                u'author': {u'_account_id': 10385,\n",
        "                            u'avatars': [],\n",
        "                            u'email': u'openstack@citrix.com',\n",
        "                            u'name': u'XenServer CI',\n",
        "                            u'username': u'citrix_xenserver_ci'},\n",
        "                u'date': u'2014-07-25 08:25:23.000000000',\n",
        "                u'id': u'baada198_44f2da6f',\n",
        "                u'message': u'Patch Set 7: Verified+1\\n\\nPassed using XenAPI driver with XenServer 6.2: Logs at http://dd6b71949550285df7dc-dda4e480e005aaa13ec303551d2d8155.r49.cf1.rackcdn.com/44/89844/7/19146/results.html\\n\\nStandard recheck supported; use \"recheck xenserver\" to trigger only xenserver re-check.  XenServer CI contact: openstack@citrix.com.\\n\\nDebugging suggestions at https://wiki.openstack.org/wiki/Debugging_XenServer_CI_failures'},\n",
        "               {u'_revision_number': 7,\n",
        "                u'author': {u'_account_id': 7641,\n",
        "                            u'avatars': [],\n",
        "                            u'email': u'shuangtai.tian@intel.com',\n",
        "                            u'name': u'Shuangtai Tian',\n",
        "                            u'username': u'shuangtai'},\n",
        "                u'date': u'2014-07-28 06:36:20.000000000',\n",
        "                u'id': u'baada198_974dcc74',\n",
        "                u'message': u'Patch Set 7: Code-Review+1'},\n",
        "               {u'_revision_number': 7,\n",
        "                u'author': {u'_account_id': 6062,\n",
        "                            u'avatars': [],\n",
        "                            u'email': u'jichenjc@cn.ibm.com',\n",
        "                            u'name': u'jichenjc',\n",
        "                            u'username': u'jichenjc'},\n",
        "                u'date': u'2014-07-28 08:00:02.000000000',\n",
        "                u'id': u'baada198_c9eecc8a',\n",
        "                u'message': u'Patch Set 7: Code-Review-1\\n\\n(3 comments)'},\n",
        "               {u'_revision_number': 7,\n",
        "                u'author': {u'_account_id': 3,\n",
        "                            u'avatars': [],\n",
        "                            u'name': u'Jenkins',\n",
        "                            u'username': u'jenkins'},\n",
        "                u'date': u'2014-07-28 08:00:04.000000000',\n",
        "                u'id': u'baada198_09e524a3',\n",
        "                u'message': u'Patch Set 7: -Verified\\n\\nStarting check jobs.\\nhttp://status.openstack.org/zuul/'},\n",
        "               {u'_revision_number': 7,\n",
        "                u'author': {u'_account_id': 3,\n",
        "                            u'avatars': [],\n",
        "                            u'name': u'Jenkins',\n",
        "                            u'username': u'jenkins'},\n",
        "                u'date': u'2014-07-28 08:53:17.000000000',\n",
        "                u'id': u'baada198_ffe41ea9',\n",
        "                u'message': u'Patch Set 7: Verified+1\\n\\nBuild succeeded.\\n\\n- gate-nova-pep8 http://logs.openstack.org/44/89844/7/check/gate-nova-pep8/a260c43 : SUCCESS in 7m 52s\\n- gate-nova-docs http://docs-draft.openstack.org/44/89844/7/check/gate-nova-docs/ee6efe3/doc/build/html/ : SUCCESS in 11m 16s\\n- gate-nova-python26 http://logs.openstack.org/44/89844/7/check/gate-nova-python26/aa82bdb : SUCCESS in 15m 10s\\n- gate-nova-python27 http://logs.openstack.org/44/89844/7/check/gate-nova-python27/57a3c70 : SUCCESS in 19m 14s\\n- check-tempest-dsvm-full http://logs.openstack.org/44/89844/7/check/check-tempest-dsvm-full/daf9fa7 : SUCCESS in 38m 46s\\n- check-tempest-dsvm-postgres-full http://logs.openstack.org/44/89844/7/check/check-tempest-dsvm-postgres-full/dd0509c : SUCCESS in 50m 14s\\n- check-tempest-dsvm-neutron http://logs.openstack.org/44/89844/7/check/check-tempest-dsvm-neutron/3267f7a : SUCCESS in 52m 48s\\n- check-tempest-dsvm-neutron-heat-slow http://logs.openstack.org/44/89844/7/check/check-tempest-dsvm-neutron-heat-slow/6310b16 : SUCCESS in 22m 58s\\n- check-grenade-dsvm http://logs.openstack.org/44/89844/7/check/check-grenade-dsvm/045a021 : SUCCESS in 33m 17s\\n- check-devstack-dsvm-cells http://logs.openstack.org/44/89844/7/check/check-devstack-dsvm-cells/3582468 : SUCCESS in 11m 57s\\n- gate-tempest-dsvm-large-ops http://logs.openstack.org/44/89844/7/check/gate-tempest-dsvm-large-ops/a50f26e : SUCCESS in 23m 04s\\n- gate-tempest-dsvm-neutron-large-ops http://logs.openstack.org/44/89844/7/check/gate-tempest-dsvm-neutron-large-ops/8becf9c : SUCCESS in 16m 48s\\n- gate-nova-pylint http://logs.openstack.org/44/89844/7/check/gate-nova-pylint/c73f951 : SUCCESS in 14m 32s (non-voting)\\n- check-grenade-dsvm-partial-ncpu http://logs.openstack.org/44/89844/7/check/check-grenade-dsvm-partial-ncpu/b7366e5 : SUCCESS in 38m 50s\\n- check-tempest-dsvm-virtual-ironic-nv http://logs.openstack.org/44/89844/7/check/check-tempest-dsvm-virtual-ironic-nv/2352684 : SUCCESS in 29m 36s (non-voting)'},\n",
        "               {u'_revision_number': 7,\n",
        "                u'author': {u'_account_id': 9008,\n",
        "                            u'avatars': [],\n",
        "                            u'name': u'VMware Mine Sweeper',\n",
        "                            u'username': u'vmwareminesweeper'},\n",
        "                u'date': u'2014-08-08 15:14:33.000000000',\n",
        "                u'id': u'baada198_f9664827',\n",
        "                u'message': u'Patch Set 7:\\n\\nBuild failed. Logs: http://208.91.1.172/logs/89844/7 For information on how to proceed, see https://wiki.openstack.org/wiki/NovaVMware/Minesweeper#What_to_do_when_a_build_fails'}],\n",
        " u'owner': {'_account_id': 9409, 'name': u'Facundo Maldonado'},\n",
        " u'project': u'openstack/nova',\n",
        " u'status': u'MERGED',\n",
        " u'subject': u'Parse unicode cpu_info as json before using it',\n",
        " u'topic': u'bug/1279719',\n",
        " u'updated': u'2014-08-08 15:14:33.000000000'}\n"
       ]
      }
     ],
     "prompt_number": 17
    },
    {
     "cell_type": "raw",
     "metadata": {},
     "source": [
      "query = \"/changes/\" + all_changes[0]['change_id'] + '/detail'\n",
      "x = rest.get(query)\n",
      "print len(x)\n",
      "pp.pprint(x)"
     ]
    },
    {
     "cell_type": "heading",
     "level": 1,
     "metadata": {},
     "source": [
      "Downloader"
     ]
    },
    {
     "cell_type": "code",
     "collapsed": false,
     "input": [
      "if False:\n",
      "    all_changes = get_all_changes()\n",
      "    print len(all_changes)\n",
      "    pickle.dump(all_changes, open('changes.pkl', 'wb'))\n",
      "else:\n",
      "    all_changes = pickle.load(open('changes.pkl', 'rb'))\n",
      "    print len(all_changes)"
     ],
     "language": "python",
     "metadata": {},
     "outputs": [
      {
       "output_type": "stream",
       "stream": "stdout",
       "text": [
        "10442\n"
       ]
      }
     ],
     "prompt_number": 18
    },
    {
     "cell_type": "code",
     "collapsed": false,
     "input": [
      "if False:\n",
      "    all_change_details = []\n",
      "    for changeno in [x['change_id'] for x in all_changes]:\n",
      "        try:\n",
      "            all_change_details.append(get_change_detail(changeno))\n",
      "        except Exception, e:\n",
      "            pass\n",
      "    print len(all_change_details)\n",
      "    pickle.dump(all_change_details, open('change_details.pkl', 'wb'))\n",
      "else:\n",
      "    all_change_details = pickle.load(open('change_details.pkl', 'rb'))\n",
      "    print len(all_change_details)"
     ],
     "language": "python",
     "metadata": {},
     "outputs": [
      {
       "output_type": "stream",
       "stream": "stdout",
       "text": [
        "10434\n"
       ]
      }
     ],
     "prompt_number": 19
    },
    {
     "cell_type": "raw",
     "metadata": {},
     "source": [
      "if True:\n",
      "    all_changes = pickle.load(open('changes.pkl', 'rb'))\n",
      "    print len(all_changes)\n",
      "\n",
      "    all_change_details = pickle.load(open('change_details.pkl', 'rb'))\n",
      "    print len(all_change_details)"
     ]
    },
    {
     "cell_type": "code",
     "collapsed": false,
     "input": [
      "if True:\n",
      "    found = dict([[x['change_id'], 1] for x in all_change_details])\n",
      "    missing = [str(x['_number']) for x in all_changes if x['change_id'] not in found]\n",
      "else:\n",
      "    found = dict([[x['_number'], 1] for x in all_change_details])\n",
      "    missing = [str(x['_number']) for x in all_changes if x['_number'] not in found]\n",
      "\n",
      "print 'Missing:',len(missing)\n",
      "#print missing[0]"
     ],
     "language": "python",
     "metadata": {},
     "outputs": [
      {
       "output_type": "stream",
       "stream": "stdout",
       "text": [
        "Missing: 0\n"
       ]
      }
     ],
     "prompt_number": 20
    },
    {
     "cell_type": "code",
     "collapsed": false,
     "input": [
      "all_change_details_plus = []\n",
      "i = 0\n",
      "skipped = 0\n",
      "for changeno in missing:\n",
      "    try:\n",
      "        #time.sleep(0.03)\n",
      "        all_change_details_plus.append(get_change_detail(changeno, _prune=True))\n",
      "    except Exception, e:\n",
      "        skipped += 1\n",
      "    if i % 100 == 0:\n",
      "        print '.',\n",
      "    i += 1\n",
      "    \n",
      "print 'Downloaded:', len(all_change_details_plus)\n",
      "print 'Skipped:', skipped"
     ],
     "language": "python",
     "metadata": {},
     "outputs": [
      {
       "output_type": "stream",
       "stream": "stdout",
       "text": [
        "Downloaded: 0\n",
        "Skipped: 0\n"
       ]
      }
     ],
     "prompt_number": 21
    },
    {
     "cell_type": "code",
     "collapsed": false,
     "input": [
      "# merge incremental updates\n",
      "if True:\n",
      "    all_change_details = pickle.load(open('change_details.pkl', 'rb'))\n",
      "    all_change_details = all_change_details + all_change_details_plus\n",
      "    pickle.dump(all_change_details, open('change_details.pkl', 'wb'))"
     ],
     "language": "python",
     "metadata": {},
     "outputs": [],
     "prompt_number": 45
    },
    {
     "cell_type": "heading",
     "level": 1,
     "metadata": {},
     "source": [
      "Boneyard"
     ]
    },
    {
     "cell_type": "raw",
     "metadata": {},
     "source": [
      "x = [x for x in all_change_details_plus if x['_number'] != '45836']"
     ]
    },
    {
     "cell_type": "raw",
     "metadata": {},
     "source": [
      "z = [prune(x) for x in all_change_details_plus]\n",
      "print"
     ]
    },
    {
     "cell_type": "raw",
     "metadata": {},
     "source": [
      "pp.pprint(all_change_details_plus[0])"
     ]
    },
    {
     "cell_type": "raw",
     "metadata": {},
     "source": [
      "pickle.dump(all_change_details, open('change_details.pkl', 'wb'))"
     ]
    },
    {
     "cell_type": "raw",
     "metadata": {},
     "source": [
      "get_change_detail(str(25419))"
     ]
    },
    {
     "cell_type": "code",
     "collapsed": false,
     "input": [],
     "language": "python",
     "metadata": {},
     "outputs": []
    }
   ],
   "metadata": {}
  }
 ]
}